{
  "cells": [
    {
      "cell_type": "code",
      "execution_count": null,
      "metadata": {
        "id": "oVCMGn9B8Mrt"
      },
      "outputs": [],
      "source": [
        "#Everything in python is a object, OOP gives the power to the programmer to create his own datatypes\n",
        "l=[1,2,3]\n",
        "#l here is an object of class list\n",
        "#all the datatypes are classes\n",
        "#append,sort,max,min.... are all functions written within list class\n",
        "#For instance if you take car as a class, it's color, top speed would be attribute and calculate average speed would be function\n",
        "#object is an instance of class\n",
        "#gunda=car()(where car is name of class and gunda is an object belonging to car class)\n",
        "#class name is mostly written in pascal case Atm or MyAtm"
      ]
    },
    {
      "cell_type": "code",
      "execution_count": null,
      "metadata": {
        "id": "Uk5bc5Fvmk-4"
      },
      "outputs": [],
      "source": [
        "class Atm:\n",
        "  #constructor, The codes within the constructor automatically gets execute the moment object is formed from this class a\n",
        "  def __init__(self):\n",
        "    self.pin=''\n",
        "    self.balance=0\n",
        "    print(\"Has been executed\")\n",
        "  def menu(self):\n",
        "    user_input=input('''Enter your choice:\n",
        "    1.Enter 1 to create pin\n",
        "    2.Enter 2 to change pin\n",
        "    3.Enter 3 check balance\n",
        "    4.Enter 4 to withdraw\n",
        "    5.Enter 5 to exit''')"
      ]
    },
    {
      "cell_type": "code",
      "execution_count": null,
      "metadata": {
        "colab": {
          "base_uri": "https://localhost:8080/"
        },
        "id": "2OTMs1_sncqB",
        "outputId": "39885cc0-b288-42b1-9b6e-e380be02c998"
      },
      "outputs": [
        {
          "name": "stdout",
          "output_type": "stream",
          "text": [
            "Has been executed\n"
          ]
        }
      ],
      "source": [
        "obj=Atm()"
      ]
    },
    {
      "cell_type": "code",
      "execution_count": null,
      "metadata": {
        "id": "oTFW6nn3nguz"
      },
      "outputs": [],
      "source": [
        "obj."
      ]
    },
    {
      "cell_type": "code",
      "execution_count": null,
      "metadata": {
        "colab": {
          "base_uri": "https://localhost:8080/"
        },
        "id": "3FinuE-ynlyq",
        "outputId": "e623ba6d-354d-4c13-fb22-73fa01e12c59"
      },
      "outputs": [
        {
          "name": "stdout",
          "output_type": "stream",
          "text": [
            "<class '__main__.Atm'>\n"
          ]
        }
      ],
      "source": [
        "print(type(obj))"
      ]
    },
    {
      "cell_type": "code",
      "execution_count": null,
      "metadata": {
        "id": "J_vfpM-e8JKX"
      },
      "outputs": [],
      "source": [
        "class Atm2:\n",
        "  def __init__(self):\n",
        "    self.pin=''\n",
        "    self.balance=0\n",
        "    self.menu()\n",
        "  def menu(self):\n",
        "    user_input=int(input(\"\"\"Enter your choice:\n",
        "    1.Enter 1 to create pin\n",
        "    2.Enter 2 to change pin\n",
        "    3.Enter 3 to check balance\n",
        "    4.Enter 4 to withdraw\n",
        "    5.Enter 5 to exit\"\"\"))\n",
        "\n",
        "    if user_input==1:\n",
        "      self.create_pin()\n",
        "    elif user_input==2:\n",
        "      self.change_pin()\n",
        "    elif user_input==3:\n",
        "      self.check_balance()\n",
        "    elif user_input==4:\n",
        "      self.withdraw()\n",
        "    else:\n",
        "      exit()\n",
        "  def create_pin(self):\n",
        "    user_pin=input(\"Enter pin: \")\n",
        "    self.pin=user_pin\n",
        "    user_bal=int(input(\"Enter balance: \"))\n",
        "    self.balance=user_bal\n",
        "    self.menu()\n",
        "  def change_pin(self):\n",
        "    old_pin=input(\"Enter old pin: \")\n",
        "    if old_pin==self.pin:\n",
        "      new_pin=input(\"Enter new pin: \")\n",
        "      self.pin=new_pin\n",
        "      self.menu()\n",
        "    else:\n",
        "      print(\"Nahi karne de sakta \")\n",
        "      self.menu()\n",
        "  def check_balance(self):\n",
        "    user_pin=input(\"Enter pin: \")\n",
        "    if user_pin==self.pin:\n",
        "      print(\"The balance is \",self.balance)\n",
        "    else:\n",
        "      print(\"Who are you? I will wage crusades against you \")\n",
        "  def withdraw(self):\n",
        "    user_pin=input(\"Enter pin\")\n",
        "    if user_pin==self.pin:\n",
        "      amount=int(input(\"Enter amount: \"))\n",
        "      if amount<self.balance:\n",
        "        self.balance=self.balance-amount\n",
        "        print(\"The money has been withdrawn \")\n",
        "      else:\n",
        "        print(\"You are gareeb insaan\")\n",
        "    else:\n",
        "      print(\"You seem to be a chor \")\n",
        "    self.menu()"
      ]
    },
    {
      "cell_type": "code",
      "execution_count": null,
      "metadata": {
        "colab": {
          "base_uri": "https://localhost:8080/"
        },
        "id": "HdTPw-t-82NZ",
        "outputId": "2f76236f-c8b5-4cee-f951-dedc78cb239f"
      },
      "outputs": [
        {
          "name": "stdout",
          "output_type": "stream",
          "text": [
            "Enter your choice:\n",
            "    1.Enter 1 to create pin\n",
            "    2.Enter 2 to change pin\n",
            "    3.Enter 3 to check balance\n",
            "    4.Enter 4 to withdraw\n",
            "    5.Enter 5 to exit1\n",
            "Enter pin: 1234\n",
            "Enter balance: 40000\n",
            "Enter your choice:\n",
            "    1.Enter 1 to create pin\n",
            "    2.Enter 2 to change pin\n",
            "    3.Enter 3 to check balance\n",
            "    4.Enter 4 to withdraw\n",
            "    5.Enter 5 to exit4\n",
            "Enter pin1234\n",
            "Enter amount: 10000\n",
            "The money has been withdrawn \n",
            "Enter your choice:\n",
            "    1.Enter 1 to create pin\n",
            "    2.Enter 2 to change pin\n",
            "    3.Enter 3 to check balance\n",
            "    4.Enter 4 to withdraw\n",
            "    5.Enter 5 to exit3\n",
            "Enter pin: 1234\n",
            "The balance is  30000\n"
          ]
        }
      ],
      "source": [
        "obj1=Atm2()"
      ]
    },
    {
      "cell_type": "code",
      "execution_count": null,
      "metadata": {
        "id": "DeZIR1nJWBj6"
      },
      "outputs": [],
      "source": [
        "#exit() is used to terminate a programme\n",
        "#methods are function declared within a class\n",
        "l=[1,2,3]\n",
        "len(l)\n",
        "l.append(4)\n",
        "#here append is a method while len is a function"
      ]
    },
    {
      "cell_type": "code",
      "execution_count": null,
      "metadata": {
        "id": "y_G7Q9bi78Op"
      },
      "outputs": [],
      "source": [
        "#constructor is used for writing configuration related code which doesnot require the interference of user for example code to connect with database or configuration code to connect\n",
        "#with internet. The user doesnot have any control on constructor function, this function gets executed the memonet you create a object from a class, also called dunder function or magic function\n",
        "#constructo is used for writing configuration codes the control of which we donot want to give to the user.\n",
        "#Golden rule of object oriented programming is that only objects of a class can access data and methods of a class not even functions within a class can communicate with other functions\n",
        "#of a class. self solves the same limitation of the object oriented programming as seen above where the constructor can be seen calling menu() attribute using self.menu() hence felicitating communication\n",
        "#among functions of the same class.... self is the object itself , if u have a look at id(self) memory address of self and the object itself it would be the same\n",
        "#so if a function within a class has to communicate with another method within the same class, it can be done by using self....if we have to call one function from within another function\n",
        "#of the same class, we do it using self....for instance if we have to call menu function from constructor, we can do it by using self.menu()\n",
        "#If a function wants to interact with another function with a class, we do that by using self, by using self that function interacts with the other function by using object\n",
        "#if obj is an object of Atm class and changepin is one of the methods of Atm class then obj.changepin() would automatically pass obj as argument of changepin method hence\n",
        "#when self is not passed as an argument to any method within class and if that method is called from outside using object of that class using obj.changepin() then it would give a error\n",
        "#saying \"0 positional arguments required, got one\""
      ]
    },
    {
      "cell_type": "code",
      "execution_count": null,
      "metadata": {
        "id": "0kY-ImmFMtqA"
      },
      "outputs": [],
      "source": [
        "class Atm4:\n",
        "  def __init__(self):\n",
        "    self.pin=''\n",
        "    self.balance=0\n",
        "    self.menu()\n",
        "  def menu(self):\n",
        "    user_input=int(input(\"\"\"Enter your choice:\n",
        "    1.Enter 1 to create pin\n",
        "    2.Enter 2 to change pin\n",
        "    3.Enter 3 to check balance\n",
        "    4.Enter 4 to withdraw\n",
        "    5.Enter 5 to exit\"\"\"))\n",
        "\n",
        "    if user_input==1:\n",
        "      self.create_pin()\n",
        "    elif user_input==2:\n",
        "      self.change_pin()\n",
        "    elif user_input==3:\n",
        "      self.check_balance()\n",
        "    elif user_input==4:\n",
        "      self.withdraw()\n",
        "    else:\n",
        "      exit()\n",
        "  def create_pin(self):\n",
        "    user_pin=input(\"Enter pin: \")\n",
        "    self.pin=user_pin\n",
        "    user_bal=int(input(\"Enter balance: \"))\n",
        "    self.balance=user_bal\n",
        "    self.menu()\n",
        "  def change_pin(self):\n",
        "    old_pin=input(\"Enter old pin: \")\n",
        "    if old_pin==self.pin:\n",
        "      new_pin=input(\"Enter new pin: \")\n",
        "      self.pin=new_pin\n",
        "      self.menu()\n",
        "    else:\n",
        "      print(\"Nahi karne de sakta \")\n",
        "      self.menu()\n",
        "  def check_balance(self):\n",
        "    user_pin=input(\"Enter pin: \")\n",
        "    if user_pin==self.pin:\n",
        "      print(\"The balance is \",self.balance)\n",
        "    else:\n",
        "      print(\"Who are you? I will wage crusades against you \")\n",
        "  def withdraw(self):\n",
        "    user_pin=input(\"Enter pin\")\n",
        "    if user_pin==self.pin:\n",
        "      amount=int(input(\"Enter amount: \"))\n",
        "      if amount<self.balance:\n",
        "        self.balance=self.balance-amount\n",
        "        print(\"The money has been withdrawn \")\n",
        "      else:\n",
        "        print(\"You are gareeb insaan\")\n",
        "    else:\n",
        "      print(\"You seem to be a chor \")\n",
        "    self.menu()"
      ]
    },
    {
      "cell_type": "code",
      "execution_count": null,
      "metadata": {
        "colab": {
          "base_uri": "https://localhost:8080/"
        },
        "id": "6SDnxxydMzO9",
        "outputId": "9fe8f969-c513-42ee-9f06-0d9ced7d3843"
      },
      "outputs": [
        {
          "name": "stdout",
          "output_type": "stream",
          "text": [
            "Enter your choice:\n",
            "    1.Enter 1 to create pin\n",
            "    2.Enter 2 to change pin\n",
            "    3.Enter 3 to check balance\n",
            "    4.Enter 4 to withdraw\n",
            "    5.Enter 5 to exit5\n"
          ]
        }
      ],
      "source": [
        "obj4=Atm4()"
      ]
    },
    {
      "cell_type": "code",
      "execution_count": null,
      "metadata": {
        "colab": {
          "base_uri": "https://localhost:8080/",
          "height": 175
        },
        "id": "BRxUUj49M51C",
        "outputId": "082d9e70-2050-4850-8d17-8c64516b5279"
      },
      "outputs": [
        {
          "ename": "NameError",
          "evalue": "ignored",
          "output_type": "error",
          "traceback": [
            "\u001b[0;31m---------------------------------------------------------------------------\u001b[0m",
            "\u001b[0;31mNameError\u001b[0m                                 Traceback (most recent call last)",
            "\u001b[0;32m<ipython-input-1-0e17bfb111e8>\u001b[0m in \u001b[0;36m<cell line: 1>\u001b[0;34m()\u001b[0m\n\u001b[0;32m----> 1\u001b[0;31m \u001b[0mobj4\u001b[0m\u001b[0;34m.\u001b[0m\u001b[0mchange_pin\u001b[0m\u001b[0;34m(\u001b[0m\u001b[0;34m)\u001b[0m\u001b[0;34m\u001b[0m\u001b[0;34m\u001b[0m\u001b[0m\n\u001b[0m",
            "\u001b[0;31mNameError\u001b[0m: name 'obj4' is not defined"
          ]
        }
      ],
      "source": [
        "obj4.change_pin()\n",
        "#we have used self.pin in this class to allow variable pin to be used by other functions as well, had it not been for self. we would have got error when pin or balance was invoked\n",
        "#by other function, self is used to establish intraclass communication, self points at current object, everytime you create a new object self will point at current object"
      ]
    },
    {
      "cell_type": "code",
      "execution_count": null,
      "metadata": {
        "id": "x85QAP2pNA6L"
      },
      "outputs": [],
      "source": [
        "#self is the current object, self is an instance of class\n",
        "class fraction:\n",
        "  def __init__(self,x,y):\n",
        "    self.num=x\n",
        "    self.den=y\n",
        "  def __str__(self):\n",
        "    return f\"{self.num}/{self.den}\"\n",
        "  def __add__(self,other):\n",
        "    new_num=self.num*other.den+self.den*other.num\n",
        "    new_den=self.den*other.den\n",
        "    return f\"{new_num}/{new_den}\"\n",
        "  def __sub__(self,other):\n",
        "    new_num=self.num*other.den-self.den*other.num\n",
        "    new_den=self.den*other.den\n",
        "    return f\"{new_num}/{new_den}\"\n",
        "  def __mul__(self,other):\n",
        "    new_num=self.num*other.num\n",
        "    new_den=self.den*other.den\n",
        "    return f\"{new_num}/{new_den}\"\n",
        "  def __truediv__(self,other):\n",
        "    new_num=self.num*other.den\n",
        "    new_den=self.den*other.num\n",
        "    return f\"{new_num}/{new_den}\"\n",
        "  def convert_to_decimal(self):\n",
        "    return self.num/self.den"
      ]
    },
    {
      "cell_type": "code",
      "execution_count": null,
      "metadata": {
        "id": "MIg9g8GSjMyN"
      },
      "outputs": [],
      "source": [
        "obj1=fraction(3,4)"
      ]
    },
    {
      "cell_type": "code",
      "execution_count": null,
      "metadata": {
        "colab": {
          "base_uri": "https://localhost:8080/"
        },
        "id": "r0Dc9wV5jRxt",
        "outputId": "ef78dee4-864f-4823-ac18-993a9841348a"
      },
      "outputs": [
        {
          "name": "stdout",
          "output_type": "stream",
          "text": [
            "3/4\n"
          ]
        }
      ],
      "source": [
        "print(obj1)\n",
        "#when you try to print object then __str__ magic method will be executed automatically"
      ]
    },
    {
      "cell_type": "code",
      "execution_count": null,
      "metadata": {
        "id": "XXBSYaHxPFt0"
      },
      "outputs": [],
      "source": [
        "obj1=fraction(1,2)\n",
        "obj2=fraction(3,4)"
      ]
    },
    {
      "cell_type": "code",
      "execution_count": null,
      "metadata": {
        "colab": {
          "base_uri": "https://localhost:8080/"
        },
        "id": "uDBz-AODPOy9",
        "outputId": "98843e7a-eef2-492b-a9d3-e061512633df"
      },
      "outputs": [
        {
          "name": "stdout",
          "output_type": "stream",
          "text": [
            "10/8\n"
          ]
        }
      ],
      "source": [
        "print(obj1+obj2)"
      ]
    },
    {
      "cell_type": "code",
      "execution_count": null,
      "metadata": {
        "id": "R3QENaXePif-"
      },
      "outputs": [],
      "source": [
        "obj20=fraction(1,2)\n",
        "obj22=fraction(7,11)"
      ]
    },
    {
      "cell_type": "code",
      "execution_count": null,
      "metadata": {
        "colab": {
          "base_uri": "https://localhost:8080/"
        },
        "id": "uRp0pP0oSKT7",
        "outputId": "2fc80c56-838d-4a7f-9508-47315cb1b788"
      },
      "outputs": [
        {
          "name": "stdout",
          "output_type": "stream",
          "text": [
            "7/22\n"
          ]
        }
      ],
      "source": [
        "print(obj20*obj22)"
      ]
    },
    {
      "cell_type": "code",
      "execution_count": null,
      "metadata": {
        "colab": {
          "base_uri": "https://localhost:8080/"
        },
        "id": "xTZWIs8GSQo0",
        "outputId": "07f88673-0a0c-45a6-823b-dc90358b7143"
      },
      "outputs": [
        {
          "name": "stdout",
          "output_type": "stream",
          "text": [
            "-3/22\n"
          ]
        }
      ],
      "source": [
        "print(obj20-obj22)"
      ]
    },
    {
      "cell_type": "code",
      "execution_count": null,
      "metadata": {
        "id": "9sboZfldSnvI"
      },
      "outputs": [],
      "source": [
        "obj24=fraction(1,2)\n",
        "obj26=fraction(3,4)"
      ]
    },
    {
      "cell_type": "code",
      "execution_count": null,
      "metadata": {
        "colab": {
          "base_uri": "https://localhost:8080/"
        },
        "id": "DeHwAWiUSxAk",
        "outputId": "c0e30801-271b-460b-d8f4-d98a47c88760"
      },
      "outputs": [
        {
          "name": "stdout",
          "output_type": "stream",
          "text": [
            "-2/8\n"
          ]
        }
      ],
      "source": [
        "print(obj24-obj26)"
      ]
    },
    {
      "cell_type": "code",
      "execution_count": null,
      "metadata": {
        "id": "daZEebgnVV87"
      },
      "outputs": [],
      "source": [
        "obj28=fraction(1,2)\n",
        "obj30=fraction(7,11)"
      ]
    },
    {
      "cell_type": "code",
      "execution_count": null,
      "metadata": {
        "colab": {
          "base_uri": "https://localhost:8080/"
        },
        "id": "8lv31Fi9Vd2w",
        "outputId": "08e624a4-41bb-4048-e4db-84f7964e8c19"
      },
      "outputs": [
        {
          "name": "stdout",
          "output_type": "stream",
          "text": [
            "11/14\n"
          ]
        }
      ],
      "source": [
        "print(obj28/obj30)"
      ]
    },
    {
      "cell_type": "code",
      "execution_count": null,
      "metadata": {
        "id": "zmvn5wFMWZwu"
      },
      "outputs": [],
      "source": [
        "obj42=fraction(3,4)"
      ]
    },
    {
      "cell_type": "code",
      "execution_count": null,
      "metadata": {
        "colab": {
          "base_uri": "https://localhost:8080/"
        },
        "id": "GGpR8GpuWf-m",
        "outputId": "00678f2d-d463-430f-e8fb-20b79a4823c0"
      },
      "outputs": [
        {
          "data": {
            "text/plain": [
              "0.75"
            ]
          },
          "execution_count": 22,
          "metadata": {},
          "output_type": "execute_result"
        }
      ],
      "source": [
        "obj42.convert_to_decimal()"
      ]
    },
    {
      "cell_type": "code",
      "execution_count": null,
      "metadata": {
        "id": "GIGl-bYQ75P_"
      },
      "outputs": [],
      "source": [
        "class Rectangle:\n",
        "  def __init__(self,x,y):\n",
        "    self.length=x\n",
        "    self.width=y\n",
        "  def perimeter(self):\n",
        "    return 2*(self.length+self.width)\n",
        "  def area(self):\n",
        "    return self.length*self.width\n",
        "  def display(self):\n",
        "    print(\"The length of rectangle is \",self.length)\n",
        "    print(\"The width of rectangle is \",self.width)\n",
        "    print(\"The perimeter of rectangle is \",self.perimeter())\n",
        "    print(\"The area of rectangle is \",self.area())"
      ]
    },
    {
      "cell_type": "code",
      "execution_count": null,
      "metadata": {
        "id": "og8Ryd8sFW8P"
      },
      "outputs": [],
      "source": [
        "obj222=Rectangle(3,4)"
      ]
    },
    {
      "cell_type": "code",
      "execution_count": null,
      "metadata": {
        "colab": {
          "base_uri": "https://localhost:8080/"
        },
        "id": "ZJdb9p4iFzIi",
        "outputId": "99abfa4b-42da-4615-f713-db9ebda637cd"
      },
      "outputs": [
        {
          "name": "stdout",
          "output_type": "stream",
          "text": [
            "The length of rectangle is  3\n",
            "The width of rectangle is  4\n",
            "The perimeter of rectangle is  14\n",
            "The area of rectangle is  12\n"
          ]
        }
      ],
      "source": [
        "obj222.display()"
      ]
    },
    {
      "cell_type": "code",
      "execution_count": null,
      "metadata": {
        "id": "Ws9bb9I9F5R4"
      },
      "outputs": [],
      "source": [
        "class BankAccount:\n",
        "  def __init__(self,x,y,z):\n",
        "    self.accountNumber=x\n",
        "    self.name=y\n",
        "    self.balance=z\n",
        "  def Deposit(self,x1):\n",
        "      self.balance+=x1\n",
        "  def Withdrawal(self,x):\n",
        "      if x<self.balance:\n",
        "        self.balance=self.balance-x\n",
        "        print(\"The amount has been withdrawn \")\n",
        "      else:\n",
        "        print(\"Balance kum hai bohot, itna hai \",self.balance,\" isse kum withdraw kar \")\n",
        "  def display(self):\n",
        "    print(\"Account Number \",self.accountNumber)\n",
        "    print(\"Account Name \",self.name)\n",
        "    print(\"Account Balance \",self.balance ,\"₹\")\n",
        "\n",
        "\n"
      ]
    },
    {
      "cell_type": "code",
      "execution_count": null,
      "metadata": {
        "colab": {
          "base_uri": "https://localhost:8080/"
        },
        "id": "uZhKJZtFrsqU",
        "outputId": "ab62f628-44f9-4080-fe53-e75face435ff"
      },
      "outputs": [
        {
          "name": "stdout",
          "output_type": "stream",
          "text": [
            "The amount has been withdrawn \n",
            "Account Number  2178514584\n",
            "Account Name  Mandy\n",
            "Account Balance  3100 ₹\n"
          ]
        }
      ],
      "source": [
        "newAccount = BankAccount(2178514584, \"Mandy\" , 2800)\n",
        "\n",
        "newAccount.Withdrawal(700)\n",
        "\n",
        "newAccount.Deposit(1000)\n",
        "\n",
        "newAccount.display()"
      ]
    },
    {
      "cell_type": "code",
      "execution_count": null,
      "metadata": {
        "id": "3Un_bNi2s0JQ"
      },
      "outputs": [],
      "source": [
        "class Computation:\n",
        "  def __init__(self):\n",
        "    self.amas=\"uigh\"\n",
        "    self.khamas=\"iuo\"\n",
        "  def Factorial(self,n):\n",
        "    if n==0 or n==1:\n",
        "      return 1\n",
        "    else:\n",
        "      return n*self.Factorial(n-1)\n",
        "  def naturalSum(self,n):\n",
        "    return n*(n+1)/2\n",
        "  def testPrime(self,n):\n",
        "    Prime=True\n",
        "    for i in range(2,int(n/2)):\n",
        "      if n%i==0:\n",
        "        Prime=False\n",
        "        break\n",
        "    if Prime:\n",
        "      print(n,\" is a prime number\")\n",
        "    else:\n",
        "      print(n,\" is not a prime number\")\n",
        "  def testPrims(self,x,y):\n",
        "    if x>1:\n",
        "      if y%x==0:\n",
        "        print(x,\" and \",y,\" are not prime to each other\")\n",
        "      else:\n",
        "        print(x,\" and \",y,\" are prime to each other\")\n",
        "    else:\n",
        "      print(x,\" should be greater than 1\")\n"
      ]
    },
    {
      "cell_type": "code",
      "execution_count": null,
      "metadata": {
        "colab": {
          "base_uri": "https://localhost:8080/"
        },
        "id": "YCqndzqqDe0T",
        "outputId": "16b4ac19-b762-4c37-8011-1fc4100727f5"
      },
      "outputs": [
        {
          "data": {
            "text/plain": [
              "120"
            ]
          },
          "execution_count": 12,
          "metadata": {},
          "output_type": "execute_result"
        }
      ],
      "source": [
        "c1=Computation()\n",
        "c1.Factorial(5)"
      ]
    },
    {
      "cell_type": "code",
      "execution_count": null,
      "metadata": {
        "colab": {
          "base_uri": "https://localhost:8080/"
        },
        "id": "nMzw2I8kD-Yj",
        "outputId": "f1521418-db75-4892-dda4-1168e7c7735e"
      },
      "outputs": [
        {
          "name": "stdout",
          "output_type": "stream",
          "text": [
            "40  is not a prime number\n"
          ]
        }
      ],
      "source": [
        "c1.testPrime(40)"
      ]
    },
    {
      "cell_type": "code",
      "execution_count": null,
      "metadata": {
        "colab": {
          "base_uri": "https://localhost:8080/"
        },
        "id": "lMBflqTtECHI",
        "outputId": "e476f90b-69aa-4804-cfaa-445f1b202719"
      },
      "outputs": [
        {
          "name": "stdout",
          "output_type": "stream",
          "text": [
            "4  and  9  are not prime to each other\n"
          ]
        }
      ],
      "source": [
        "c1.testPrims(4,9)"
      ]
    },
    {
      "cell_type": "code",
      "execution_count": null,
      "metadata": {
        "colab": {
          "base_uri": "https://localhost:8080/"
        },
        "id": "9afOTgcXEOXZ",
        "outputId": "4587732a-1287-4182-af7b-5f9b67bd248a"
      },
      "outputs": [
        {
          "data": {
            "text/plain": [
              "15.0"
            ]
          },
          "execution_count": 16,
          "metadata": {},
          "output_type": "execute_result"
        }
      ],
      "source": [
        "c1.naturalSum(5)"
      ]
    },
    {
      "cell_type": "code",
      "execution_count": null,
      "metadata": {
        "id": "r0FkQ-WvEd_Z"
      },
      "outputs": [],
      "source": [
        "import random\n",
        "class FlashCard:\n",
        "  def __init__(self):\n",
        "    self.fruits={'apple': 'red','banana': 'yellow','orange': 'orange','grape': 'purple','kiwi': 'green','blueberry': 'blue','watermelon': 'green','strawberry': 'red'}\n",
        "    self.prompter()\n",
        "  def prompter(self):\n",
        "    fruiter=random.choice(list(self.fruits.keys()))\n",
        "    valuer=self.fruits[fruiter]\n",
        "    kmn=input(f\"Enter the color of the fruit {fruiter}: \")\n",
        "    if kmn==valuer:\n",
        "      print(\"Correct color\")\n",
        "    else:\n",
        "      print(\"Wrong color\")\n"
      ]
    },
    {
      "cell_type": "code",
      "execution_count": null,
      "metadata": {
        "colab": {
          "base_uri": "https://localhost:8080/"
        },
        "id": "PPXQ2xqTr4Hd",
        "outputId": "022b6668-3df2-4baa-d1ae-ae0346af28ef"
      },
      "outputs": [
        {
          "name": "stdout",
          "output_type": "stream",
          "text": [
            "Enter the color of the fruit kiwi: kallu\n",
            "Wrong color\n"
          ]
        }
      ],
      "source": [
        "kfn=FlashCard()"
      ]
    },
    {
      "cell_type": "code",
      "execution_count": null,
      "metadata": {
        "id": "8rvzEC8Lyahz"
      },
      "outputs": [],
      "source": [
        "class TechWorld:\n",
        "  def __init__(self,x,y,k):\n",
        "\n"
      ]
    },
    {
      "cell_type": "code",
      "execution_count": null,
      "metadata": {
        "id": "fmhG1tPaXRyS"
      },
      "outputs": [],
      "source": [
        "class Rectangle:\n",
        "  def __init__(self,x,y):\n",
        "    self.__length=x\n",
        "    self.__width=y\n",
        "  def __perimeter(self):\n",
        "    return 2*(self.__length+self.__width)\n",
        "  def __area(self):\n",
        "    return self.__length*self.__width\n",
        "  def display(self):\n",
        "    print(\"length \",self.__length)\n",
        "    print(\"width \",self.__width)\n",
        "    print(\"perimeter \",self.__perimeter())\n",
        "    print(\"area \",self.__area())\n",
        "\n"
      ]
    },
    {
      "cell_type": "code",
      "execution_count": null,
      "metadata": {
        "colab": {
          "base_uri": "https://localhost:8080/"
        },
        "id": "r2l0vJt3e84I",
        "outputId": "48bac30b-5ed9-4843-a607-b6cee89957d1"
      },
      "outputs": [
        {
          "name": "stdout",
          "output_type": "stream",
          "text": [
            "length  3\n",
            "width  4\n",
            "perimeter  14\n",
            "area  12\n"
          ]
        }
      ],
      "source": [
        "dm1=Rectangle(3,4)\n",
        "dm1.display()\n",
        "#as you can when u precede __ before an attribute or a method, u make that attribute or method private , These private methods or attributes cannot be accessed outside the class\n",
        "#ev"
      ]
    },
    {
      "cell_type": "code",
      "execution_count": null,
      "metadata": {
        "id": "7OID_09efivb"
      },
      "outputs": [],
      "source": [
        "class BankAccount:\n",
        "  def __init__(self,x,y,z):\n",
        "    self.__accountNumber=x\n",
        "    self.__name=y\n",
        "    self.__balance=z\n",
        "  def Deposit(self,amount):\n",
        "    self.__balance=self.__balance+amount\n",
        "  def Withdrawal(self,amount):\n",
        "    if amount>self.__balance:\n",
        "      print(\"Less\")\n",
        "    else:\n",
        "      self.__balance=self.__balance-amount\n",
        "      remain=self.__bankFees()\n",
        "      self.__balance=self.__balance-remain\n",
        "  def __bankFees(self):\n",
        "    return 0.05*self.__balance\n",
        "  def display(self):\n",
        "    print(\"Account Number :\" , self.__accountNumber)\n",
        "    print(\"Account Name : \",self.__name)\n",
        "    print(\"Account Balance : \",self.__balance,\" ₹\")"
      ]
    },
    {
      "cell_type": "code",
      "execution_count": null,
      "metadata": {
        "colab": {
          "base_uri": "https://localhost:8080/"
        },
        "id": "SsVtLkz5M3bT",
        "outputId": "e5bfef72-431e-47d3-982b-b72784673744"
      },
      "outputs": [
        {
          "name": "stdout",
          "output_type": "stream",
          "text": [
            "Account Number : 2178514584\n",
            "Account Name :  Mandy\n",
            "Account Balance :  855.0  ₹\n"
          ]
        }
      ],
      "source": [
        "newAccount = BankAccount(2178514584, \"Mandy\" , 500)\n",
        "\n",
        "newAccount.Deposit(500)\n",
        "newAccount.Withdrawal(100)\n",
        "\n",
        "newAccount.display()"
      ]
    },
    {
      "cell_type": "code",
      "execution_count": null,
      "metadata": {
        "id": "DaRxiunYSX5g"
      },
      "outputs": [],
      "source": [
        "class Computation:\n",
        "  def __init__(self):\n",
        "    pass\n",
        "  def Factorial(self,n):\n",
        "    if n==0 or n==1:\n",
        "      return 1\n",
        "    else:\n",
        "      return n*self.Factorial(n-1)\n",
        "  def naturalSum(self,n):\n",
        "    return n*(n+1)/2\n",
        "  def testPrime(self,n):\n",
        "    Prime=True\n",
        "    for i in range(2,n):\n",
        "      if n%i==0:\n",
        "        Prime=False\n",
        "        break\n",
        "    if Prime:\n",
        "      return True\n",
        "    else:\n",
        "      return False\n",
        "  def testPrims(self,n,m):\n",
        "    if n%m==0:\n",
        "      print(f\"{n} and {m} are co-primes \")\n",
        "    else:\n",
        "      print(f\"{n} and {m} are not co-primes\")\n",
        "  def tableMult(self,n):\n",
        "    for i in range(1,11):\n",
        "      print(f\"{i}x{n} = \",i*n)\n",
        "  def allTablesMult(self):\n",
        "    for i in range(1,10):\n",
        "      for j in range(1,11):\n",
        "        print(f\"{i}X{j}= \",i*j)\n",
        "  def listDivisor(self,n):\n",
        "    Ldiv=[]\n",
        "    for i in range(1,n+1):\n",
        "      if n%i==0:\n",
        "        Ldiv.append(i)\n",
        "    return Ldiv\n",
        "  def listPrimeDivisor(self,n):\n",
        "    ldiv1=[]\n",
        "    for i in range(1,n+1):\n",
        "      if n%i==0 and self.testPrime(i):\n",
        "        ldiv1.append(i)\n",
        "    return ldiv1\n"
      ]
    },
    {
      "cell_type": "code",
      "execution_count": null,
      "metadata": {
        "colab": {
          "base_uri": "https://localhost:8080/"
        },
        "id": "I5j-cGH-qyBd",
        "outputId": "c588d29a-2855-4fa7-962d-b61c172a51e0"
      },
      "outputs": [
        {
          "name": "stdout",
          "output_type": "stream",
          "text": [
            "13 and 7 are not co-primes\n",
            "List of divisors of 18: [1, 2, 3, 6, 9, 18]\n",
            "List of prime divisors of 18: [1, 2, 3]\n",
            "1X1=  1\n",
            "1X2=  2\n",
            "1X3=  3\n",
            "1X4=  4\n",
            "1X5=  5\n",
            "1X6=  6\n",
            "1X7=  7\n",
            "1X8=  8\n",
            "1X9=  9\n",
            "1X10=  10\n",
            "2X1=  2\n",
            "2X2=  4\n",
            "2X3=  6\n",
            "2X4=  8\n",
            "2X5=  10\n",
            "2X6=  12\n",
            "2X7=  14\n",
            "2X8=  16\n",
            "2X9=  18\n",
            "2X10=  20\n",
            "3X1=  3\n",
            "3X2=  6\n",
            "3X3=  9\n",
            "3X4=  12\n",
            "3X5=  15\n",
            "3X6=  18\n",
            "3X7=  21\n",
            "3X8=  24\n",
            "3X9=  27\n",
            "3X10=  30\n",
            "4X1=  4\n",
            "4X2=  8\n",
            "4X3=  12\n",
            "4X4=  16\n",
            "4X5=  20\n",
            "4X6=  24\n",
            "4X7=  28\n",
            "4X8=  32\n",
            "4X9=  36\n",
            "4X10=  40\n",
            "5X1=  5\n",
            "5X2=  10\n",
            "5X3=  15\n",
            "5X4=  20\n",
            "5X5=  25\n",
            "5X6=  30\n",
            "5X7=  35\n",
            "5X8=  40\n",
            "5X9=  45\n",
            "5X10=  50\n",
            "6X1=  6\n",
            "6X2=  12\n",
            "6X3=  18\n",
            "6X4=  24\n",
            "6X5=  30\n",
            "6X6=  36\n",
            "6X7=  42\n",
            "6X8=  48\n",
            "6X9=  54\n",
            "6X10=  60\n",
            "7X1=  7\n",
            "7X2=  14\n",
            "7X3=  21\n",
            "7X4=  28\n",
            "7X5=  35\n",
            "7X6=  42\n",
            "7X7=  49\n",
            "7X8=  56\n",
            "7X9=  63\n",
            "7X10=  70\n",
            "8X1=  8\n",
            "8X2=  16\n",
            "8X3=  24\n",
            "8X4=  32\n",
            "8X5=  40\n",
            "8X6=  48\n",
            "8X7=  56\n",
            "8X8=  64\n",
            "8X9=  72\n",
            "8X10=  80\n",
            "9X1=  9\n",
            "9X2=  18\n",
            "9X3=  27\n",
            "9X4=  36\n",
            "9X5=  45\n",
            "9X6=  54\n",
            "9X7=  63\n",
            "9X8=  72\n",
            "9X9=  81\n",
            "9X10=  90\n"
          ]
        }
      ],
      "source": [
        "Comput= Computation ()\n",
        "Comput.testPrims(13, 7)\n",
        "print (\"List of divisors of 18:\", Comput.listDivisor(18))\n",
        "print (\"List of prime divisors of 18:\", Comput.listPrimeDivisor(18))\n",
        "Comput.allTablesMult()"
      ]
    },
    {
      "cell_type": "code",
      "execution_count": null,
      "metadata": {
        "colab": {
          "base_uri": "https://localhost:8080/"
        },
        "id": "likyinxzx1D5",
        "outputId": "21a398a4-8ebf-4c2a-d48b-83d74eadf841"
      },
      "outputs": [
        {
          "name": "stdout",
          "output_type": "stream",
          "text": [
            "('banana', 'yellow')\n"
          ]
        }
      ],
      "source": [
        "import random\n",
        "fruit_colors = {\n",
        "    'apple': 'red',\n",
        "    'banana': 'yellow',\n",
        "    'orange': 'orange',\n",
        "    'grape': 'purple',\n",
        "    'kiwi': 'green',\n",
        "    'blueberry': 'blue',\n",
        "    'watermelon': 'green',\n",
        "    'strawberry': 'red'\n",
        "}\n",
        "print(random.choice(list(fruit_colors.items())))\n",
        "# print(list(fruit_colors.items()))\n",
        "#choice would just print the list item whereas choice would print the list item within a list"
      ]
    },
    {
      "cell_type": "code",
      "execution_count": null,
      "metadata": {
        "id": "N3VygsoVyFdS"
      },
      "outputs": [],
      "source": [
        "import random\n",
        "class FlashCard:\n",
        "  def __init__(self):\n",
        "    self.__fruit_colors = {'apple': 'red','banana': 'yellow','orange': 'orange','grape': 'purple','kiwi': 'green','blueberry': 'blue','watermelon': 'green','strawberry': 'red'}\n",
        "  def quiz(self):\n",
        "    while True:\n",
        "\n",
        "      fruit,color=random.choice(list(self.__fruit_colors.items()))\n",
        "      c2=input(f\"Enter the color of {fruit} \")\n",
        "      if c2==color:\n",
        "        print(\"Correct color \")\n",
        "      else:\n",
        "        print(f\"Wrong! The correct color is {color}\")\n",
        "      d1=int(input(\"Enter 0 to continue and 1 to exit \"))\n",
        "      if d1:\n",
        "        break\n",
        "\n",
        "#1 by default is True and 0 by Default is False\n"
      ]
    },
    {
      "cell_type": "code",
      "execution_count": null,
      "metadata": {
        "colab": {
          "base_uri": "https://localhost:8080/"
        },
        "id": "UfPDtMlV3OPB",
        "outputId": "376b6735-4266-45d2-edba-d3ef4e6782e4"
      },
      "outputs": [
        {
          "name": "stdout",
          "output_type": "stream",
          "text": [
            "Welcome to the fruit quiz\n",
            "Enter the color of apple red\n",
            "Correct color \n",
            "Enter 0 to continue and 1 to exit 0\n",
            "Enter the color of watermelon green\n",
            "Correct color \n",
            "Enter 0 to continue and 1 to exit 0\n",
            "Enter the color of kiwi creamy\n",
            "Wrong! The correct color is green\n",
            "Enter 0 to continue and 1 to exit 1\n"
          ]
        }
      ],
      "source": [
        "print('Welcome to the fruit quiz')\n",
        "fc = FlashCard()\n",
        "fc.quiz()"
      ]
    },
    {
      "cell_type": "code",
      "execution_count": null,
      "metadata": {
        "id": "C54e3I3B8w9B"
      },
      "outputs": [],
      "source": [
        "class Instructor:\n",
        "  def  __init__(self,x,y,z,k):\n",
        "    self.__name=x\n",
        "    self.__technology=y\n",
        "    self.__experience=z\n",
        "    self.__feedback=k\n",
        "  def check_eligibility(self):\n",
        "    if self.__experience>3 and self.__feedback>=4.5:\n",
        "      return True\n",
        "    elif self.__experience<=3 and self.__feedback>=4:\n",
        "      return True\n",
        "    else:\n",
        "      return False\n",
        "  def allocate_course(self,course):\n",
        "    if self.check_eligibility():\n",
        "      if course in self.__technology:\n",
        "        return 'Padha sakta hai'\n",
        "      else:\n",
        "        return 'Ye usko nahi aata bro'\n",
        "    else:\n",
        "      print(\"You are not eligible\")\n"
      ]
    },
    {
      "cell_type": "code",
      "execution_count": null,
      "metadata": {
        "colab": {
          "base_uri": "https://localhost:8080/",
          "height": 36
        },
        "id": "5yLyX21IhtZf",
        "outputId": "68eb06c6-bc0c-4cd3-99bd-0c9cde2c4f05"
      },
      "outputs": [
        {
          "data": {
            "application/vnd.google.colaboratory.intrinsic+json": {
              "type": "string"
            },
            "text/plain": [
              "'Ye usko nahi aata bro'"
            ]
          },
          "execution_count": 3,
          "metadata": {},
          "output_type": "execute_result"
        }
      ],
      "source": [
        "ins = Instructor('Nitish',['Data Science','Web Development'],5,4.9)\n",
        "ins.allocate_course('Android Dev')"
      ]
    },
    {
      "cell_type": "code",
      "execution_count": null,
      "metadata": {
        "id": "iz5NiIH754KG"
      },
      "outputs": [],
      "source": [
        "class point:\n",
        "  def __init__(self,x,y):\n",
        "    self.x_cod=x\n",
        "    self.y_cod=y\n",
        "  def __str__(self):\n",
        "    return f\"<{self.x_cod},{self.y_cod}>\"\n",
        "  def euclidean_distance(self,other):\n",
        "    return ((self.x_cod-other.x_cod)**2+(self.y_cod-other.y_cod)**2)**0.5\n",
        "  def distance_from_origin(self):\n",
        "    return self.euclidean_distance(point(0,0))\n",
        "    #In this example we have created a class object within a class"
      ]
    },
    {
      "cell_type": "code",
      "execution_count": null,
      "metadata": {
        "colab": {
          "base_uri": "https://localhost:8080/"
        },
        "id": "3dU7t6sx7Rna",
        "outputId": "96f78c3c-f6e8-4149-fe34-3868b0a77949"
      },
      "outputs": [
        {
          "name": "stdout",
          "output_type": "stream",
          "text": [
            "<0,0>\n"
          ]
        }
      ],
      "source": [
        "p1=point(0,0)\n",
        "print(p1)"
      ]
    },
    {
      "cell_type": "code",
      "execution_count": null,
      "metadata": {
        "colab": {
          "base_uri": "https://localhost:8080/"
        },
        "id": "31SM3941CoDx",
        "outputId": "c18f058c-6ceb-439d-e869-2362d8318cc9"
      },
      "outputs": [
        {
          "data": {
            "text/plain": [
              "2.8284271247461903"
            ]
          },
          "execution_count": 9,
          "metadata": {},
          "output_type": "execute_result"
        }
      ],
      "source": [
        "p1=point(0,0)\n",
        "p2=point(1,1)\n",
        "p1.euclidean_distance(p2)\n",
        "p3=point(2,2)\n",
        "p3.distance_from_origin()"
      ]
    },
    {
      "cell_type": "code",
      "execution_count": null,
      "metadata": {
        "id": "cxb9ZJ20i8oB"
      },
      "outputs": [],
      "source": [
        "class line:\n",
        "  def __init__(self,A,B,C):\n",
        "    self.A=A\n",
        "    self.B=B\n",
        "    self.C=C\n",
        "  def __str__(self):\n",
        "    return f\"{self.A}x+{self.B}y+{self.C}=0\"\n",
        "  def is_on_line(self,point):\n",
        "    if self.A*point.x_cod+self.B*point.y_cod+self.C==0:\n",
        "      return \"Point is on the line\"\n",
        "    else:\n",
        "      return \"Point is not on the line\"\n"
      ]
    },
    {
      "cell_type": "code",
      "execution_count": null,
      "metadata": {
        "colab": {
          "base_uri": "https://localhost:8080/",
          "height": 36
        },
        "id": "V8By7P0Cyq3d",
        "outputId": "cd047cb1-7998-4662-e7bf-2f32a7e6434d"
      },
      "outputs": [
        {
          "data": {
            "application/vnd.google.colaboratory.intrinsic+json": {
              "type": "string"
            },
            "text/plain": [
              "'Point is not on the line'"
            ]
          },
          "execution_count": 13,
          "metadata": {},
          "output_type": "execute_result"
        }
      ],
      "source": [
        "p1=point(1,2)\n",
        "l1=line(1,1,-2)\n",
        "l1.is_on_line(p1)\n",
        "#l1 itself will become self parameter as it is the object of line class\n",
        "#We can pass objects of the same class within method of that class and as seen above we can even pass objects of other class within the methods of different class\n",
        "#l1.method(p1) is equivalent to method(l1,p1) l1 automatically becomes the first argument"
      ]
    },
    {
      "cell_type": "code",
      "execution_count": null,
      "metadata": {
        "id": "aqbmKrCe_83t"
      },
      "outputs": [],
      "source": [
        "class line:\n",
        "  def __init__(self,A,B,C):\n",
        "    self.A=A\n",
        "    self.B=B\n",
        "    self.C=C\n",
        "  def __str__(self):\n",
        "    return f\"{self.A}x+{self.B}y+{self.C}=0\"\n",
        "  def is_on_line(self,point):\n",
        "    if self.A*point.x_cod+self.B*point.y_cod+self.C==0:\n",
        "      return True\n",
        "    else:\n",
        "      return False\n",
        "  def shortest_distance(self,point):\n",
        "    return abs(self.A*point.x_cod+self.B*point.y_cod+self.C)/(self.A**2+self.B**2)**0.5\n",
        "  def line_intersection(self,linee):\n",
        "    x=(self.B*linee.C-linee.B*self.C)/(self.A*linee.B-linee.A*self.B)\n",
        "    y=(linee.A*self.C-self.A*linee.C)/(self.A*linee.B-linee.A*self.B)\n",
        "    return self.is_on_line(point(x,y)) and self.is_on_line(point(x,y))\n"
      ]
    },
    {
      "cell_type": "code",
      "execution_count": null,
      "metadata": {
        "id": "2_3Uf64-FJSz"
      },
      "outputs": [],
      "source": [
        "class point:\n",
        "  def __init__(self,x,y):\n",
        "    self.x_cod=x\n",
        "    self.y_cod=y\n",
        "  def __str__(self):\n",
        "    return f\"<{self.x_cod},{self.y_cod}>\"\n",
        "  def euclidean_distance(self,point):\n",
        "    return ((self.x_cod-point.x_cod)**2+(self.y_cod-point.y_cod)**2)**0.5\n",
        "  def distance_from_center(self):\n",
        "    return self.euclidean_distance(point(0,0))"
      ]
    },
    {
      "cell_type": "code",
      "execution_count": null,
      "metadata": {
        "colab": {
          "base_uri": "https://localhost:8080/"
        },
        "id": "598DnnGhyyNz",
        "outputId": "83a197f7-01e4-4af9-9fd9-c0059e53a67c"
      },
      "outputs": [
        {
          "data": {
            "text/plain": [
              "0.0"
            ]
          },
          "execution_count": 3,
          "metadata": {},
          "output_type": "execute_result"
        }
      ],
      "source": [
        "l1=line(1,1,-2)\n",
        "p1=point(1,1)\n",
        "l1.shortest_distance(p1)"
      ]
    },
    {
      "cell_type": "code",
      "execution_count": null,
      "metadata": {
        "colab": {
          "base_uri": "https://localhost:8080/"
        },
        "id": "pOTk7VYLzKKb",
        "outputId": "a7d1a1d5-a692-4808-d9ec-31570d3a6518"
      },
      "outputs": [
        {
          "data": {
            "text/plain": [
              "True"
            ]
          },
          "execution_count": 17,
          "metadata": {},
          "output_type": "execute_result"
        }
      ],
      "source": [
        "#how to find if two lines are intersecting\n",
        "line1=line(1,2,1)\n",
        "line2=line(2,3,7)\n",
        "line1.line_intersection(line2)"
      ]
    },
    {
      "cell_type": "code",
      "execution_count": null,
      "metadata": {
        "id": "mJqZ2Yd9oPZQ"
      },
      "outputs": [],
      "source": [
        "class point:\n",
        "  def __init__(self,x,y):\n",
        "    self.x_cod=x\n",
        "    self.y_cod=y\n",
        "  def __str__(self):\n",
        "    return f\"<{self.x_cod},{self.y_cod}>\"\n",
        "  def euclidean_distance(self,point):\n",
        "    return ((self.x_cod-point.x_cod)**2+(self.y_cod-point.y_cod)**2)**0.5\n",
        "  def distance_from_center(self):\n",
        "    return self.euclidean_distance(point(0,0))"
      ]
    },
    {
      "cell_type": "code",
      "execution_count": null,
      "metadata": {
        "id": "y9ZnTfNzsFSQ"
      },
      "outputs": [],
      "source": [
        "class line:\n",
        "  def __init__(self,A,B,C):\n",
        "    self.A=A\n",
        "    self.B=B\n",
        "    self.C=C\n",
        "  def __str__(self):\n",
        "    return f\"{self.A}x+{self.B}y+{self.C}=0\"\n",
        "  def is_on_line(self,point):\n",
        "    if self.A*point.x_cod+self.B*point.y_cod+self.C==0:\n",
        "      return True\n",
        "    else:\n",
        "      return False\n",
        "  def shortest_distance(self,point):\n",
        "    return (self.A*point.x_cod+self.B*point.y_cod+self.C)/(self.A**2+self.B**2)**0.5\n",
        "  def line_intersection(self,line):\n",
        "    x=(self.B*line.C-line.B*self.C)/(self.A*line.B-line.A*self.B)\n",
        "    y=(line.A*self.C-self.A*line.C)/(self.A*line.B-line.A*self.B)\n",
        "    return self.is_on_line(point(x,y)) and line.is_on_line(point(x,y))\n",
        "#attributes of any class can be created from outside the class using objects of that class like p=line(1,2,3),p.Bambu=\"raju\" creates an attribute Bambu having value raju within the line class\n",
        "#using p object which belongs to line class"
      ]
    },
    {
      "cell_type": "code",
      "execution_count": null,
      "metadata": {
        "id": "M0sQkTc2NhlQ"
      },
      "outputs": [],
      "source": [
        "class person:\n",
        "  def __init__(self):\n",
        "    self.name=\"nitish\"\n",
        "    self.gender=\"Male\"\n",
        "person()\n",
        "#this creates an object in the memory address\n",
        "p=person()\n",
        "#creates a reference to the memory address where the object is stored\n",
        "q=p\n",
        "#now q and p are both variables pointing to the same memory location\n",
        "# person() creates an object(of person class) within the memory location so id(p) and id(q) will be the same , so change in any of the attributes of the class using any of the variables\n",
        "#will lead to permanent change in the attributes of the class"
      ]
    },
    {
      "cell_type": "code",
      "execution_count": null,
      "metadata": {
        "id": "0VyxRKYTQQYS"
      },
      "outputs": [],
      "source": [
        "#Reference variables hold the objects\n",
        "#We can create objects without reference variables as well\n",
        "#An object can have multiple reference variables\n",
        "# Assigning a new reference variable to an existing object doesnot create a new object"
      ]
    },
    {
      "cell_type": "code",
      "execution_count": null,
      "metadata": {
        "colab": {
          "base_uri": "https://localhost:8080/",
          "height": 36
        },
        "id": "Zv_7XZZocH24",
        "outputId": "f6f04546-59eb-475c-d9f2-d45e5d54b793"
      },
      "outputs": [
        {
          "data": {
            "application/vnd.google.colaboratory.intrinsic+json": {
              "type": "string"
            },
            "text/plain": [
              "'My name is dharam and i am a male'"
            ]
          },
          "execution_count": 1,
          "metadata": {},
          "output_type": "execute_result"
        }
      ],
      "source": [
        "class Person:\n",
        "  def __init__(self,name,gender):\n",
        "    self.name=name\n",
        "    self.gender=gender\n",
        "def greet(person):\n",
        "  return f\"My name is {person.name} and i am a {person.gender}\"\n",
        "p=Person(\"dharam\",\"male\")\n",
        "greet(p)\n",
        "#so we can pass object of a class as an argument to a function"
      ]
    },
    {
      "cell_type": "code",
      "execution_count": null,
      "metadata": {
        "colab": {
          "base_uri": "https://localhost:8080/"
        },
        "id": "S9w9tp8ygP3X",
        "outputId": "441f03ad-d275-44b5-d8bb-e79fdef8f679"
      },
      "outputs": [
        {
          "name": "stdout",
          "output_type": "stream",
          "text": [
            "My name is Adhandu and i am a Male\n",
            "dhondu\n",
            "Male\n"
          ]
        }
      ],
      "source": [
        "class Person:\n",
        "  def __init__(self,name,gender):\n",
        "    self.name=name\n",
        "    self.gender=gender\n",
        "def greet(person):\n",
        "  print(f\"My name is {person.name} and i am a {person.gender}\")\n",
        "  p1=Person(\"dhondu\",\"Male\")\n",
        "  return p1\n",
        "p2=Person(\"Adhandu\",\"Male\")\n",
        "n2=greet(p2)\n",
        "print(n2.name)\n",
        "print(n2.gender)\n",
        "#SO as you can see we can also return object(of some class) from a function"
      ]
    },
    {
      "cell_type": "code",
      "execution_count": null,
      "metadata": {
        "colab": {
          "base_uri": "https://localhost:8080/"
        },
        "id": "IiXMBXYkka0F",
        "outputId": "ce6750fb-430b-4c82-ad91-b7bbfb2e2a4b"
      },
      "outputs": [
        {
          "name": "stdout",
          "output_type": "stream",
          "text": [
            "137340703078144\n",
            "The name is lambda and gender is male\n",
            "137340703078144\n"
          ]
        }
      ],
      "source": [
        "class Person:\n",
        "  def __init__(self,name,gender):\n",
        "    self.name=name\n",
        "    self.gender=gender\n",
        "def greet(person):\n",
        "  print(f\"The name is {person.name} and gender is {person.gender}\")\n",
        "  print(id(person))\n",
        "p1=Person(\"lambda\",\"male\")\n",
        "print(id(p1))\n",
        "greet(p1)\n",
        "#as you can see when you pass an object to a function , u are actually passing a variable that contains reference to the object, that is why you can see both p1 and person within\n",
        "#the function points to the same memory location"
      ]
    },
    {
      "cell_type": "code",
      "execution_count": null,
      "metadata": {
        "colab": {
          "base_uri": "https://localhost:8080/"
        },
        "id": "AmNFP2YqqtIr",
        "outputId": "69065fa2-9e43-4f44-b277-69320b4ff2b2"
      },
      "outputs": [
        {
          "name": "stdout",
          "output_type": "stream",
          "text": [
            "lambu\n",
            "khanna\n",
            "khanna\n"
          ]
        }
      ],
      "source": [
        "class Person:\n",
        "  def __init__(self,name,gender):\n",
        "    self.name=name\n",
        "    self.gender=gender\n",
        "def greet(person):\n",
        "  person.name=\"khanna\"\n",
        "  print(person.name)\n",
        "k1=Person(\"lambu\",\"female\")\n",
        "print(k1.name)\n",
        "greet(k1)\n",
        "print(k1.name)\n",
        "#As you can see when you are passing k1 to greet function, u are actually passing reference to the memory address of a Person object so when an attribute of that object is changed within\n",
        "#a function to which the reference is passed, the change is also reflected outside the function\n"
      ]
    },
    {
      "cell_type": "code",
      "execution_count": null,
      "metadata": {
        "colab": {
          "base_uri": "https://localhost:8080/"
        },
        "id": "gKUy_QAuH1b1",
        "outputId": "7ab4e488-b0d9-4676-fc58-1635a148f8f8"
      },
      "outputs": [
        {
          "name": "stdout",
          "output_type": "stream",
          "text": [
            "136189092635664\n",
            "136189092635664\n"
          ]
        }
      ],
      "source": [
        "class Person:\n",
        "  def __init__(self,name,gender):\n",
        "    self.name=name\n",
        "    self.gender=gender\n",
        "def greet(person):\n",
        "  person.name=\"khaneshwar\"\n",
        "  return person\n",
        "p2=Person(\"lamakh\",\"male\")\n",
        "print(id(p2))\n",
        "z=greet(p2)\n",
        "print(id(z))\n",
        "#as u can see, this function passes the reference of an object(of a class), makes changes and returns the same object and when you check the address of the object before any change\n",
        "#and after the change then address still remains the same which shows that object can be modified while remaining at the same memory address which makes it mutable like lists,sets,dictionaries\n",
        "#All objects of user defined classes are mutable."
      ]
    },
    {
      "cell_type": "code",
      "execution_count": null,
      "metadata": {
        "colab": {
          "base_uri": "https://localhost:8080/"
        },
        "id": "g4yGBDLKtjIy",
        "outputId": "1859b761-f59d-4fa1-fbc9-6806131fe4b3"
      },
      "outputs": [
        {
          "name": "stdout",
          "output_type": "stream",
          "text": [
            "134839337104048\n",
            "134839337104048\n"
          ]
        }
      ],
      "source": [
        "class Person:\n",
        "  def __init__(self,name,gender):\n",
        "    self.name=name\n",
        "    self.gender=gender\n",
        "def greet(person):\n",
        "  person.name=\"satvik\"\n",
        "  return person\n",
        "p1=Person(\"Ajay\",\"Male\")\n",
        "print(id(p1))\n",
        "z1=greet(p1)\n",
        "print(id(z1))\n",
        "#The address of both are the same , that is the address of the object remains the same inspite of the modification which is the defination of mutability"
      ]
    },
    {
      "cell_type": "code",
      "execution_count": null,
      "metadata": {
        "id": "LARMotXo6Bo7"
      },
      "outputs": [],
      "source": [
        "class Person:\n",
        "  def __init__(self,name_input,country_input):\n",
        "    self.name=name_input\n",
        "    self.country=country_input\n",
        "p1=Person(\"dhoni\",\"india\")\n",
        "p2=Person(\"ricky\",\"australia\")\n",
        "#here name and country are called instance variables as they will have different values for different instances of classes"
      ]
    },
    {
      "cell_type": "code",
      "execution_count": null,
      "metadata": {
        "id": "iSN5xeokeq8C"
      },
      "outputs": [],
      "source": [
        "class BankAccount:\n",
        "  def __init__(self,x,y,z):\n",
        "    self.accountNumber=x\n",
        "    self.name=y\n",
        "    self.balance=z\n",
        "  def Deposit(self,x1):\n",
        "      self.balance+=x1\n",
        "  def Withdrawal(self,x):\n",
        "      if x<self.balance:\n",
        "        self.balance=self.balance-x\n",
        "        print(\"The amount has been withdrawn \")\n",
        "      else:\n",
        "        print(\"Balance kum hai bohot, itna hai \",self.balance,\" isse kum withdraw kar \")\n",
        "  def display(self):\n",
        "    print(\"Account Number \",self.accountNumber)\n",
        "    print(\"Account Name \",self.name)\n",
        "    print(\"Account Balance \",self.balance ,\"₹\")"
      ]
    },
    {
      "cell_type": "code",
      "execution_count": null,
      "metadata": {
        "id": "fwBJDN3_fI-x"
      },
      "outputs": [],
      "source": [
        "p=BankAccount(1234,\"dhoni\",5000)\n",
        "p.balance=\"Ranchandi\""
      ]
    },
    {
      "cell_type": "code",
      "execution_count": null,
      "metadata": {
        "colab": {
          "base_uri": "https://localhost:8080/",
          "height": 297
        },
        "id": "Ut18qTLofauV",
        "outputId": "8e0c837e-7a5b-4493-db91-2e9659efa21f"
      },
      "outputs": [
        {
          "ename": "TypeError",
          "evalue": "ignored",
          "output_type": "error",
          "traceback": [
            "\u001b[0;31m---------------------------------------------------------------------------\u001b[0m",
            "\u001b[0;31mTypeError\u001b[0m                                 Traceback (most recent call last)",
            "\u001b[0;32m<ipython-input-4-7436dad00762>\u001b[0m in \u001b[0;36m<cell line: 1>\u001b[0;34m()\u001b[0m\n\u001b[0;32m----> 1\u001b[0;31m \u001b[0mp\u001b[0m\u001b[0;34m.\u001b[0m\u001b[0mWithdrawal\u001b[0m\u001b[0;34m(\u001b[0m\u001b[0;36m2000\u001b[0m\u001b[0;34m)\u001b[0m\u001b[0;34m\u001b[0m\u001b[0;34m\u001b[0m\u001b[0m\n\u001b[0m",
            "\u001b[0;32m<ipython-input-1-7cee6dbc0913>\u001b[0m in \u001b[0;36mWithdrawal\u001b[0;34m(self, x)\u001b[0m\n\u001b[1;32m      7\u001b[0m       \u001b[0mself\u001b[0m\u001b[0;34m.\u001b[0m\u001b[0mbalance\u001b[0m\u001b[0;34m+=\u001b[0m\u001b[0mx1\u001b[0m\u001b[0;34m\u001b[0m\u001b[0;34m\u001b[0m\u001b[0m\n\u001b[1;32m      8\u001b[0m   \u001b[0;32mdef\u001b[0m \u001b[0mWithdrawal\u001b[0m\u001b[0;34m(\u001b[0m\u001b[0mself\u001b[0m\u001b[0;34m,\u001b[0m\u001b[0mx\u001b[0m\u001b[0;34m)\u001b[0m\u001b[0;34m:\u001b[0m\u001b[0;34m\u001b[0m\u001b[0;34m\u001b[0m\u001b[0m\n\u001b[0;32m----> 9\u001b[0;31m       \u001b[0;32mif\u001b[0m \u001b[0mx\u001b[0m\u001b[0;34m<\u001b[0m\u001b[0mself\u001b[0m\u001b[0;34m.\u001b[0m\u001b[0mbalance\u001b[0m\u001b[0;34m:\u001b[0m\u001b[0;34m\u001b[0m\u001b[0;34m\u001b[0m\u001b[0m\n\u001b[0m\u001b[1;32m     10\u001b[0m         \u001b[0mself\u001b[0m\u001b[0;34m.\u001b[0m\u001b[0mbalance\u001b[0m\u001b[0;34m=\u001b[0m\u001b[0mself\u001b[0m\u001b[0;34m.\u001b[0m\u001b[0mbalance\u001b[0m\u001b[0;34m-\u001b[0m\u001b[0mx\u001b[0m\u001b[0;34m\u001b[0m\u001b[0;34m\u001b[0m\u001b[0m\n\u001b[1;32m     11\u001b[0m         \u001b[0mprint\u001b[0m\u001b[0;34m(\u001b[0m\u001b[0;34m\"The amount has been withdrawn \"\u001b[0m\u001b[0;34m)\u001b[0m\u001b[0;34m\u001b[0m\u001b[0;34m\u001b[0m\u001b[0m\n",
            "\u001b[0;31mTypeError\u001b[0m: '<' not supported between instances of 'int' and 'str'"
          ]
        }
      ],
      "source": [
        "p.Withdrawal(2000)\n",
        "#This will obviously give error as balance instance attribute has been immediately changed to \"Ranchandi\" and is no more 5000, hence to correct this error we convert the attribute\n",
        "#to private attribute"
      ]
    },
    {
      "cell_type": "code",
      "execution_count": null,
      "metadata": {
        "id": "Wtt9AjoRiZwI"
      },
      "outputs": [],
      "source": [
        "class BankAccount:\n",
        "  def __init__(self,x,y,z):\n",
        "    self.__accountNumber=x\n",
        "    self.__name=y\n",
        "    self.__balance=z\n",
        "  def Deposit(self,x1):\n",
        "    self.__balance+=x1\n",
        "  def Withdraw(self,x1):\n",
        "    if self.__balance>x1:\n",
        "      self.__balance=self.__balance-x1\n",
        "      print(\"The amount has been withdrawn\")\n",
        "    else:\n",
        "      print(\"The amount is less \")\n",
        "  def display(self):\n",
        "    print(\"Account number \",self.__accountNumber)\n",
        "    print(\"Name is \",self.__name)\n",
        "    print(\"Balance is \",self.__balance)\n"
      ]
    },
    {
      "cell_type": "code",
      "execution_count": null,
      "metadata": {
        "colab": {
          "base_uri": "https://localhost:8080/"
        },
        "id": "rnWMHbj8nTNU",
        "outputId": "b2014b9e-417a-425f-a7ac-269d0b84e2ee"
      },
      "outputs": [
        {
          "name": "stdout",
          "output_type": "stream",
          "text": [
            "The amount has been withdrawn\n",
            "udal\n",
            "kutta\n"
          ]
        }
      ],
      "source": [
        "class Bakers:\n",
        "  def __init__(self,x,y,z):\n",
        "    self.__accountname=x\n",
        "    self.__name=y\n",
        "    self.__balance=z\n",
        "  def Deposit(self,x1):\n",
        "    self.__balance+=x1\n",
        "  def get_balance(self):\n",
        "    return self.__balance\n",
        "  def set_balance(self,k):\n",
        "    if type(k)==int:\n",
        "      self.__balance=k\n",
        "    else:\n",
        "      print(\"I will destroy you\")\n",
        "  def Withdraw(self,x1):\n",
        "    if self.__balance>x1:\n",
        "      self.__balance=self.__balance-x1\n",
        "      print(\"The amount has been withdrawn\")\n",
        "    else:\n",
        "      print(\"The amount is less \")\n",
        "  def display(self):\n",
        "    print(\"Account number \",self.__accountNumber)\n",
        "    print(\"Name is \",self.__name)\n",
        "    print(\"Balance is \",self.__balance)\n",
        "p=Bakers(2341,\"dhumi\",90000000000)\n",
        "p.__balance=\"udal\"\n",
        "p.Withdraw(90000000)\n",
        "z=Bakers(2211,\"iuo\",999000)\n",
        "print(p.__balance)\n",
        "p._Bakers__balance=\"kutta\"\n",
        "print(p.get_balance())\n",
        "#we don't get error in this case as self.__balance creates an attribute with the name _Bakers__balance and when we do p.__balance=\"udal\" we create a new attribute called __balance for p object\n",
        "#and initialize it with value \"udal\" and hence while we decrement some value from balance, it still doesnot give any error\n",
        "#Encapusaltion is the process of making an attribute private while giving the power to the other programmers to set values to those attributes using getter and setter functions which have\n",
        "#own conditions and where the values can be set only if certain conditions are followed, like in this case the value to be set had to be an integer\n",
        "#Our motto is to make our variables private and expose it to the outer world in a protected way using a getter and setter methods where too you can impose certain restrictions\n",
        "#This is called encapsulation as it is a combination of attribute and 2 methods"
      ]
    },
    {
      "cell_type": "code",
      "execution_count": null,
      "metadata": {
        "id": "ZXTSDIOryduk"
      },
      "outputs": [],
      "source": [
        "p=Bakers(2341,\"dhumi\",90000000000)\n",
        "p.__balance=\"udal\"\n",
        "p.Withdraw(90000000)\n",
        "z=Bakers(2211,\"iuo\",999000)\n",
        "print(p.__balance)\n",
        "print(z.__balance)\n",
        "#in the above __balance attribute is created only for p object\n",
        "#we can also change the balance of p object this way p._Bakers__balance=\"udal\" , the only advantage of using __balance within the constructor of a function is that it hides attributes\n",
        "#from other programmers but nothing in python is really private, values of attributes can still be changed"
      ]
    },
    {
      "cell_type": "code",
      "execution_count": null,
      "metadata": {
        "colab": {
          "base_uri": "https://localhost:8080/"
        },
        "id": "ad_n6gX6gAab",
        "outputId": "78a38d31-d309-4b2c-a066-2046be237bf7"
      },
      "outputs": [
        {
          "name": "stdout",
          "output_type": "stream",
          "text": [
            "amit\n",
            "dhoni\n"
          ]
        }
      ],
      "source": [
        "class Person:\n",
        "  def __init__(self,x,y):\n",
        "    self.name=x\n",
        "    self.gender=y\n",
        "p1=Person(\"amit\",\"male\")\n",
        "p2=Person(\"dhoni\",\"male\")\n",
        "list1=[p1,p2]\n",
        "tup=(p1,p2)\n",
        "set1={p1,p2}\n",
        "#an object of any class can also be stored in iterables for somereason even in the set which by defination is a mutable object which can only have immutable items\n",
        "for i in list1:\n",
        "  print(i.name)\n"
      ]
    },
    {
      "cell_type": "code",
      "execution_count": null,
      "metadata": {
        "colab": {
          "base_uri": "https://localhost:8080/",
          "height": 175
        },
        "id": "jP7OhPd525Fy",
        "outputId": "938ac1f7-563d-432c-f7a3-95dd912a3401"
      },
      "outputs": [
        {
          "ename": "TypeError",
          "evalue": "ignored",
          "output_type": "error",
          "traceback": [
            "\u001b[0;31m---------------------------------------------------------------------------\u001b[0m",
            "\u001b[0;31mTypeError\u001b[0m                                 Traceback (most recent call last)",
            "\u001b[0;32m<ipython-input-2-c6f30c528b90>\u001b[0m in \u001b[0;36m<cell line: 1>\u001b[0;34m()\u001b[0m\n\u001b[0;32m----> 1\u001b[0;31m \u001b[0mset2\u001b[0m\u001b[0;34m=\u001b[0m\u001b[0;34m{\u001b[0m\u001b[0;34m[\u001b[0m\u001b[0;36m1\u001b[0m\u001b[0;34m,\u001b[0m\u001b[0;36m2\u001b[0m\u001b[0;34m,\u001b[0m\u001b[0;36m3\u001b[0m\u001b[0;34m]\u001b[0m\u001b[0;34m,\u001b[0m\u001b[0;36m1\u001b[0m\u001b[0;34m,\u001b[0m\u001b[0;36m2\u001b[0m\u001b[0;34m}\u001b[0m\u001b[0;34m\u001b[0m\u001b[0;34m\u001b[0m\u001b[0m\n\u001b[0m",
            "\u001b[0;31mTypeError\u001b[0m: unhashable type: 'list'"
          ]
        }
      ],
      "source": [
        "set2={[1,2,3],1,2}\n",
        "#as you can see list is a mutable object and hence it cannot be stored within a set"
      ]
    },
    {
      "cell_type": "code",
      "execution_count": null,
      "metadata": {
        "colab": {
          "base_uri": "https://localhost:8080/"
        },
        "id": "gsSWdpO0FxYS",
        "outputId": "11b188ce-bb76-433e-f8b9-4690254c1472"
      },
      "outputs": [
        {
          "name": "stdout",
          "output_type": "stream",
          "text": [
            "<__main__.Person object at 0x7b38e3b5fa90>\n",
            "dhoni\n",
            "<__main__.Person object at 0x7b38e3b5c700>\n",
            "Hemendra\n"
          ]
        }
      ],
      "source": [
        "class Person:\n",
        "  def __init__(self,x,y):\n",
        "    self.name=x\n",
        "    self.gender=y\n",
        "p1=Person(\"dhoni\",\"male\")\n",
        "p2=Person(\"Hemendra\",\"male\")\n",
        "d1={'p1':p1,'p2':p2}\n",
        "for i in d1:\n",
        "  print(d1[i])\n",
        "  print(d1[i].name)"
      ]
    },
    {
      "cell_type": "code",
      "execution_count": null,
      "metadata": {
        "id": "YQVA7xU6P8If"
      },
      "outputs": [],
      "source": [
        "#The value of instance variables is different for different object while value of static variable is the same, static variable belongs to class while instance variable belongs\n",
        "#to objects , for instance name of degree,name of college(when a class is being made for the students of a college) will be static variables\n",
        "#static variables are initialized by picking up the name of the class while instance variables are initialized by picking up the name of the class"
      ]
    },
    {
      "cell_type": "code",
      "execution_count": null,
      "metadata": {
        "colab": {
          "base_uri": "https://localhost:8080/"
        },
        "id": "EkH0KgX8X8yk",
        "outputId": "ef92c2bf-b161-4bcf-8229-bad7a2ac9ab5"
      },
      "outputs": [
        {
          "name": "stdout",
          "output_type": "stream",
          "text": [
            "1\n",
            "2\n",
            "3\n"
          ]
        }
      ],
      "source": [
        "class Bankers:\n",
        "  counter=1\n",
        "  def __init__(self,x,y,z):\n",
        "    self.__accountname=x\n",
        "    self.__pin=y\n",
        "    self.__balance=z\n",
        "    self.__cid=Bankers.counter\n",
        "    Bankers.counter+=1\n",
        "  def deposit(self,x):\n",
        "    k=input(\"Enter pin\")\n",
        "    if k==self.__pin:\n",
        "      self.__balance+=x\n",
        "  def get_balance(self):\n",
        "    return self.__balance\n",
        "  def set_balance(self,y):\n",
        "    if type(y)==int:\n",
        "       self.__balance=y\n",
        "    else:\n",
        "      print(\"Utha utha ke patkunga\")\n",
        "  def Withdraw(self,d):\n",
        "    k=input(\"Enter pin: \")\n",
        "    if k==self.__pin:\n",
        "      if d<self.__balance:\n",
        "        self.__balance-=d\n",
        "      else:\n",
        "        print(\"Not enough balance\")\n",
        "    else:\n",
        "      print(\"Chor hai tu\")\n",
        "c1=Bankers(\"chomman\",\"12345\",100000000009999)\n",
        "print(c1._Bankers__cid)\n",
        "c2=Bankers(\"aman\",\"3456788\",2000000000)\n",
        "print(c2._Bankers__cid)\n",
        "print(Bankers.counter)\n",
        "#As you can see a unique counter with respect to each object of a class couldnot have been implemeted with the use of instance variables as then it would have been same for each object\n",
        "#hence we have implemented counter using static variables, instance variables are defined within the constructors while static variables are defined outside all the methods(mostly on top)\n",
        "#Bankers.counter would be 3 as by the end counter is incremented by 1 after the 2nd object is formed from that class. Also instance variable is fetched by using objectname.variablename\n",
        "#static variable is fetched by using classname.variablename\n"
      ]
    },
    {
      "cell_type": "code",
      "execution_count": null,
      "metadata": {
        "colab": {
          "base_uri": "https://localhost:8080/"
        },
        "id": "ZQshp9GDH1_p",
        "outputId": "0764efec-b163-4744-92c1-8569bd5c5cf4"
      },
      "outputs": [
        {
          "name": "stdout",
          "output_type": "stream",
          "text": [
            "2\n",
            "2\n"
          ]
        }
      ],
      "source": [
        "class Bankers:\n",
        "\n",
        "  def __init__(self,x,y,z):\n",
        "    self.__accountname=x\n",
        "    self.__pin=y\n",
        "    self.__balance=z\n",
        "    self.__cid=1\n",
        "    self.__cid+=1\n",
        "  def deposit(self,x):\n",
        "    k=input(\"Enter pin\")\n",
        "    if k==self.__pin:\n",
        "      self.__balance+=x\n",
        "  def get_balance(self):\n",
        "    return self.__balance\n",
        "  def set_balance(self,y):\n",
        "    if type(y)==int:\n",
        "       self.__balance=y\n",
        "    else:\n",
        "      print(\"Utha utha ke patkunga\")\n",
        "  def Withdraw(self,d):\n",
        "    k=input(\"Enter pin: \")\n",
        "    if k==self.__pin:\n",
        "      if d<self.__balance:\n",
        "        self.__balance-=d\n",
        "      else:\n",
        "        print(\"Not enough balance\")\n",
        "    else:\n",
        "      print(\"Chor hai tu\")\n",
        "c1=Bankers(\"chomman\",\"12345\",100000000009999)\n",
        "print(c1._Bankers__cid)\n",
        "c2=Bankers(\"aman\",\"3456788\",2000000000)\n",
        "print(c2._Bankers__cid)"
      ]
    },
    {
      "cell_type": "code",
      "execution_count": null,
      "metadata": {
        "id": "a8aA8zu5pxgF"
      },
      "outputs": [],
      "source": [
        "#The values of static variables remains the same for all the objects(unless you are creating an incremental counter)"
      ]
    },
    {
      "cell_type": "code",
      "execution_count": null,
      "metadata": {
        "id": "WPEKRohKqL4-"
      },
      "outputs": [],
      "source": [
        "#the static variables can still be changed like this this classname.variablename....hence to avoid that we make the static variable private and then create a static method"
      ]
    },
    {
      "cell_type": "code",
      "execution_count": null,
      "metadata": {
        "colab": {
          "base_uri": "https://localhost:8080/"
        },
        "id": "X1hHEvNwrYB0",
        "outputId": "c22804da-c1a9-4a34-bdbf-4ef71d7bc2f9"
      },
      "outputs": [
        {
          "name": "stdout",
          "output_type": "stream",
          "text": [
            "1\n",
            "2\n",
            "3\n",
            "3\n"
          ]
        }
      ],
      "source": [
        "class Bankers2:\n",
        "  __counter=1\n",
        "  def __init__(self,x,y,z):\n",
        "    self.__accountname=x\n",
        "    self.__pinno=y\n",
        "    self.__balance=z\n",
        "    self.__cid=Bankers2.__counter\n",
        "    Bankers2.__counter+=1\n",
        "  @staticmethod\n",
        "  def get_counter():\n",
        "    return Bankers2.__counter\n",
        "  def get_balance(self):\n",
        "    return self.__balance\n",
        "  def set_balance(self,k):\n",
        "    if type(k)==int:\n",
        "      self.__balance=k\n",
        "    else:\n",
        "      print(\"Bohot marunga\")\n",
        "  def deposit(self,z):\n",
        "    k=input(\"Enter pin: \")\n",
        "    if k==self.__pinno:\n",
        "      self.__balance+=z\n",
        "    else:\n",
        "      print(\"wrong pinno\")\n",
        "  def Withdraw(self,h):\n",
        "    k=input(\"Enter pinno: \")\n",
        "    if k==self.__pinno:\n",
        "      if h<self.__balance:\n",
        "        self.__balance-=h\n",
        "      else:\n",
        "        print(\"Not enough balance\")\n",
        "    else:\n",
        "      print(\"chor \")\n",
        "c1=Bankers2(\"chomman\",\"12345\",100000000009999)\n",
        "print(c1._Bankers2__cid)\n",
        "c2=Bankers2(\"aman\",\"3456788\",2000000000)\n",
        "print(c2._Bankers2__cid)\n",
        "print(Bankers2.get_counter())\n",
        "#This is how you can access a static variable\n",
        "print(Bankers2._Bankers2__counter)\n",
        "#As static variables too can be changed and those changes can lead to error, so to avoid that error, we first make the static variable and make it disappear from the view of other programmers and then set a seperate\n",
        "#static method so that other programmers can access the value of static variables at any point of time\n",
        "\n"
      ]
    },
    {
      "cell_type": "code",
      "execution_count": null,
      "metadata": {
        "colab": {
          "base_uri": "https://localhost:8080/",
          "height": 418
        },
        "id": "EnI-tQnL1L9V",
        "outputId": "64d0e26a-046c-4f51-d60c-78f4216ae0fd"
      },
      "outputs": [
        {
          "name": "stdout",
          "output_type": "stream",
          "text": [
            "1\n",
            "1\n",
            "2\n"
          ]
        },
        {
          "ename": "TypeError",
          "evalue": "ignored",
          "output_type": "error",
          "traceback": [
            "\u001b[0;31m---------------------------------------------------------------------------\u001b[0m",
            "\u001b[0;31mTypeError\u001b[0m                                 Traceback (most recent call last)",
            "\u001b[0;32m<ipython-input-13-b38db6b2232c>\u001b[0m in \u001b[0;36m<cell line: 37>\u001b[0;34m()\u001b[0m\n\u001b[1;32m     35\u001b[0m \u001b[0mprint\u001b[0m\u001b[0;34m(\u001b[0m\u001b[0mc2\u001b[0m\u001b[0;34m.\u001b[0m\u001b[0m_Bankers2__cid\u001b[0m\u001b[0;34m)\u001b[0m\u001b[0;34m\u001b[0m\u001b[0;34m\u001b[0m\u001b[0m\n\u001b[1;32m     36\u001b[0m \u001b[0mBankers2\u001b[0m\u001b[0;34m.\u001b[0m\u001b[0mcounter\u001b[0m\u001b[0;34m=\u001b[0m\u001b[0;34m\"hello\"\u001b[0m\u001b[0;34m\u001b[0m\u001b[0;34m\u001b[0m\u001b[0m\n\u001b[0;32m---> 37\u001b[0;31m \u001b[0mc3\u001b[0m\u001b[0;34m=\u001b[0m\u001b[0mBankers2\u001b[0m\u001b[0;34m(\u001b[0m\u001b[0;34m\"Russia\"\u001b[0m\u001b[0;34m,\u001b[0m\u001b[0;34m\"99875\"\u001b[0m\u001b[0;34m,\u001b[0m\u001b[0;36m21000001199999999999\u001b[0m\u001b[0;34m)\u001b[0m\u001b[0;34m\u001b[0m\u001b[0;34m\u001b[0m\u001b[0m\n\u001b[0m\u001b[1;32m     38\u001b[0m \u001b[0;34m\u001b[0m\u001b[0m\n\u001b[1;32m     39\u001b[0m \u001b[0;34m\u001b[0m\u001b[0m\n",
            "\u001b[0;32m<ipython-input-13-b38db6b2232c>\u001b[0m in \u001b[0;36m__init__\u001b[0;34m(self, x, y, z)\u001b[0m\n\u001b[1;32m      6\u001b[0m     \u001b[0mself\u001b[0m\u001b[0;34m.\u001b[0m\u001b[0m__balance\u001b[0m\u001b[0;34m=\u001b[0m\u001b[0mz\u001b[0m\u001b[0;34m\u001b[0m\u001b[0;34m\u001b[0m\u001b[0m\n\u001b[1;32m      7\u001b[0m     \u001b[0mself\u001b[0m\u001b[0;34m.\u001b[0m\u001b[0m__cid\u001b[0m\u001b[0;34m=\u001b[0m\u001b[0mBankers2\u001b[0m\u001b[0;34m.\u001b[0m\u001b[0mcounter\u001b[0m\u001b[0;34m\u001b[0m\u001b[0;34m\u001b[0m\u001b[0m\n\u001b[0;32m----> 8\u001b[0;31m     \u001b[0mBankers2\u001b[0m\u001b[0;34m.\u001b[0m\u001b[0mcounter\u001b[0m\u001b[0;34m+=\u001b[0m\u001b[0;36m1\u001b[0m\u001b[0;34m\u001b[0m\u001b[0;34m\u001b[0m\u001b[0m\n\u001b[0m\u001b[1;32m      9\u001b[0m   \u001b[0;32mdef\u001b[0m \u001b[0mget_balance\u001b[0m\u001b[0;34m(\u001b[0m\u001b[0mself\u001b[0m\u001b[0;34m)\u001b[0m\u001b[0;34m:\u001b[0m\u001b[0;34m\u001b[0m\u001b[0;34m\u001b[0m\u001b[0m\n\u001b[1;32m     10\u001b[0m     \u001b[0;32mreturn\u001b[0m \u001b[0mself\u001b[0m\u001b[0;34m.\u001b[0m\u001b[0m__balance\u001b[0m\u001b[0;34m\u001b[0m\u001b[0;34m\u001b[0m\u001b[0m\n",
            "\u001b[0;31mTypeError\u001b[0m: can only concatenate str (not \"int\") to str"
          ]
        }
      ],
      "source": [
        "class Bankers2:\n",
        "  counter=1\n",
        "  def __init__(self,x,y,z):\n",
        "    self.__accountname=x\n",
        "    self.__pinno=y\n",
        "    self.__balance=z\n",
        "    self.__cid=Bankers2.counter\n",
        "    Bankers2.counter+=1\n",
        "  def get_balance(self):\n",
        "    return self.__balance\n",
        "  def set_balance(self,k):\n",
        "    if type(k)==int:\n",
        "      self.__balance=k\n",
        "    else:\n",
        "      print(\"Bohot marunga\")\n",
        "  def deposit(self,z):\n",
        "    k=input(\"Enter pin: \")\n",
        "    if k==self.__pinno:\n",
        "      self.__balance+=z\n",
        "    else:\n",
        "      print(\"wrong pinno\")\n",
        "  def Withdraw(self,h):\n",
        "    k=input(\"Enter pinno: \")\n",
        "    if k==self.__pinno:\n",
        "      if h<self.__balance:\n",
        "        self.__balance-=h\n",
        "      else:\n",
        "        print(\"Not enough balance\")\n",
        "    else:\n",
        "      print(\"chor \")\n",
        "print(Bankers2.counter)\n",
        "c1=Bankers2(\"chomman\",\"12345\",100000000009999)\n",
        "print(c1._Bankers2__cid)\n",
        "c2=Bankers2(\"aman\",\"3456788\",2000000000)\n",
        "print(c2._Bankers2__cid)\n",
        "Bankers2.counter=\"hello\"\n",
        "c3=Bankers2(\"Russia\",\"99875\",21000001199999999999)\n",
        "\n",
        "\n",
        "\n"
      ]
    },
    {
      "cell_type": "code",
      "execution_count": null,
      "metadata": {
        "colab": {
          "base_uri": "https://localhost:8080/"
        },
        "id": "KYU2Xdd5AmTv",
        "outputId": "235f8976-2f58-405d-fa66-306ddd21067c"
      },
      "outputs": [
        {
          "data": {
            "text/plain": [
              "3"
            ]
          },
          "execution_count": 17,
          "metadata": {},
          "output_type": "execute_result"
        }
      ],
      "source": [
        "class Car:\n",
        "  __counter=0\n",
        "  def __init__(self):\n",
        "    Car.__counter+=1\n",
        "  def get_counter():\n",
        "    return Car.__counter\n",
        "c1=Car()\n",
        "c2=Car()\n",
        "c3=Car()\n",
        "Car.get_counter()"
      ]
    },
    {
      "cell_type": "code",
      "execution_count": null,
      "metadata": {
        "colab": {
          "base_uri": "https://localhost:8080/"
        },
        "id": "i-8XvislHQCQ",
        "outputId": "95c40a42-5038-4307-8839-b57b176155c5"
      },
      "outputs": [
        {
          "name": "stdout",
          "output_type": "stream",
          "text": [
            "{'ln': 10, 'bn': 20}\n"
          ]
        }
      ],
      "source": [
        "def kbn(**kwargs):\n",
        "  print(kwargs)\n",
        "kbn(ln=10,bn=20)\n"
      ]
    },
    {
      "cell_type": "code",
      "execution_count": null,
      "metadata": {
        "colab": {
          "base_uri": "https://localhost:8080/"
        },
        "id": "qJLTTBgmHxnn",
        "outputId": "68ee31c9-ed3a-49a9-ab9a-68a5caab23b7"
      },
      "outputs": [
        {
          "name": "stdout",
          "output_type": "stream",
          "text": [
            "10\n",
            "20\n",
            "0\n"
          ]
        }
      ],
      "source": [
        "d2={'lent':10,'bent':20}\n",
        "print(d2.get('lent'))\n",
        "print(d2.get('bent'))\n",
        "print(d2.get('cent',0))"
      ]
    },
    {
      "cell_type": "code",
      "execution_count": null,
      "metadata": {
        "id": "Z20CXrM-iQv5"
      },
      "outputs": [],
      "source": [
        "class Rectangle:\n",
        "  def __init__(self,**kwargs):\n",
        "    self.length=kwargs.get('length',0)\n",
        "    self.breadth=kwargs.get('breadth',0)\n",
        "  def area(self):\n",
        "    return self.length*self.breadth\n",
        "  def is_square(self):\n",
        "    return True if self.length==self.breadth else False"
      ]
    },
    {
      "cell_type": "code",
      "execution_count": null,
      "metadata": {
        "colab": {
          "base_uri": "https://localhost:8080/"
        },
        "id": "7kDpBAflnspQ",
        "outputId": "abd20297-e8d3-42f2-9278-8ec038a5b058"
      },
      "outputs": [
        {
          "data": {
            "text/plain": [
              "False"
            ]
          },
          "execution_count": 8,
          "metadata": {},
          "output_type": "execute_result"
        }
      ],
      "source": [
        "d1=Rectangle(length=10,breadth=15)\n",
        "d1.area()\n",
        "d1.is_square()"
      ]
    },
    {
      "cell_type": "code",
      "execution_count": null,
      "metadata": {
        "id": "LLbI4s90o_ps"
      },
      "outputs": [],
      "source": [
        "class Rectangle:\n",
        "  def __init__(self,**kwargs):\n",
        "    self.length=kwargs.get('length',0)\n",
        "    self.breadth=kwargs.get('breadth',0)\n",
        "  def area(self):\n",
        "    return self.length*self.breadth\n",
        "  def is_square(self):\n",
        "    return self.length==self.breadth"
      ]
    },
    {
      "cell_type": "code",
      "execution_count": null,
      "metadata": {
        "colab": {
          "base_uri": "https://localhost:8080/"
        },
        "id": "1a6TKZofqmSV",
        "outputId": "8a407525-3cbd-48cc-91a3-33230964470f"
      },
      "outputs": [
        {
          "data": {
            "text/plain": [
              "200"
            ]
          },
          "execution_count": 10,
          "metadata": {},
          "output_type": "execute_result"
        }
      ],
      "source": [
        "d1=Rectangle(length=10,breadth=20)\n",
        "d1.area()"
      ]
    },
    {
      "cell_type": "code",
      "execution_count": null,
      "metadata": {
        "colab": {
          "base_uri": "https://localhost:8080/"
        },
        "id": "LNZfq-HeqvzO",
        "outputId": "2cbd750c-b9a0-4416-adc2-593c29d1bcb8"
      },
      "outputs": [
        {
          "data": {
            "text/plain": [
              "False"
            ]
          },
          "execution_count": 11,
          "metadata": {},
          "output_type": "execute_result"
        }
      ],
      "source": [
        "d1.is_square()"
      ]
    },
    {
      "cell_type": "code",
      "execution_count": null,
      "metadata": {
        "colab": {
          "base_uri": "https://localhost:8080/"
        },
        "id": "uG1TiDyEq1tq",
        "outputId": "986d8c68-979d-4ce6-f1aa-9c53fa912878"
      },
      "outputs": [
        {
          "data": {
            "text/plain": [
              "100"
            ]
          },
          "execution_count": 13,
          "metadata": {},
          "output_type": "execute_result"
        }
      ],
      "source": [
        "d2=Rectangle(length=10,breadth=10)\n",
        "d2.area()"
      ]
    },
    {
      "cell_type": "code",
      "execution_count": null,
      "metadata": {
        "colab": {
          "base_uri": "https://localhost:8080/"
        },
        "id": "GDFPtD6hrAL1",
        "outputId": "8c102e99-6365-414b-b36a-84c8e5ff900d"
      },
      "outputs": [
        {
          "data": {
            "text/plain": [
              "True"
            ]
          },
          "execution_count": 14,
          "metadata": {},
          "output_type": "execute_result"
        }
      ],
      "source": [
        "d2.is_square()"
      ]
    },
    {
      "cell_type": "code",
      "execution_count": null,
      "metadata": {
        "id": "8zyYIh7PrFC_"
      },
      "outputs": [],
      "source": [
        "from datetime import datetime\n",
        "class product:\n",
        "  def __init__(self,**kwargs):\n",
        "    self.manufacture_date=kwargs.get('manufacture_date',0)\n",
        "    self.expiry_date=kwargs.get('expiry_date',0)\n",
        "    self.diff()\n",
        "  def diff(self):\n",
        "    dat1=datetime.strptime(self.manufacture_date,\"%Y-%m-%d\")\n",
        "    dat2=datetime.strptime(self.expiry_date,\"%Y-%m-%d\")\n",
        "    datti=dat1-dat2\n",
        "    print(f\"Difference in days is {datti.days}, difference in month is {datti.months}\")"
      ]
    },
    {
      "cell_type": "code",
      "execution_count": null,
      "metadata": {
        "colab": {
          "base_uri": "https://localhost:8080/",
          "height": 286
        },
        "id": "lSkdahe86K92",
        "outputId": "43a10993-4026-4a6a-8b44-7222e6231fde"
      },
      "outputs": [
        {
          "ename": "AttributeError",
          "evalue": "ignored",
          "output_type": "error",
          "traceback": [
            "\u001b[0;31m---------------------------------------------------------------------------\u001b[0m",
            "\u001b[0;31mAttributeError\u001b[0m                            Traceback (most recent call last)",
            "\u001b[0;32m<ipython-input-25-554f13af534e>\u001b[0m in \u001b[0;36m<cell line: 1>\u001b[0;34m()\u001b[0m\n\u001b[0;32m----> 1\u001b[0;31m \u001b[0md9\u001b[0m\u001b[0;34m=\u001b[0m\u001b[0mproduct\u001b[0m\u001b[0;34m(\u001b[0m\u001b[0mmanufacture_date\u001b[0m\u001b[0;34m=\u001b[0m\u001b[0;34m\"2023-05-14\"\u001b[0m\u001b[0;34m,\u001b[0m\u001b[0mexpiry_date\u001b[0m\u001b[0;34m=\u001b[0m\u001b[0;34m\"2022-07-21\"\u001b[0m\u001b[0;34m)\u001b[0m\u001b[0;34m\u001b[0m\u001b[0;34m\u001b[0m\u001b[0m\n\u001b[0m",
            "\u001b[0;32m<ipython-input-24-20a2331c3ff0>\u001b[0m in \u001b[0;36m__init__\u001b[0;34m(self, **kwargs)\u001b[0m\n\u001b[1;32m      4\u001b[0m     \u001b[0mself\u001b[0m\u001b[0;34m.\u001b[0m\u001b[0mmanufacture_date\u001b[0m\u001b[0;34m=\u001b[0m\u001b[0mkwargs\u001b[0m\u001b[0;34m.\u001b[0m\u001b[0mget\u001b[0m\u001b[0;34m(\u001b[0m\u001b[0;34m'manufacture_date'\u001b[0m\u001b[0;34m,\u001b[0m\u001b[0;36m0\u001b[0m\u001b[0;34m)\u001b[0m\u001b[0;34m\u001b[0m\u001b[0;34m\u001b[0m\u001b[0m\n\u001b[1;32m      5\u001b[0m     \u001b[0mself\u001b[0m\u001b[0;34m.\u001b[0m\u001b[0mexpiry_date\u001b[0m\u001b[0;34m=\u001b[0m\u001b[0mkwargs\u001b[0m\u001b[0;34m.\u001b[0m\u001b[0mget\u001b[0m\u001b[0;34m(\u001b[0m\u001b[0;34m'expiry_date'\u001b[0m\u001b[0;34m,\u001b[0m\u001b[0;36m0\u001b[0m\u001b[0;34m)\u001b[0m\u001b[0;34m\u001b[0m\u001b[0;34m\u001b[0m\u001b[0m\n\u001b[0;32m----> 6\u001b[0;31m     \u001b[0mself\u001b[0m\u001b[0;34m.\u001b[0m\u001b[0mdiff\u001b[0m\u001b[0;34m(\u001b[0m\u001b[0;34m)\u001b[0m\u001b[0;34m\u001b[0m\u001b[0;34m\u001b[0m\u001b[0m\n\u001b[0m\u001b[1;32m      7\u001b[0m   \u001b[0;32mdef\u001b[0m \u001b[0mdiff\u001b[0m\u001b[0;34m(\u001b[0m\u001b[0mself\u001b[0m\u001b[0;34m)\u001b[0m\u001b[0;34m:\u001b[0m\u001b[0;34m\u001b[0m\u001b[0;34m\u001b[0m\u001b[0m\n\u001b[1;32m      8\u001b[0m     \u001b[0mdat1\u001b[0m\u001b[0;34m=\u001b[0m\u001b[0mdatetime\u001b[0m\u001b[0;34m.\u001b[0m\u001b[0mstrptime\u001b[0m\u001b[0;34m(\u001b[0m\u001b[0mself\u001b[0m\u001b[0;34m.\u001b[0m\u001b[0mmanufacture_date\u001b[0m\u001b[0;34m,\u001b[0m\u001b[0;34m\"%Y-%m-%d\"\u001b[0m\u001b[0;34m)\u001b[0m\u001b[0;34m\u001b[0m\u001b[0;34m\u001b[0m\u001b[0m\n",
            "\u001b[0;32m<ipython-input-24-20a2331c3ff0>\u001b[0m in \u001b[0;36mdiff\u001b[0;34m(self)\u001b[0m\n\u001b[1;32m      9\u001b[0m     \u001b[0mdat2\u001b[0m\u001b[0;34m=\u001b[0m\u001b[0mdatetime\u001b[0m\u001b[0;34m.\u001b[0m\u001b[0mstrptime\u001b[0m\u001b[0;34m(\u001b[0m\u001b[0mself\u001b[0m\u001b[0;34m.\u001b[0m\u001b[0mexpiry_date\u001b[0m\u001b[0;34m,\u001b[0m\u001b[0;34m\"%Y-%m-%d\"\u001b[0m\u001b[0;34m)\u001b[0m\u001b[0;34m\u001b[0m\u001b[0;34m\u001b[0m\u001b[0m\n\u001b[1;32m     10\u001b[0m     \u001b[0mdatti\u001b[0m\u001b[0;34m=\u001b[0m\u001b[0mdat1\u001b[0m\u001b[0;34m-\u001b[0m\u001b[0mdat2\u001b[0m\u001b[0;34m\u001b[0m\u001b[0;34m\u001b[0m\u001b[0m\n\u001b[0;32m---> 11\u001b[0;31m     \u001b[0mprint\u001b[0m\u001b[0;34m(\u001b[0m\u001b[0;34mf\"Difference in days is {datti.days}, difference in month is {datti.months}\"\u001b[0m\u001b[0;34m)\u001b[0m\u001b[0;34m\u001b[0m\u001b[0;34m\u001b[0m\u001b[0m\n\u001b[0m",
            "\u001b[0;31mAttributeError\u001b[0m: 'datetime.timedelta' object has no attribute 'months'"
          ]
        }
      ],
      "source": [
        "d9=product(manufacture_date=\"2023-05-14\",expiry_date=\"2022-07-21\")"
      ]
    },
    {
      "cell_type": "code",
      "execution_count": null,
      "metadata": {
        "colab": {
          "base_uri": "https://localhost:8080/"
        },
        "id": "woQQGYDC7iwq",
        "outputId": "c080e002-0487-4120-e707-19c8b12dd1f8"
      },
      "outputs": [
        {
          "name": "stdout",
          "output_type": "stream",
          "text": [
            "Year difference: 2 years\n",
            "Month difference: 9 months\n",
            "5\n"
          ]
        }
      ],
      "source": [
        "from datetime import datetime\n",
        "from dateutil.relativedelta import relativedelta\n",
        "\n",
        "# Define two dates\n",
        "date_str1 = \"2020-05-15\"\n",
        "date_str2 = \"2023-02-20\"\n",
        "\n",
        "# Convert the date strings to datetime objects\n",
        "date1 = datetime.strptime(date_str1, \"%Y-%m-%d\")\n",
        "date2 = datetime.strptime(date_str2, \"%Y-%m-%d\")\n",
        "\n",
        "# Calculate the difference using relativedelta\n",
        "date_difference = relativedelta(date2, date1)\n",
        "\n",
        "# Print the difference in years and months\n",
        "print(\"Year difference:\", date_difference.years, \"years\")\n",
        "print(\"Month difference:\", date_difference.months, \"months\")\n",
        "print(date_difference.days)"
      ]
    },
    {
      "cell_type": "code",
      "execution_count": null,
      "metadata": {
        "id": "VYEBh5kx-Cka"
      },
      "outputs": [],
      "source": [
        "from datetime import datetime\n"
      ]
    },
    {
      "cell_type": "code",
      "execution_count": null,
      "metadata": {
        "id": "VW6EWOxeXOwn"
      },
      "outputs": [],
      "source": [
        "class Student:\n",
        "  def __init__(self):\n",
        "    self.__student_id=None\n",
        "    self.__marks=None\n",
        "    self.__age=None\n",
        "  def get_id(self):\n",
        "    return self.__student_id\n",
        "  def get_\n",
        "  def set_id(self,x):\n",
        "    self.__student_id=x\n",
        "  def set_marks(self,x):\n",
        "    self.__marks=x\n",
        "  def set_age(self,x):\n",
        "    self.__age=x\n",
        "  def validate_marks(self):\n",
        "    return 0<=self.__marks<=100\n",
        "  def validate_age(self):\n",
        "    return self.__age>20\n",
        "  def check_qualification(self):\n",
        "    if self.validate_marks() and self.validate_age():\n",
        "      if self.__marks>=65:\n",
        "        return True\n",
        "      else:\n",
        "        return False\n",
        "    else:\n",
        "      return False\n",
        "\n",
        "\n"
      ]
    },
    {
      "cell_type": "code",
      "execution_count": null,
      "metadata": {
        "id": "3Ugl4fxf7Ida"
      },
      "outputs": [],
      "source": [
        "stud1=Student()"
      ]
    },
    {
      "cell_type": "code",
      "execution_count": null,
      "metadata": {
        "id": "sLVbvYO17NSj"
      },
      "outputs": [],
      "source": [
        "stud1.set_id(2)"
      ]
    },
    {
      "cell_type": "code",
      "execution_count": null,
      "metadata": {
        "id": "0reELJz58Kra"
      },
      "outputs": [],
      "source": [
        "stud1.set_marks(66)"
      ]
    },
    {
      "cell_type": "code",
      "execution_count": null,
      "metadata": {
        "id": "JRFYcg308SLV"
      },
      "outputs": [],
      "source": [
        "stud1.set_age(21)"
      ]
    },
    {
      "cell_type": "code",
      "execution_count": null,
      "metadata": {
        "colab": {
          "base_uri": "https://localhost:8080/"
        },
        "id": "kVmTN6av8XpW",
        "outputId": "aa744f49-efba-46b4-94ce-5088bf489c2c"
      },
      "outputs": [
        {
          "data": {
            "text/plain": [
              "True"
            ]
          },
          "execution_count": 12,
          "metadata": {},
          "output_type": "execute_result"
        }
      ],
      "source": [
        "stud1.check_qualification()"
      ]
    },
    {
      "cell_type": "code",
      "execution_count": null,
      "metadata": {
        "id": "oIJx3zTX9rWE"
      },
      "outputs": [],
      "source": [
        "class Scoop:\n",
        "  def __init__(self,x):\n",
        "    self.flavor=x\n",
        "    self.__price=None\n",
        "    self.noof=None\n",
        "  def get_price(self):\n",
        "    return self.__price\n",
        "  def set_price(self,y):\n",
        "    self.__price=y\n",
        "  def no_sold(self,d):\n",
        "    self.noof=d\n",
        "  def sold(self):\n",
        "    print(\"Number sold \",self.noof)\n",
        "class Bowl:\n",
        "  def __init__(self):\n",
        "    self.scoop_list=[]\n",
        "  def add_scoops(self,d1):\n",
        "    self.scoop_list.append(d1)\n",
        "    print(self.scoop_list)\n",
        "  def display(self):\n",
        "    sum=0\n",
        "    for i in self.scoop_list:\n",
        "      print(\"flavor \",i.flavor)\n",
        "      print(\"price \",i.get_price())\n",
        "      sum+=i.get_price()*i.noof\n",
        "    return sum\n",
        "  def sold(self):\n",
        "    a1=0\n",
        "    for z in self.scoop_list:\n",
        "      a1+=z.noof\n",
        "    return a1\n",
        "\n"
      ]
    },
    {
      "cell_type": "code",
      "execution_count": null,
      "metadata": {
        "id": "YCBzqxaRklf4"
      },
      "outputs": [],
      "source": [
        "a1=Scoop(\"creamy\")\n",
        "a1.set_price(20)\n",
        "a1.no_sold(3)\n"
      ]
    },
    {
      "cell_type": "code",
      "execution_count": null,
      "metadata": {
        "id": "8zbksfvdlRWu"
      },
      "outputs": [],
      "source": [
        "a2=Scoop(\"vanilla\")\n",
        "a2.set_price(15)\n",
        "a2.no_sold(3)"
      ]
    },
    {
      "cell_type": "code",
      "execution_count": null,
      "metadata": {
        "id": "Zab6IZAcneqy"
      },
      "outputs": [],
      "source": [
        "a3=Scoop(\"milky\")\n",
        "a3.set_price(25)\n",
        "a3.no_sold(6)"
      ]
    },
    {
      "cell_type": "code",
      "execution_count": null,
      "metadata": {
        "colab": {
          "base_uri": "https://localhost:8080/"
        },
        "id": "WBgeor2sol3Q",
        "outputId": "a1d104e7-9eb8-444f-9bbc-b5b9fa187a72"
      },
      "outputs": [
        {
          "name": "stdout",
          "output_type": "stream",
          "text": [
            "[<__main__.Scoop object at 0x79f115fa5db0>]\n",
            "[<__main__.Scoop object at 0x79f115fa5db0>, <__main__.Scoop object at 0x79f115fa5b40>]\n",
            "[<__main__.Scoop object at 0x79f115fa5db0>, <__main__.Scoop object at 0x79f115fa5b40>, <__main__.Scoop object at 0x79f115fa6fe0>]\n"
          ]
        }
      ],
      "source": [
        "b1=Bowl()\n",
        "b1.add_scoops(a1)\n",
        "b1.add_scoops(a2)\n",
        "b1.add_scoops(a3)"
      ]
    },
    {
      "cell_type": "code",
      "execution_count": null,
      "metadata": {
        "colab": {
          "base_uri": "https://localhost:8080/"
        },
        "id": "mcY0tiRwpIoD",
        "outputId": "8fbe6fd3-5a8e-4fc7-f93e-c664eed0ef36"
      },
      "outputs": [
        {
          "data": {
            "text/plain": [
              "12"
            ]
          },
          "execution_count": 36,
          "metadata": {},
          "output_type": "execute_result"
        }
      ],
      "source": [
        "b1.sold()"
      ]
    },
    {
      "cell_type": "code",
      "execution_count": null,
      "metadata": {
        "colab": {
          "base_uri": "https://localhost:8080/"
        },
        "id": "mIwYI2eetHny",
        "outputId": "953c11b1-d588-4688-9a2e-81ff6423b471"
      },
      "outputs": [
        {
          "name": "stdout",
          "output_type": "stream",
          "text": [
            "flavor  creamy\n",
            "price  20\n",
            "flavor  vanilla\n",
            "price  15\n",
            "flavor  milky\n",
            "price  25\n"
          ]
        },
        {
          "data": {
            "text/plain": [
              "255"
            ]
          },
          "execution_count": 37,
          "metadata": {},
          "output_type": "execute_result"
        }
      ],
      "source": [
        "b1.display()"
      ]
    },
    {
      "cell_type": "code",
      "execution_count": null,
      "metadata": {
        "colab": {
          "base_uri": "https://localhost:8080/"
        },
        "id": "Zkf1uxLdkBXM",
        "outputId": "d4d0e3d8-e0ea-4e93-fc9e-912f2e46426d"
      },
      "outputs": [
        {
          "name": "stdout",
          "output_type": "stream",
          "text": [
            "3\n"
          ]
        }
      ],
      "source": [
        "class Car:\n",
        "  __counter=0\n",
        "  def __init__(self):\n",
        "    Car.__counter+=1\n",
        "  def get_count():\n",
        "    return Car.__counter\n",
        "c1=Car()\n",
        "c2=Car()\n",
        "c3=Car()\n",
        "print(Car.get_count())\n"
      ]
    },
    {
      "cell_type": "code",
      "execution_count": null,
      "metadata": {
        "colab": {
          "base_uri": "https://localhost:8080/"
        },
        "id": "phV41CetF4xi",
        "outputId": "bdf00d1f-2f7a-4100-f0e1-ba81fe4c466d"
      },
      "outputs": [
        {
          "name": "stdout",
          "output_type": "stream",
          "text": [
            "Point(3, 5)\n"
          ]
        }
      ],
      "source": [
        "class Point:\n",
        "    def __init__(self, x, y):\n",
        "        self.x = x\n",
        "        self.y = y\n",
        "\n",
        "\n",
        "    def __repr__(self):\n",
        "        return f\"Point({self.x}, {self.y})\"\n",
        "\n",
        "point = Point(3, 5)\n",
        "\n",
        "print(point)"
      ]
    },
    {
      "cell_type": "code",
      "execution_count": null,
      "metadata": {
        "colab": {
          "base_uri": "https://localhost:8080/"
        },
        "id": "tdHmtGVBJnlC",
        "outputId": "dbd39651-e607-4523-8b3c-19710e6b45d5"
      },
      "outputs": [
        {
          "data": {
            "text/plain": [
              "[('a', 1),\n",
              " ('a', 2),\n",
              " ('a', 3),\n",
              " ('a', 4),\n",
              " ('a', 5),\n",
              " ('a', 6),\n",
              " ('a', 7),\n",
              " ('a', 8),\n",
              " ('a', 9),\n",
              " ('a', 10),\n",
              " ('a', 11),\n",
              " ('a', 12),\n",
              " ('a', 13),\n",
              " ('a', 14),\n",
              " ('a', 15),\n",
              " ('a', 16),\n",
              " ('b', 1),\n",
              " ('b', 2),\n",
              " ('b', 3),\n",
              " ('b', 4),\n",
              " ('b', 5),\n",
              " ('b', 6),\n",
              " ('b', 7),\n",
              " ('b', 8),\n",
              " ('b', 9),\n",
              " ('b', 10),\n",
              " ('b', 11),\n",
              " ('b', 12),\n",
              " ('b', 13),\n",
              " ('b', 14),\n",
              " ('b', 15),\n",
              " ('b', 16),\n",
              " ('c', 1),\n",
              " ('c', 2),\n",
              " ('c', 3),\n",
              " ('c', 4),\n",
              " ('c', 5),\n",
              " ('c', 6),\n",
              " ('c', 7),\n",
              " ('c', 8),\n",
              " ('c', 9),\n",
              " ('c', 10),\n",
              " ('c', 11),\n",
              " ('c', 12),\n",
              " ('c', 13),\n",
              " ('c', 14),\n",
              " ('c', 15),\n",
              " ('c', 16),\n",
              " ('d', 1),\n",
              " ('d', 2),\n",
              " ('d', 3),\n",
              " ('d', 4),\n",
              " ('d', 5),\n",
              " ('d', 6),\n",
              " ('d', 7),\n",
              " ('d', 8),\n",
              " ('d', 9),\n",
              " ('d', 10),\n",
              " ('d', 11),\n",
              " ('d', 12),\n",
              " ('d', 13),\n",
              " ('d', 14),\n",
              " ('d', 15),\n",
              " ('d', 16)]"
            ]
          },
          "execution_count": 5,
          "metadata": {},
          "output_type": "execute_result"
        }
      ],
      "source": [
        "a1=['a','b','c','d']\n",
        "a2=[1,2,3,4,5,6,7,8,9,10,11,12,13,14,15,16]\n",
        "[(a,b) for a in a1 for b in a2]\n",
        "#for every value of a1 all of a2 will run"
      ]
    },
    {
      "cell_type": "code",
      "execution_count": null,
      "metadata": {
        "colab": {
          "base_uri": "https://localhost:8080/"
        },
        "id": "9M_kRrw_MIOc",
        "outputId": "af34c04c-5a37-4ce9-d238-879549cd89bd"
      },
      "outputs": [
        {
          "data": {
            "text/plain": [
              "[(1, 'a'),\n",
              " (1, 'b'),\n",
              " (1, 'c'),\n",
              " (1, 'd'),\n",
              " (2, 'a'),\n",
              " (2, 'b'),\n",
              " (2, 'c'),\n",
              " (2, 'd'),\n",
              " (3, 'a'),\n",
              " (3, 'b'),\n",
              " (3, 'c'),\n",
              " (3, 'd'),\n",
              " (4, 'a'),\n",
              " (4, 'b'),\n",
              " (4, 'c'),\n",
              " (4, 'd'),\n",
              " (5, 'a'),\n",
              " (5, 'b'),\n",
              " (5, 'c'),\n",
              " (5, 'd'),\n",
              " (6, 'a'),\n",
              " (6, 'b'),\n",
              " (6, 'c'),\n",
              " (6, 'd'),\n",
              " (7, 'a'),\n",
              " (7, 'b'),\n",
              " (7, 'c'),\n",
              " (7, 'd'),\n",
              " (8, 'a'),\n",
              " (8, 'b'),\n",
              " (8, 'c'),\n",
              " (8, 'd'),\n",
              " (9, 'a'),\n",
              " (9, 'b'),\n",
              " (9, 'c'),\n",
              " (9, 'd'),\n",
              " (10, 'a'),\n",
              " (10, 'b'),\n",
              " (10, 'c'),\n",
              " (10, 'd'),\n",
              " (11, 'a'),\n",
              " (11, 'b'),\n",
              " (11, 'c'),\n",
              " (11, 'd'),\n",
              " (12, 'a'),\n",
              " (12, 'b'),\n",
              " (12, 'c'),\n",
              " (12, 'd'),\n",
              " (13, 'a'),\n",
              " (13, 'b'),\n",
              " (13, 'c'),\n",
              " (13, 'd'),\n",
              " (14, 'a'),\n",
              " (14, 'b'),\n",
              " (14, 'c'),\n",
              " (14, 'd'),\n",
              " (15, 'a'),\n",
              " (15, 'b'),\n",
              " (15, 'c'),\n",
              " (15, 'd'),\n",
              " (16, 'a'),\n",
              " (16, 'b'),\n",
              " (16, 'c'),\n",
              " (16, 'd')]"
            ]
          },
          "execution_count": 6,
          "metadata": {},
          "output_type": "execute_result"
        }
      ],
      "source": [
        "[(a,b) for a in a2 for b in a1]\n",
        "#for every value of a2 all of a1 will run"
      ]
    },
    {
      "cell_type": "code",
      "execution_count": null,
      "metadata": {
        "id": "4t8Tv8aoSGLz"
      },
      "outputs": [],
      "source": [
        "import random\n",
        "class Card:\n",
        "  def __init__(self,suit,value):\n",
        "    self.suit=suit\n",
        "    self.value=value\n",
        "  def __repr__(self):\n",
        "    return \"{}-->{}\".format(self.suit,self.value)\n",
        "class Deck:\n",
        "  def __init__(self):\n",
        "    suit=['Hearts','Diamonds','Clubs','Diamonds']\n",
        "    value=['A',2,3,4,5,6,7,8,9,10,'J','Q','K']\n",
        "    self.cards=[Card(a,b) for a in suit for b in value]\n",
        "  def __str__(self):\n",
        "    return f\"{len(self.cards)}\"\n",
        "  def shuffle(self):\n",
        "    if len(self.cards)<52:\n",
        "      print(\"Less number of cards\")\n",
        "    else:\n",
        "      random.shuffle(self.cards)\n",
        "    return self.cards\n",
        "  def deal(self):\n",
        "    if len(self.cards)==0:\n",
        "      print(\"Not enough cards\")\n",
        "    else:\n",
        "      self.cards.pop()\n",
        "    return self.cards\n",
        "  def number(self):\n",
        "    return len(self.cards)\n",
        "\n",
        "\n",
        "\n",
        "\n"
      ]
    },
    {
      "cell_type": "code",
      "execution_count": null,
      "metadata": {
        "colab": {
          "base_uri": "https://localhost:8080/"
        },
        "id": "nThjmj6CnAMv",
        "outputId": "c006dedd-5633-4984-f1d3-d5ae71376182"
      },
      "outputs": [
        {
          "name": "stdout",
          "output_type": "stream",
          "text": [
            "[Hearts-->3, Clubs-->10, Diamonds-->5, Diamonds-->10, Diamonds-->6, Hearts-->J, Clubs-->6, Hearts-->K, Clubs-->7, Clubs-->4, Diamonds-->Q, Clubs-->J, Hearts-->A, Diamonds-->J, Diamonds-->3, Diamonds-->3, Diamonds-->A, Diamonds-->7, Diamonds-->9, Diamonds-->J, Diamonds-->2, Clubs-->8, Diamonds-->K, Clubs-->5, Clubs-->9, Clubs-->A, Clubs-->K, Diamonds-->8, Diamonds-->Q, Hearts-->2, Hearts-->9, Hearts-->7, Clubs-->3, Diamonds-->5, Diamonds-->10, Diamonds-->8, Clubs-->Q, Hearts-->10, Diamonds-->K, Hearts-->5, Diamonds-->4, Diamonds-->4, Hearts-->8, Diamonds-->A, Diamonds-->6, Hearts-->4, Diamonds-->7, Hearts-->Q, Diamonds-->9, Diamonds-->2, Hearts-->6]\n",
            "[Hearts-->3, Clubs-->10, Diamonds-->5, Diamonds-->10, Diamonds-->6, Hearts-->J, Clubs-->6, Hearts-->K, Clubs-->7, Clubs-->4, Diamonds-->Q, Clubs-->J, Hearts-->A, Diamonds-->J, Diamonds-->3, Diamonds-->3, Diamonds-->A, Diamonds-->7, Diamonds-->9, Diamonds-->J, Diamonds-->2, Clubs-->8, Diamonds-->K, Clubs-->5, Clubs-->9, Clubs-->A, Clubs-->K, Diamonds-->8, Diamonds-->Q, Hearts-->2, Hearts-->9, Hearts-->7, Clubs-->3, Diamonds-->5, Diamonds-->10, Diamonds-->8, Clubs-->Q, Hearts-->10, Diamonds-->K, Hearts-->5, Diamonds-->4, Diamonds-->4, Hearts-->8, Diamonds-->A, Diamonds-->6, Hearts-->4, Diamonds-->7, Hearts-->Q, Diamonds-->9, Diamonds-->2]\n",
            "50\n"
          ]
        }
      ],
      "source": [
        "a=Deck()\n",
        "a.shuffle()\n",
        "print(a.deal())\n",
        "print(a.deal())\n",
        "print(a)\n"
      ]
    },
    {
      "cell_type": "code",
      "execution_count": null,
      "metadata": {
        "id": "vc6K9mZatABr"
      },
      "outputs": [],
      "source": [
        "import random\n",
        "class Card:\n",
        "  def __init__(self,suit,value):\n",
        "    self.suit=suit\n",
        "    self.value=value\n",
        "  def __repr__(self):\n",
        "    return \"{}-->{}\".format(self.suit,self.value)\n",
        "class Deck:\n",
        "  def __init__(self):\n",
        "    suit=['Hearts','Diamonds','Clubs','Diamonds']\n",
        "    value=['A','2','3','4','5','6','7','8','9','10','J','Q','K']\n",
        "    self.cards=[Card(a,b) for a in suit for b in value]\n",
        "  def __str__(self):\n",
        "    return f\"{len(self.cards)}\"\n",
        "  def shuffle(self):\n",
        "    if len(self.cards)==52:\n",
        "      random.shuffle(self.cards)\n",
        "    else:\n",
        "      print(\"Less number of cards\")\n",
        "    return self.cards\n",
        "  def deal(self):\n",
        "    if len(self.cards)==0:\n",
        "      print(\"No card left\")\n",
        "    else:\n",
        "      self.cards.pop()\n",
        "    return self.cards\n",
        "  def number(self):\n",
        "    return len(self.cards)"
      ]
    },
    {
      "cell_type": "code",
      "execution_count": null,
      "metadata": {
        "colab": {
          "base_uri": "https://localhost:8080/"
        },
        "id": "vP_1ivVm00wV",
        "outputId": "236f3571-6480-45db-af64-0873b81c73ac"
      },
      "outputs": [
        {
          "name": "stdout",
          "output_type": "stream",
          "text": [
            "[Hearts-->9, Hearts-->2, Diamonds-->Q, Hearts-->3, Diamonds-->J, Clubs-->2, Clubs-->10, Diamonds-->10, Clubs-->7, Diamonds-->5, Clubs-->5, Hearts-->K, Hearts-->A, Diamonds-->K, Clubs-->8, Diamonds-->6, Hearts-->10, Diamonds-->8, Hearts-->5, Diamonds-->9, Diamonds-->J, Diamonds-->3, Diamonds-->2, Hearts-->J, Hearts-->Q, Clubs-->9, Clubs-->K, Clubs-->J, Hearts-->4, Diamonds-->K, Diamonds-->A, Diamonds-->4, Diamonds-->4, Clubs-->3, Hearts-->6, Clubs-->4, Diamonds-->5, Clubs-->6, Diamonds-->A, Clubs-->A, Diamonds-->3, Diamonds-->6, Clubs-->Q, Hearts-->8, Diamonds-->7, Hearts-->7, Diamonds-->7, Diamonds-->Q, Diamonds-->9, Diamonds-->8, Diamonds-->2, Diamonds-->10]\n",
            "[Hearts-->9, Hearts-->2, Diamonds-->Q, Hearts-->3, Diamonds-->J, Clubs-->2, Clubs-->10, Diamonds-->10, Clubs-->7, Diamonds-->5, Clubs-->5, Hearts-->K, Hearts-->A, Diamonds-->K, Clubs-->8, Diamonds-->6, Hearts-->10, Diamonds-->8, Hearts-->5, Diamonds-->9, Diamonds-->J, Diamonds-->3, Diamonds-->2, Hearts-->J, Hearts-->Q, Clubs-->9, Clubs-->K, Clubs-->J, Hearts-->4, Diamonds-->K, Diamonds-->A, Diamonds-->4, Diamonds-->4, Clubs-->3, Hearts-->6, Clubs-->4, Diamonds-->5, Clubs-->6, Diamonds-->A, Clubs-->A, Diamonds-->3, Diamonds-->6, Clubs-->Q, Hearts-->8, Diamonds-->7, Hearts-->7, Diamonds-->7, Diamonds-->Q, Diamonds-->9, Diamonds-->8, Diamonds-->2]\n",
            "[Hearts-->9, Hearts-->2, Diamonds-->Q, Hearts-->3, Diamonds-->J, Clubs-->2, Clubs-->10, Diamonds-->10, Clubs-->7, Diamonds-->5, Clubs-->5, Hearts-->K, Hearts-->A, Diamonds-->K, Clubs-->8, Diamonds-->6, Hearts-->10, Diamonds-->8, Hearts-->5, Diamonds-->9, Diamonds-->J, Diamonds-->3, Diamonds-->2, Hearts-->J, Hearts-->Q, Clubs-->9, Clubs-->K, Clubs-->J, Hearts-->4, Diamonds-->K, Diamonds-->A, Diamonds-->4, Diamonds-->4, Clubs-->3, Hearts-->6, Clubs-->4, Diamonds-->5, Clubs-->6, Diamonds-->A, Clubs-->A, Diamonds-->3, Diamonds-->6, Clubs-->Q, Hearts-->8, Diamonds-->7, Hearts-->7, Diamonds-->7, Diamonds-->Q, Diamonds-->9, Diamonds-->8]\n",
            "50\n"
          ]
        }
      ],
      "source": [
        "a=Deck()\n",
        "print(a.shuffle())\n",
        "print(a.deal())\n",
        "print(a.deal())\n",
        "print(a)"
      ]
    },
    {
      "cell_type": "code",
      "execution_count": null,
      "metadata": {
        "id": "S1gZEEdVJ9Ap"
      },
      "outputs": [],
      "source": [
        "import random\n",
        "class Card:\n",
        "  def __init__(self,suit,value):\n",
        "    self.suit=suit\n",
        "    self.value=value\n",
        "  def __repr__(self):\n",
        "    return \"{}-->{}\".format(self.suit,self.value)\n",
        "class Deck:\n",
        "  def __init__(self):\n",
        "    suit=['Hearts','Diamonds','Clubs','Diamonds']\n",
        "    value=['A','2','3','4','5','6','7','8','9','10','J','Q','K']\n",
        "    self.cards=[Card(a,b) for a in suit for b in value]\n",
        "  def __str__(self):\n",
        "    return f\"{len(self.cards)}\"\n",
        "  def shuffles(self):\n",
        "    if len(self.cards)==52:\n",
        "      random.shuffle(self.cards)\n",
        "    else:\n",
        "      print(\"Not enough cards\")\n",
        "    return self.cards\n",
        "  def deal(self):\n",
        "    if len(self.cards)==0:\n",
        "      print(\"No card left\")\n",
        "    return self.cards.pop()\n",
        "\n"
      ]
    },
    {
      "cell_type": "code",
      "execution_count": null,
      "metadata": {
        "colab": {
          "base_uri": "https://localhost:8080/"
        },
        "id": "lWQRuMamTe16",
        "outputId": "aaede81e-2d38-45f3-e5eb-badf0595a0a7"
      },
      "outputs": [
        {
          "name": "stdout",
          "output_type": "stream",
          "text": [
            "Diamonds-->Q\n",
            "Clubs-->K\n",
            "50\n"
          ]
        }
      ],
      "source": [
        "a=Deck()\n",
        "a.shuffles()\n",
        "print(a.deal())\n",
        "print(a.deal())\n",
        "print(a)"
      ]
    },
    {
      "cell_type": "code",
      "execution_count": null,
      "metadata": {
        "colab": {
          "base_uri": "https://localhost:8080/"
        },
        "id": "ensi1uNPqC_E",
        "outputId": "a2e539c2-08b6-4368-bb7e-087b69761726"
      },
      "outputs": [
        {
          "data": {
            "text/plain": [
              "20"
            ]
          },
          "execution_count": 40,
          "metadata": {},
          "output_type": "execute_result"
        }
      ],
      "source": [
        "class Rectangle:\n",
        "  def __init__(self,l,b):\n",
        "    self.length=l\n",
        "    self.breadth=b\n",
        "  @classmethod\n",
        "  def property(cls,l,b):\n",
        "    return cls(l,b)\n",
        "  def area(self):\n",
        "    return self.length*self.breadth\n",
        "  def is_square(self):\n",
        "    return True if self.length==self.breadth else False\n",
        "d1=Rectangle.property(4,5)\n",
        "d1.area()\n"
      ]
    },
    {
      "cell_type": "code",
      "execution_count": null,
      "metadata": {
        "colab": {
          "base_uri": "https://localhost:8080/"
        },
        "id": "ao5i4VVGs2Cs",
        "outputId": "b320bfd0-fceb-497f-d13e-8878ad80cf04"
      },
      "outputs": [
        {
          "data": {
            "text/plain": [
              "False"
            ]
          },
          "execution_count": 41,
          "metadata": {},
          "output_type": "execute_result"
        }
      ],
      "source": [
        "d1.is_square()"
      ]
    },
    {
      "cell_type": "code",
      "execution_count": null,
      "metadata": {
        "colab": {
          "base_uri": "https://localhost:8080/"
        },
        "id": "7z8-JUvgtYnN",
        "outputId": "bf854b3f-72f4-45f6-8758-c89935049124"
      },
      "outputs": [
        {
          "data": {
            "text/plain": [
              "36"
            ]
          },
          "execution_count": 42,
          "metadata": {},
          "output_type": "execute_result"
        }
      ],
      "source": [
        "d2=Rectangle.property(6,6)\n",
        "d2.area()"
      ]
    },
    {
      "cell_type": "code",
      "execution_count": null,
      "metadata": {
        "colab": {
          "base_uri": "https://localhost:8080/"
        },
        "id": "32gTpadZt5Je",
        "outputId": "d0824044-b6d9-43d6-9ff9-cec642330c23"
      },
      "outputs": [
        {
          "data": {
            "text/plain": [
              "True"
            ]
          },
          "execution_count": 43,
          "metadata": {},
          "output_type": "execute_result"
        }
      ],
      "source": [
        "d2.is_square()"
      ]
    },
    {
      "cell_type": "code",
      "execution_count": null,
      "metadata": {
        "id": "MegEkLLBt9U7"
      },
      "outputs": [],
      "source": [
        "#class methods are called by using classname.classmethodname"
      ]
    },
    {
      "cell_type": "code",
      "execution_count": null,
      "metadata": {
        "id": "FJZ-9gDzuw5f"
      },
      "outputs": [],
      "source": [
        "class Rectangle1:\n",
        "  def __init__(self,l,b):\n",
        "    self.length=l\n",
        "    self.breadth=b\n",
        "  def property(cls,l,b):\n",
        "    return cls(l,b)\n",
        "  def area(self):\n",
        "    return self.length*self.breadth\n",
        "  def is_square(self):\n",
        "    return True if self.length==self.breadth else False"
      ]
    },
    {
      "cell_type": "code",
      "execution_count": null,
      "metadata": {
        "colab": {
          "base_uri": "https://localhost:8080/",
          "height": 192
        },
        "id": "zVjgVxZJu_mz",
        "outputId": "a6111e48-93e6-4afb-a34e-a94aaeca5858"
      },
      "outputs": [
        {
          "ename": "TypeError",
          "evalue": "ignored",
          "output_type": "error",
          "traceback": [
            "\u001b[0;31m---------------------------------------------------------------------------\u001b[0m",
            "\u001b[0;31mTypeError\u001b[0m                                 Traceback (most recent call last)",
            "\u001b[0;32m<ipython-input-46-81a8907d3ff4>\u001b[0m in \u001b[0;36m<cell line: 1>\u001b[0;34m()\u001b[0m\n\u001b[0;32m----> 1\u001b[0;31m \u001b[0md3\u001b[0m\u001b[0;34m=\u001b[0m\u001b[0mRectangle1\u001b[0m\u001b[0;34m.\u001b[0m\u001b[0mproperty\u001b[0m\u001b[0;34m(\u001b[0m\u001b[0;36m3\u001b[0m\u001b[0;34m,\u001b[0m\u001b[0;36m4\u001b[0m\u001b[0;34m)\u001b[0m\u001b[0;34m\u001b[0m\u001b[0;34m\u001b[0m\u001b[0m\n\u001b[0m\u001b[1;32m      2\u001b[0m \u001b[0md3\u001b[0m\u001b[0;34m.\u001b[0m\u001b[0mis_square\u001b[0m\u001b[0;34m(\u001b[0m\u001b[0;34m)\u001b[0m\u001b[0;34m\u001b[0m\u001b[0;34m\u001b[0m\u001b[0m\n",
            "\u001b[0;31mTypeError\u001b[0m: Rectangle1.property() missing 1 required positional argument: 'b'"
          ]
        }
      ],
      "source": [
        "d3=Rectangle1.property(3,4)\n",
        "d3.is_square()\n",
        "#to lable method seperately as class method, we have to use this decorator @classmethod"
      ]
    },
    {
      "cell_type": "code",
      "execution_count": null,
      "metadata": {
        "id": "Z6SIBWAD1JsC"
      },
      "outputs": [],
      "source": [
        "#In python decorator is a special type of function that is used to modify or extend the behavior of other functions or methods. Decorators are often used to add functionalities to\n",
        "#function or method without writing some actual code"
      ]
    },
    {
      "cell_type": "code",
      "execution_count": null,
      "metadata": {
        "id": "xkgpYNx5JncY"
      },
      "outputs": [],
      "source": [
        "class mns:\n",
        "  def __init__(self,text):\n",
        "    self.text=text\n",
        "  @uppercase"
      ]
    },
    {
      "cell_type": "code",
      "execution_count": null,
      "metadata": {
        "colab": {
          "base_uri": "https://localhost:8080/"
        },
        "id": "EVI6i0vVIPk7",
        "outputId": "3de430a4-6ca7-4030-9d37-14f94d33aecc"
      },
      "outputs": [
        {
          "name": "stdout",
          "output_type": "stream",
          "text": [
            "21\n"
          ]
        }
      ],
      "source": [
        "def kmn(*args,**kwargs):\n",
        "  print(sum(args))\n",
        "kmn(1,2,3,4,5,6)"
      ]
    },
    {
      "cell_type": "code",
      "execution_count": null,
      "metadata": {
        "colab": {
          "base_uri": "https://localhost:8080/"
        },
        "id": "fOpVaFNuJTHL",
        "outputId": "fec964eb-e3d7-4828-d1ab-d0cc496ef235"
      },
      "outputs": [
        {
          "name": "stdout",
          "output_type": "stream",
          "text": [
            "HELLO HOW THE HELL ARE YOU AND WHO IS MSD? MSD IS GOD, THALAIVA, AMRENDRA BAHUBALI, KGF, ALL IN ONE\n"
          ]
        }
      ],
      "source": [
        "def uppercase(func):\n",
        "  def wrapper(*args,**kwargs):\n",
        "    result=func(*args,**kwargs)\n",
        "    return result.upper()\n",
        "  return wrapper\n",
        "class texter:\n",
        "  def __init__(self,text):\n",
        "    self.text=text\n",
        "  @uppercase\n",
        "  def uppp(self):\n",
        "    return self.text\n",
        "  def __str__(self):\n",
        "    return self.uppp()\n",
        "champ=texter(\"hello how the hell are you and who is msd? msd is god, thalaiva, amrendra bahubali, kgf, all in one\")\n",
        "print(champ)\n",
        "#uppercase is a decorator which takes in function as argument creates warapper within it and has *args and **kwargs as arguments, result from func is returned and then result.upper()\n",
        "#is returned, lastly wrapper itself is returned, decorator adds extra functionality to a method without adding any extra piece of code\n"
      ]
    },
    {
      "cell_type": "code",
      "execution_count": null,
      "metadata": {
        "colab": {
          "base_uri": "https://localhost:8080/"
        },
        "id": "_le9Tm7wQDmg",
        "outputId": "105bd3d0-6695-4a2c-d68f-282136c859a7"
      },
      "outputs": [
        {
          "data": {
            "text/plain": [
              "16"
            ]
          },
          "execution_count": 9,
          "metadata": {},
          "output_type": "execute_result"
        }
      ],
      "source": [
        "class Rectangle:\n",
        "  def __init__(self,l,b):\n",
        "    self.length=l\n",
        "    self.breadth=b\n",
        "  @classmethod\n",
        "  def property(cls,l,b):\n",
        "    return cls(l,b)\n",
        "  def area(self):\n",
        "    return self.length*self.breadth\n",
        "  def is_square(self):\n",
        "    return self.length==self.breadth\n",
        "c1=Rectangle.property(4,4)\n",
        "c1.area()\n"
      ]
    },
    {
      "cell_type": "code",
      "execution_count": null,
      "metadata": {
        "colab": {
          "base_uri": "https://localhost:8080/"
        },
        "id": "h9tIchA2cVTA",
        "outputId": "a0b94b7a-af4c-4c1f-9bb5-7f64f3ea4f83"
      },
      "outputs": [
        {
          "data": {
            "text/plain": [
              "True"
            ]
          },
          "execution_count": 10,
          "metadata": {},
          "output_type": "execute_result"
        }
      ],
      "source": [
        "c1.is_square()"
      ]
    },
    {
      "cell_type": "code",
      "execution_count": null,
      "metadata": {
        "colab": {
          "base_uri": "https://localhost:8080/"
        },
        "id": "0-_k-tqBcb1F",
        "outputId": "3d200644-b701-4bb8-dc14-2d8664b29870"
      },
      "outputs": [
        {
          "name": "stdout",
          "output_type": "stream",
          "text": [
            "Enter the manufactured date in DD/MM/YYY format 20/05/2020\n",
            "Enter the expiry date in DD/MM/YYY format 20/05/2024\n",
            "268 days, 0:00:00\n"
          ]
        }
      ],
      "source": [
        "import datetime\n",
        "class product:\n",
        "  def __init__(self):\n",
        "    self.manufacture_date=input(\"Enter the manufactured date in DD/MM/YYY format \")\n",
        "    self.expiry_date=input(\"Enter the expiry date in DD/MM/YYY format \")\n",
        "    self.manufacture_date=datetime.datetime.strptime(self.manufacture_date,\"%d/%m/%Y\")\n",
        "    self.expiry_date=datetime.datetime.strptime(self.expiry_date,\"%d/%m/%Y\")\n",
        "  def time_to_expire(self):\n",
        "    right_now=datetime.datetime.now()\n",
        "    if right_now>self.expiry_date:\n",
        "      print(\"The product has already expired\")\n",
        "    else:\n",
        "      time_left=self.expiry_date.date()-right_now.date()\n",
        "      print(time_left)\n",
        "cmn=product()\n",
        "cmn.time_to_expire()\n"
      ]
    },
    {
      "cell_type": "code",
      "execution_count": null,
      "metadata": {
        "colab": {
          "base_uri": "https://localhost:8080/"
        },
        "id": "1pkShrDSV36p",
        "outputId": "eb30fd9a-a3fb-48f7-a6d9-fbf74b256fa5"
      },
      "outputs": [
        {
          "name": "stdout",
          "output_type": "stream",
          "text": [
            "Enter the manufacture date in DD/MM/YYYY format 20/05/2020\n",
            "Enter the expiry date in DD/MM/YYYY format 20/05/2024\n",
            "267 days, 0:00:00\n"
          ]
        }
      ],
      "source": [
        "import datetime\n",
        "class product:\n",
        "  def __init__(self):\n",
        "    self.manufacture_date=input(\"Enter the manufacture date in DD/MM/YYYY format \")\n",
        "    self.expiry_date=input(\"Enter the expiry date in DD/MM/YYYY format \")\n",
        "    self.manufacture_date=datetime.datetime.strptime(self.manufacture_date,\"%d/%m/%Y\")\n",
        "    self.expiry_date=datetime.datetime.strptime(self.expiry_date,\"%d/%m/%Y\")\n",
        "  def time_to_expire(self):\n",
        "    right_now=datetime.datetime.now()\n",
        "    if right_now>self.expiry_date:\n",
        "      print(\"already expired\")\n",
        "    else:\n",
        "      time_left=self.expiry_date.date()-right_now.date()\n",
        "      print(time_left)\n",
        "cmm=product()\n",
        "cmm.time_to_expire()\n"
      ]
    },
    {
      "cell_type": "code",
      "execution_count": null,
      "metadata": {
        "id": "NEcN3uhpbZYX"
      },
      "outputs": [],
      "source": [
        "class Student:\n",
        "  def __init__(self):\n",
        "    self.__student_id=None\n",
        "    self.__marks=None\n",
        "    self.__age=None\n",
        "  def set_id(self,s):\n",
        "    self.__student_id=s\n",
        "  def set_marks(self,m):\n",
        "    self.__marks=m\n",
        "  def set_age(self,a):\n",
        "    self.__age=a\n",
        "  def get_id(self):\n",
        "    return self.__student_id\n",
        "  def get_marks(self):\n",
        "    return self.__marks\n",
        "  def get_age(self):\n",
        "    return self.__age\n",
        "  def validate_marks(self):\n",
        "    return 0<=self.__marks<=100\n",
        "  def validate_age(self):\n",
        "    return self.__age>20\n",
        "  def check_qualification(self):\n",
        "    if self.validate_marks() and self.validate_age():\n",
        "      if self.__marks>=65:\n",
        "        return True\n",
        "      else:\n",
        "        return False\n",
        "    else:\n",
        "      return False\n",
        "\n"
      ]
    },
    {
      "cell_type": "code",
      "execution_count": null,
      "metadata": {
        "colab": {
          "base_uri": "https://localhost:8080/"
        },
        "id": "8e8NMys1ix6T",
        "outputId": "297419bb-f7aa-443c-a940-132f0615e436"
      },
      "outputs": [
        {
          "name": "stdout",
          "output_type": "stream",
          "text": [
            "101\n",
            "66\n",
            "21\n"
          ]
        },
        {
          "data": {
            "text/plain": [
              "True"
            ]
          },
          "execution_count": 4,
          "metadata": {},
          "output_type": "execute_result"
        }
      ],
      "source": [
        "stu=Student()\n",
        "stu.set_id(101)\n",
        "stu.set_marks(66)\n",
        "stu.set_age(21)\n",
        "print(stu.get_id())\n",
        "print(stu.get_marks())\n",
        "print(stu.get_age())\n",
        "\n",
        "stu.check_qualification()\n"
      ]
    },
    {
      "cell_type": "code",
      "execution_count": null,
      "metadata": {
        "id": "laYL4DMRuqx9"
      },
      "outputs": [],
      "source": [
        "class Scoop:\n",
        "  __counter=0\n",
        "  def __init__(self,x):\n",
        "    self.flavor=x\n",
        "    self.__price=None\n",
        "    Scoop.__counter+=1\n",
        "  def set_price(self,y):\n",
        "    self.__price=y\n",
        "  def get_price(self):\n",
        "    return self.__price\n",
        "  @staticmethod\n",
        "  def sold():\n",
        "    return Scoop.__counter\n",
        "  def __str__(self):\n",
        "    return \"flavor is {} and price is {}\".format(self.flavor,self.__price)\n",
        "class Bowl:\n",
        "  __counter=0\n",
        "  def __init__(self):\n",
        "    self.scoop_list=[]\n",
        "    Bowl.__counter+=1\n",
        "  def add_scoops(self,*mns):\n",
        "    for k in mns:\n",
        "      self.scoop_list.append(k)\n",
        "  def display(self):\n",
        "    total=0\n",
        "    for i in self.scoop_list:\n",
        "      print(i)\n",
        "      total+=i.get_price()\n",
        "    print('total prize ',total)\n",
        "  @staticmethod\n",
        "  def sold():\n",
        "    return Bowl.__counter\n",
        "\n",
        "\n"
      ]
    },
    {
      "cell_type": "code",
      "execution_count": null,
      "metadata": {
        "colab": {
          "base_uri": "https://localhost:8080/"
        },
        "id": "HdtBGzSVWUlg",
        "outputId": "05265e0e-945b-48bd-8f12-4302c627011c"
      },
      "outputs": [
        {
          "name": "stdout",
          "output_type": "stream",
          "text": [
            "flavor is chocolate and price is None\n",
            "flavor is berry and price is 120\n",
            "<__main__.Bowl object at 0x79da5d8bb190>\n",
            "flavor is chocolate and price is 100\n",
            "flavor is berry and price is 120\n",
            "flavor is vanilla and price is 150\n"
          ]
        },
        {
          "data": {
            "text/plain": [
              "1"
            ]
          },
          "execution_count": 6,
          "metadata": {},
          "output_type": "execute_result"
        }
      ],
      "source": [
        "choco = Scoop('chocolate')\n",
        "print(choco)\n",
        "choco.set_price(100)\n",
        "\n",
        "berry = Scoop('berry')\n",
        "berry.set_price(120)\n",
        "print(berry)\n",
        "\n",
        "vanilla = Scoop('vanilla')\n",
        "vanilla.set_price(150)\n",
        "\n",
        "bowl = Bowl()\n",
        "\n",
        "bowl.add_scoops(choco) # Giving one parameter\n",
        "bowl.add_scoops(berry, vanilla) # Multiple\n",
        "# add_scoops should handle both scenerios\n",
        "\n",
        "print(bowl)\n",
        "\n",
        "bowl.display()\n",
        "\n",
        "Scoop.sold()\n",
        "Bowl.sold()"
      ]
    },
    {
      "cell_type": "code",
      "execution_count": null,
      "metadata": {
        "colab": {
          "base_uri": "https://localhost:8080/"
        },
        "id": "aHw-gGrhW3Ge",
        "outputId": "04b2e808-b2d5-4eb7-b9ce-907c64572b30"
      },
      "outputs": [
        {
          "name": "stdout",
          "output_type": "stream",
          "text": [
            "flavor is chocolate and price is 100\n",
            "flavor is berry and price is 120\n",
            "flavor is vanilla and price is 150\n",
            "total prize  370\n",
            "3\n",
            "1\n"
          ]
        }
      ],
      "source": [
        "choco = Scoop('chocolate')\n",
        "choco.set_price(100)\n",
        "\n",
        "berry = Scoop('berry')\n",
        "berry.set_price(120)\n",
        "\n",
        "vanilla = Scoop('vanilla')\n",
        "vanilla.set_price(150)\n",
        "\n",
        "bowl = Bowl()\n",
        "\n",
        "bowl.add_scoops(choco) # Giving one parameter\n",
        "bowl.add_scoops(berry, vanilla) # Multiple\n",
        "# add_scoops should handle both scenerios\n",
        "\n",
        "bowl.display()\n",
        "\n",
        "print(Scoop.sold())\n",
        "print(Bowl.sold())"
      ]
    },
    {
      "cell_type": "code",
      "execution_count": null,
      "metadata": {
        "id": "5M1TvTIvil9E"
      },
      "outputs": [],
      "source": [
        "class Scoop:\n",
        "  __counter=0#static variable that is ideally same for all objects made out of the given class, is invoked using the name of class\n",
        "  def __init__(self,chn,max_nn=1):#max_nn=1 means by default max_nn will take 1 as value\n",
        "    self.flavor=chn\n",
        "    self.__price=None\n",
        "    self.num_scoops=max_nn\n",
        "    Scoop.__counter+=1\n",
        "  def set_price(self,z):\n",
        "    self.__price=z\n",
        "  def get_price(self):\n",
        "    return self.__price\n",
        "  def __str__(self):\n",
        "    return \"flavor {} price {}\".format(self.flavor,self.__price)\n",
        "  @staticmethod\n",
        "  def count():\n",
        "    return Scoop.__counter\n",
        "class Bowl:\n",
        "  __counter=0\n",
        "  def __init__(self):\n",
        "    self.scoop_list=[]\n",
        "    self.max_scoops=3\n",
        "    self.default_scoop=0\n",
        "  def add_scoops(self,*mns):#mns here is non-keyword argument\n",
        "    for z in mns:#we loop through each element of iterable mns\n",
        "      if self.default_scoop+z.num_scoops<=self.max_scoops:#it adds the default_scoops with num_scoops and checks if max_scoops is less than or equivalent to the sum of both default scoop and num_scoops\n",
        "        self.scoop_list.append(z)#only when default_scoop+scoop of the incoming object is lesser than max_scoops(allowed by user of Bowl) will that object be added to scoop_list list\n",
        "        print(z.flavor,\" added\")#and self.defauly_scoop is incremented by z.num_scoops\n",
        "        self.default_scoop=self.default_scoop+z.num_scoops\n",
        "      else:\n",
        "        print(\"Bowl is full\")\n",
        "        break\n",
        "  def display(self):\n",
        "    total_price=0\n",
        "    for z in self.scoop_list:\n",
        "      print(z)\n",
        "      total_price+=z.get_price()\n",
        "    print(\"Total price \",total_price)\n",
        "  def sold(self):\n",
        "    return Bowl.__counter"
      ]
    },
    {
      "cell_type": "code",
      "execution_count": null,
      "metadata": {
        "colab": {
          "background_save": true,
          "base_uri": "https://localhost:8080/",
          "height": 297
        },
        "id": "iWAgIvkLqZyv",
        "outputId": "94066c8b-722b-4188-b734-cfd68b1d4cfa"
      },
      "outputs": [
        {
          "name": "stdout",
          "output_type": "stream",
          "text": [
            "flavor chocolate price 100\n",
            "flavor berry price 120\n",
            "flavor vanilla price 150\n",
            "chocolate  added\n",
            "berry  added\n",
            "Bowl is full\n",
            "flavor chocolate price 100\n",
            "flavor berry price 120\n",
            "Total price  220\n"
          ]
        }
      ],
      "source": [
        "choco = Scoop('chocolate', 1)\n",
        "choco.set_price(100)\n",
        "print(choco)\n",
        "\n",
        "\n",
        "berry = Scoop('berry', 2)\n",
        "berry.set_price(120)\n",
        "print(berry)\n",
        "\n",
        "vanilla = Scoop('vanilla') # no of scoop parameter not given, will take default value\n",
        "vanilla.set_price(150)\n",
        "print(vanilla)\n",
        "\n",
        "bowl1 = Bowl() # max_scoop parameter not given, will take default value\n",
        "bowl1.add_scoops(choco) # Giving one parameter\n",
        "bowl1.add_scoops(berry, vanilla) # Multiple\n",
        "bowl1.display()"
      ]
    },
    {
      "cell_type": "code",
      "execution_count": null,
      "metadata": {
        "id": "RtuU8SSbb3B3"
      },
      "outputs": [],
      "source": [
        "class Customer:\n",
        "  def __init__(self,name,gender,address):\n",
        "    self.name=name\n",
        "    self.gender=gender\n"
      ]
    },
    {
      "cell_type": "code",
      "execution_count": null,
      "metadata": {
        "colab": {
          "base_uri": "https://localhost:8080/"
        },
        "id": "UzBEMqDL_ekY",
        "outputId": "811d9211-bb08-49f6-8338-d45eac7c4caa"
      },
      "outputs": [
        {
          "name": "stdout",
          "output_type": "stream",
          "text": [
            "Name is Alice and id is 101\n",
            "Name is Dice and id is 102\n"
          ]
        }
      ],
      "source": [
        "#Aggregation is a concept in object oriented programming language that represents a relationship between 2 classes, where one class contains or is composed of another class(the part). In aggregation\n",
        "#the part can exist independently of the whole. Aggregation is often depicted as a \"has a\" relationship where one class has objects of another class as its components. This allows for building complex structures\n",
        "#using smaller, reusable components.\n",
        "class Department:\n",
        "  def __init__(self,name):\n",
        "    self.name=name\n",
        "    self.employees=[]\n",
        "  def add_employee(self,z):\n",
        "    self.employees.append(z)\n",
        "class Employee:\n",
        "  def __init__(self,name,empid):\n",
        "    self.name=name\n",
        "    self.emp_id=empid\n",
        "emp1=Employee(\"Alice\",101)\n",
        "emp2=Employee(\"Dice\",102)\n",
        "hr_department=Department(\"HR\")\n",
        "hr_department.add_employee(emp1)\n",
        "hr_department.add_employee(emp2)\n",
        "for z in hr_department.employees:\n",
        "  print(f\"Name is {z.name} and id is {z.emp_id}\")\n",
        "#In this example we have 2 classes Department and Employee. The Department class has a list called employees that stores Employee objects. The relationship between Department and Employee\n",
        "#is called aggregation.\n",
        "#The department class has a relationship with Employee class. Each Department object contains multiple Employee objects, and these employees can exist independently of the department.\n",
        "#Now the employee class is independent of the existence of department class also employee object can be a part of different departments or is used in various functionalities of the application.\n"
      ]
    },
    {
      "cell_type": "code",
      "execution_count": null,
      "metadata": {
        "colab": {
          "base_uri": "https://localhost:8080/",
          "height": 331
        },
        "id": "q3pXXhxOlYg2",
        "outputId": "803a389c-c07e-4e34-f226-5decf79ac1ca"
      },
      "outputs": [
        {
          "ename": "AttributeError",
          "evalue": "ignored",
          "output_type": "error",
          "traceback": [
            "\u001b[0;31m---------------------------------------------------------------------------\u001b[0m",
            "\u001b[0;31mAttributeError\u001b[0m                            Traceback (most recent call last)",
            "\u001b[0;32m<ipython-input-2-deb22a3b46e5>\u001b[0m in \u001b[0;36m<cell line: 17>\u001b[0;34m()\u001b[0m\n\u001b[1;32m     15\u001b[0m \u001b[0madd1\u001b[0m\u001b[0;34m=\u001b[0m\u001b[0mAddress\u001b[0m\u001b[0;34m(\u001b[0m\u001b[0;34m\"Gurgaon\"\u001b[0m\u001b[0;34m,\u001b[0m\u001b[0;34m\"Haryana\"\u001b[0m\u001b[0;34m,\u001b[0m\u001b[0;36m1234\u001b[0m\u001b[0;34m)\u001b[0m\u001b[0;34m\u001b[0m\u001b[0;34m\u001b[0m\u001b[0m\n\u001b[1;32m     16\u001b[0m \u001b[0mcust1\u001b[0m\u001b[0;34m=\u001b[0m\u001b[0mCustomer\u001b[0m\u001b[0;34m(\u001b[0m\u001b[0;34m\"Dhams\"\u001b[0m\u001b[0;34m,\u001b[0m\u001b[0;34m\"Male\"\u001b[0m\u001b[0;34m,\u001b[0m\u001b[0madd1\u001b[0m\u001b[0;34m)\u001b[0m\u001b[0;34m\u001b[0m\u001b[0;34m\u001b[0m\u001b[0m\n\u001b[0;32m---> 17\u001b[0;31m \u001b[0mcust1\u001b[0m\u001b[0;34m.\u001b[0m\u001b[0mprint_address\u001b[0m\u001b[0;34m(\u001b[0m\u001b[0;34m)\u001b[0m\u001b[0;34m\u001b[0m\u001b[0;34m\u001b[0m\u001b[0m\n\u001b[0m",
            "\u001b[0;32m<ipython-input-2-deb22a3b46e5>\u001b[0m in \u001b[0;36mprint_address\u001b[0;34m(self)\u001b[0m\n\u001b[1;32m      5\u001b[0m     \u001b[0mself\u001b[0m\u001b[0;34m.\u001b[0m\u001b[0maddress\u001b[0m\u001b[0;34m=\u001b[0m\u001b[0maddress\u001b[0m\u001b[0;34m\u001b[0m\u001b[0;34m\u001b[0m\u001b[0m\n\u001b[1;32m      6\u001b[0m   \u001b[0;32mdef\u001b[0m \u001b[0mprint_address\u001b[0m\u001b[0;34m(\u001b[0m\u001b[0mself\u001b[0m\u001b[0;34m)\u001b[0m\u001b[0;34m:\u001b[0m\u001b[0;34m\u001b[0m\u001b[0;34m\u001b[0m\u001b[0m\n\u001b[0;32m----> 7\u001b[0;31m     \u001b[0mprint\u001b[0m\u001b[0;34m(\u001b[0m\u001b[0mself\u001b[0m\u001b[0;34m.\u001b[0m\u001b[0maddress\u001b[0m\u001b[0;34m.\u001b[0m\u001b[0m__city\u001b[0m\u001b[0;34m,\u001b[0m\u001b[0mself\u001b[0m\u001b[0;34m.\u001b[0m\u001b[0maddress\u001b[0m\u001b[0;34m.\u001b[0m\u001b[0mstate\u001b[0m\u001b[0;34m,\u001b[0m\u001b[0mself\u001b[0m\u001b[0;34m.\u001b[0m\u001b[0maddress\u001b[0m\u001b[0;34m.\u001b[0m\u001b[0mpin\u001b[0m\u001b[0;34m)\u001b[0m\u001b[0;34m\u001b[0m\u001b[0;34m\u001b[0m\u001b[0m\n\u001b[0m\u001b[1;32m      8\u001b[0m \u001b[0;32mclass\u001b[0m \u001b[0mAddress\u001b[0m\u001b[0;34m:\u001b[0m\u001b[0;34m\u001b[0m\u001b[0;34m\u001b[0m\u001b[0m\n\u001b[1;32m      9\u001b[0m   \u001b[0;32mdef\u001b[0m \u001b[0m__init__\u001b[0m\u001b[0;34m(\u001b[0m\u001b[0mself\u001b[0m\u001b[0;34m,\u001b[0m\u001b[0mcity\u001b[0m\u001b[0;34m,\u001b[0m\u001b[0mstate\u001b[0m\u001b[0;34m,\u001b[0m\u001b[0mpin\u001b[0m\u001b[0;34m)\u001b[0m\u001b[0;34m:\u001b[0m\u001b[0;34m\u001b[0m\u001b[0;34m\u001b[0m\u001b[0m\n",
            "\u001b[0;31mAttributeError\u001b[0m: 'Address' object has no attribute '_Customer__city'"
          ]
        }
      ],
      "source": [
        "class Customer:\n",
        "  def __init__(self,name,gender,address):\n",
        "    self.name=name\n",
        "    self.gender=gender\n",
        "    self.address=address\n",
        "  def print_address(self):\n",
        "    print(self.address.__city,self.address.state,self.address.pin)\n",
        "class Address:\n",
        "  def __init__(self,city,state,pin):\n",
        "    self.__city=city\n",
        "    self.state=state\n",
        "    self.pin=pin\n",
        "  def get_city(self):\n",
        "    return self.__city\n",
        "add1=Address(\"Gurgaon\",\"Haryana\",1234)\n",
        "cust1=Customer(\"Dhams\",\"Male\",add1)\n",
        "cust1.print_address()\n",
        "#As we can see we cannot access private variables of the owned class from a owner class that is why we use some function to have access to that private variable\n"
      ]
    },
    {
      "cell_type": "code",
      "execution_count": null,
      "metadata": {
        "colab": {
          "base_uri": "https://localhost:8080/"
        },
        "id": "xqBiIiBxrTTP",
        "outputId": "6d967c0f-0450-4fe5-cfac-302a9187c144"
      },
      "outputs": [
        {
          "name": "stdout",
          "output_type": "stream",
          "text": [
            "Gurgaon 1234586 Ranji\n"
          ]
        }
      ],
      "source": [
        "class Customer:\n",
        "  def __init__(self,name,gender,address):\n",
        "    self.name=name\n",
        "    self.gender=gender\n",
        "    self.address=address\n",
        "  def print_address(self):\n",
        "    print(self.address.get_city(),self.address.pin,self.address.state)\n",
        "class Address:\n",
        "  def __init__(self,city,pin,state):\n",
        "    self.__city=city\n",
        "    self.pin=pin\n",
        "    self.state=state\n",
        "  def get_city(self):\n",
        "    return self.__city\n",
        "add1=Address(\"Gurgaon\",1234586,\"Ranji\")\n",
        "cust1=Customer(\"dhoni\",\"Male\",add1)\n",
        "cust1.print_address()\n"
      ]
    },
    {
      "cell_type": "code",
      "execution_count": null,
      "metadata": {
        "colab": {
          "base_uri": "https://localhost:8080/"
        },
        "id": "F2LgLxeE9_qi",
        "outputId": "602a8169-cfe5-40ab-ad30-a4407947a539"
      },
      "outputs": [
        {
          "name": "stdout",
          "output_type": "stream",
          "text": [
            "Ajay Male Jodhpur 87995379 Marwad\n",
            "Vijay Male Kumbhalgarh 97775771 Mewad\n"
          ]
        }
      ],
      "source": [
        "class Customer:\n",
        "  def __init__(self,name,gender,address):\n",
        "    self.name=name\n",
        "    self.gender=gender\n",
        "    self.address=address\n",
        "  def edit_customer(self,name,gender,city,pin,state):\n",
        "    self.name=name\n",
        "    self.gender=gender\n",
        "    self.address.edit_address(city,pin,state)\n",
        "  def print_address(self):\n",
        "    print(self.name,self.gender,self.address.get_city(),self.address.pin,self.address.state)\n",
        "class Address:\n",
        "  def __init__(self,city,pin,state):\n",
        "    self.__city=city\n",
        "    self.pin=pin\n",
        "    self.state=state\n",
        "  def get_city(self):\n",
        "    return self.__city\n",
        "  def edit_address(self,city,pin,state):\n",
        "    self.__city=city\n",
        "    self.pin=pin\n",
        "    self.state=state\n",
        "add1=Address(\"Jodhpur\",87995379,\"Marwad\")\n",
        "cust1=Customer(\"Ajay\",\"Male\",add1)\n",
        "cust1.print_address()\n",
        "cust1.edit_customer(\"Vijay\",\"Male\",\"Kumbhalgarh\",97775771,\"Mewad\")\n",
        "cust1.print_address()\n"
      ]
    },
    {
      "cell_type": "code",
      "execution_count": null,
      "metadata": {
        "id": "qFSAjSafI5tn"
      },
      "outputs": [],
      "source": [
        "#Most instance variables are mostly private in nature, in OOPS diagrams a rohumbus like shape represents has a relationship.... In case of a has a relationship....for instance\n",
        "#Customer class has a relationship with Address class.... In this case Customer class is the owner class and Address class is the owned class.... The owner class has objects of\n",
        "#owned class as its components....The owner class cannot access private variables of owned class directly, the owner class has to access the private variables of owned class using get methods present in owned class"
      ]
    },
    {
      "cell_type": "code",
      "execution_count": null,
      "metadata": {
        "id": "8EvZguFoVEHj"
      },
      "outputs": [],
      "source": [
        "#Inheritance----This is used to solve the problem of DRY(don't repeat yourself) in programming.... suppose there are 2 classes(Student and Instructor) Student contains methods\n",
        "#login,register,enroll, review and Instructor contains methods login, register,create and reply ....If you are to make both the classes then we would be repeating 2 methods(login and register)\n",
        "#here twice hence inheritance solves the problem of DRY by using reusability through inheritance.... We make a user class which woul have login and register method, We use inheritance so that student and instructor\n",
        "#class and Instructor class would inherit all non-private instance variables and non-private methods of parent class and also adds its own methods"
      ]
    },
    {
      "cell_type": "code",
      "execution_count": null,
      "metadata": {
        "id": "LkrGb5YDj4bs"
      },
      "outputs": [],
      "source": [
        "#When a child class and parent classes are defined then the child class inherits all non-private instance variables and all non-private methods, if you end up defining constructor method\n",
        "#in the child class as well then the constructor method in the parent class then constructor method in the parent class gets overwritten by constructor method in child class."
      ]
    },
    {
      "cell_type": "code",
      "execution_count": null,
      "metadata": {
        "colab": {
          "base_uri": "https://localhost:8080/",
          "height": 245
        },
        "id": "7wXmBjbC1UoA",
        "outputId": "dcc64542-fda5-47a8-f2fc-0423de0358e9"
      },
      "outputs": [
        {
          "name": "stdout",
          "output_type": "stream",
          "text": [
            "User will login\n",
            "please enroll\n"
          ]
        },
        {
          "ename": "AttributeError",
          "evalue": "ignored",
          "output_type": "error",
          "traceback": [
            "\u001b[0;31m---------------------------------------------------------------------------\u001b[0m",
            "\u001b[0;31mAttributeError\u001b[0m                            Traceback (most recent call last)",
            "\u001b[0;32m<ipython-input-2-6e97854e9a0f>\u001b[0m in \u001b[0;36m<cell line: 15>\u001b[0;34m()\u001b[0m\n\u001b[1;32m     13\u001b[0m \u001b[0ms\u001b[0m\u001b[0;34m.\u001b[0m\u001b[0mlogin\u001b[0m\u001b[0;34m(\u001b[0m\u001b[0;34m)\u001b[0m\u001b[0;34m\u001b[0m\u001b[0;34m\u001b[0m\u001b[0m\n\u001b[1;32m     14\u001b[0m \u001b[0ms\u001b[0m\u001b[0;34m.\u001b[0m\u001b[0menroll\u001b[0m\u001b[0;34m(\u001b[0m\u001b[0;34m)\u001b[0m\u001b[0;34m\u001b[0m\u001b[0;34m\u001b[0m\u001b[0m\n\u001b[0;32m---> 15\u001b[0;31m \u001b[0ms\u001b[0m\u001b[0;34m.\u001b[0m\u001b[0mname\u001b[0m\u001b[0;34m\u001b[0m\u001b[0;34m\u001b[0m\u001b[0m\n\u001b[0m",
            "\u001b[0;31mAttributeError\u001b[0m: 'Student' object has no attribute 'name'"
          ]
        }
      ],
      "source": [
        "class User:\n",
        "  def __init__(self):\n",
        "    self.name='mahendra'\n",
        "    self.gender='Male'\n",
        "  def login(self):\n",
        "    print(\"User will login\")\n",
        "class Student(User):\n",
        "  def __init__(self):\n",
        "    self.roll_no=100\n",
        "  def enroll(self):\n",
        "    print(\"please enroll\")\n",
        "s=Student()\n",
        "s.login()\n",
        "s.enroll()\n",
        "s.name\n",
        "#here name is giving error as the constructor is already present in child class and it runs automatically when an object is created from child class, the constructor of parent class\n",
        "#doesnot even get the chance to run hence when s.name is executed it gives error as there is no name instance variable in constructor of child class"
      ]
    },
    {
      "cell_type": "code",
      "execution_count": null,
      "metadata": {
        "colab": {
          "base_uri": "https://localhost:8080/"
        },
        "id": "KZXsTQ6QDaR7",
        "outputId": "dc9e36e0-e564-4f94-a294-f95047fcb727"
      },
      "outputs": [
        {
          "name": "stdout",
          "output_type": "stream",
          "text": [
            "user login\n",
            "Please enroll\n"
          ]
        }
      ],
      "source": [
        "class User:\n",
        "  def __init__(self):\n",
        "    self.name=\"nimnesh\"\n",
        "    self.gender='Male'\n",
        "  def login(self):\n",
        "    print(\"user login\")\n",
        "class student(User):\n",
        "  def enroll(self):\n",
        "    print(\"Please enroll\")\n",
        "s=student()\n",
        "s.login()\n",
        "s.name\n",
        "s.gender\n",
        "s.enroll()"
      ]
    },
    {
      "cell_type": "code",
      "execution_count": null,
      "metadata": {
        "colab": {
          "base_uri": "https://localhost:8080/",
          "height": 36
        },
        "id": "FvtExRSVN2O5",
        "outputId": "ca50c6da-df30-4dca-bfc4-49499a3b0dcb"
      },
      "outputs": [
        {
          "data": {
            "application/vnd.google.colaboratory.intrinsic+json": {
              "type": "string"
            },
            "text/plain": [
              "'nimnesh'"
            ]
          },
          "execution_count": 5,
          "metadata": {},
          "output_type": "execute_result"
        }
      ],
      "source": [
        "s.name"
      ]
    },
    {
      "cell_type": "code",
      "execution_count": null,
      "metadata": {
        "colab": {
          "base_uri": "https://localhost:8080/",
          "height": 36
        },
        "id": "0C2Cy2S8N5QJ",
        "outputId": "65284391-7bd9-4619-ab04-fe9ba8830a6a"
      },
      "outputs": [
        {
          "data": {
            "application/vnd.google.colaboratory.intrinsic+json": {
              "type": "string"
            },
            "text/plain": [
              "'Male'"
            ]
          },
          "execution_count": 6,
          "metadata": {},
          "output_type": "execute_result"
        }
      ],
      "source": [
        "s.gender\n",
        "#rohumbus is the symbol of aggregation whereas triangle is the symbol of inheritance, the triangle will be towards parent class"
      ]
    },
    {
      "cell_type": "code",
      "execution_count": null,
      "metadata": {
        "colab": {
          "base_uri": "https://localhost:8080/"
        },
        "id": "yCs66-eucbCq",
        "outputId": "56b6f800-1658-4994-a4c7-ec2b5a172167"
      },
      "outputs": [
        {
          "name": "stdout",
          "output_type": "stream",
          "text": [
            "inside this Phone\n",
            "buying a phone\n"
          ]
        }
      ],
      "source": [
        "#child cannot access private members of the class\n",
        "class Phone:\n",
        "  def __init__(self,price,brand,camera):\n",
        "    print(\"inside this Phone\")\n",
        "    self.__price=price\n",
        "    self.brand=brand\n",
        "    self.camera=camera\n",
        "  def buy(self):\n",
        "    print(\"buying a phone\")\n",
        "\n",
        "class smartphone(Phone):\n",
        "  def check(self):\n",
        "    print(self.__price)\n",
        "s=smartphone(14000,\"Samsung\",\"4 GB Ram\")\n",
        "s.buy()\n",
        "#even during inheritance child cannot access private variables of parent class"
      ]
    },
    {
      "cell_type": "code",
      "execution_count": null,
      "metadata": {
        "colab": {
          "base_uri": "https://localhost:8080/"
        },
        "id": "ksECjLX9t04m",
        "outputId": "af99314e-51fd-4253-b129-12656a11f48c"
      },
      "outputs": [
        {
          "name": "stdout",
          "output_type": "stream",
          "text": [
            "Inside phone constructor\n",
            "20000\n"
          ]
        }
      ],
      "source": [
        "class Phone:\n",
        "    def __init__(self, price, brand, camera):\n",
        "        print (\"Inside phone constructor\")\n",
        "        self.__price = price\n",
        "        self.brand = brand\n",
        "        self.camera = camera\n",
        "\n",
        "    #getter\n",
        "    def show(self):\n",
        "        print (self.__price)\n",
        "\n",
        "class SmartPhone(Phone):\n",
        "    def check(self):\n",
        "        print(self.__price)\n",
        "\n",
        "s=SmartPhone(20000, \"Apple\", 13)\n",
        "s.show()"
      ]
    },
    {
      "cell_type": "code",
      "execution_count": null,
      "metadata": {
        "colab": {
          "base_uri": "https://localhost:8080/"
        },
        "id": "rCNqHVd0Aej2",
        "outputId": "58e2f7f5-5e18-4551-a129-a0308ad429fe"
      },
      "outputs": [
        {
          "name": "stdout",
          "output_type": "stream",
          "text": [
            "This is child \n"
          ]
        }
      ],
      "source": [
        "#There is still one way of accessing private variables using inheritance\n",
        "class Parent:\n",
        "  def __init__(self,num):\n",
        "    self.__num=num\n",
        "  def get_num(self):\n",
        "    return self.__num\n",
        "class child(Parent):\n",
        "  def show(self):\n",
        "    print(\"This is child \")\n",
        "md1=child(100)\n",
        "md1.get_num()\n",
        "md1.show()\n",
        "#Thus a child class can access parent class and its private variables using a getter method"
      ]
    },
    {
      "cell_type": "code",
      "execution_count": null,
      "metadata": {
        "colab": {
          "base_uri": "https://localhost:8080/",
          "height": 349
        },
        "id": "FURDCCceOPkM",
        "outputId": "f1fc5300-9c91-49f4-ccde-a82093c9ba37"
      },
      "outputs": [
        {
          "ename": "AttributeError",
          "evalue": "ignored",
          "output_type": "error",
          "traceback": [
            "\u001b[0;31m---------------------------------------------------------------------------\u001b[0m",
            "\u001b[0;31mAttributeError\u001b[0m                            Traceback (most recent call last)",
            "\u001b[0;32m<ipython-input-4-b51843cc7bd8>\u001b[0m in \u001b[0;36m<cell line: 12>\u001b[0;34m()\u001b[0m\n\u001b[1;32m     10\u001b[0m     \u001b[0;32mreturn\u001b[0m \u001b[0mself\u001b[0m\u001b[0;34m.\u001b[0m\u001b[0m__val\u001b[0m\u001b[0;34m\u001b[0m\u001b[0;34m\u001b[0m\u001b[0m\n\u001b[1;32m     11\u001b[0m \u001b[0ma1\u001b[0m\u001b[0;34m=\u001b[0m\u001b[0mchild\u001b[0m\u001b[0;34m(\u001b[0m\u001b[0;36m100\u001b[0m\u001b[0;34m,\u001b[0m\u001b[0;36m10\u001b[0m\u001b[0;34m)\u001b[0m\u001b[0;34m\u001b[0m\u001b[0;34m\u001b[0m\u001b[0m\n\u001b[0;32m---> 12\u001b[0;31m \u001b[0ma1\u001b[0m\u001b[0;34m.\u001b[0m\u001b[0mget_num\u001b[0m\u001b[0;34m(\u001b[0m\u001b[0;34m)\u001b[0m\u001b[0;34m\u001b[0m\u001b[0;34m\u001b[0m\u001b[0m\n\u001b[0m\u001b[1;32m     13\u001b[0m \u001b[0ma1\u001b[0m\u001b[0;34m.\u001b[0m\u001b[0mget_val\u001b[0m\u001b[0;34m(\u001b[0m\u001b[0;34m)\u001b[0m\u001b[0;34m\u001b[0m\u001b[0;34m\u001b[0m\u001b[0m\n",
            "\u001b[0;32m<ipython-input-4-b51843cc7bd8>\u001b[0m in \u001b[0;36mget_num\u001b[0;34m(self)\u001b[0m\n\u001b[1;32m      3\u001b[0m     \u001b[0mself\u001b[0m\u001b[0;34m.\u001b[0m\u001b[0m__num\u001b[0m\u001b[0;34m=\u001b[0m\u001b[0mnum\u001b[0m\u001b[0;34m\u001b[0m\u001b[0;34m\u001b[0m\u001b[0m\n\u001b[1;32m      4\u001b[0m   \u001b[0;32mdef\u001b[0m \u001b[0mget_num\u001b[0m\u001b[0;34m(\u001b[0m\u001b[0mself\u001b[0m\u001b[0;34m)\u001b[0m\u001b[0;34m:\u001b[0m\u001b[0;34m\u001b[0m\u001b[0;34m\u001b[0m\u001b[0m\n\u001b[0;32m----> 5\u001b[0;31m     \u001b[0;32mreturn\u001b[0m \u001b[0mself\u001b[0m\u001b[0;34m.\u001b[0m\u001b[0m__num\u001b[0m\u001b[0;34m\u001b[0m\u001b[0;34m\u001b[0m\u001b[0m\n\u001b[0m\u001b[1;32m      6\u001b[0m \u001b[0;32mclass\u001b[0m \u001b[0mchild\u001b[0m\u001b[0;34m(\u001b[0m\u001b[0mParent\u001b[0m\u001b[0;34m)\u001b[0m\u001b[0;34m:\u001b[0m\u001b[0;34m\u001b[0m\u001b[0;34m\u001b[0m\u001b[0m\n\u001b[1;32m      7\u001b[0m   \u001b[0;32mdef\u001b[0m \u001b[0m__init__\u001b[0m\u001b[0;34m(\u001b[0m\u001b[0mself\u001b[0m\u001b[0;34m,\u001b[0m\u001b[0mval\u001b[0m\u001b[0;34m,\u001b[0m\u001b[0mnum\u001b[0m\u001b[0;34m)\u001b[0m\u001b[0;34m:\u001b[0m\u001b[0;34m\u001b[0m\u001b[0;34m\u001b[0m\u001b[0m\n",
            "\u001b[0;31mAttributeError\u001b[0m: 'child' object has no attribute '_Parent__num'"
          ]
        }
      ],
      "source": [
        "class Parent:\n",
        "  def __init__(self,num):\n",
        "    self.__num=num\n",
        "  def get_num(self):\n",
        "    return self.__num\n",
        "class child(Parent):\n",
        "  def __init__(self,val,num):\n",
        "    self.__val=val\n",
        "  def get_val(self):\n",
        "    return self.__val\n",
        "a1=child(100,10)\n",
        "a1.get_num()\n",
        "a1.get_val()\n",
        "#get_num function cannot be executed through the child class as self.__num is a variable which has not been initialized as the constructor of Parent class has not been executed"
      ]
    },
    {
      "cell_type": "code",
      "execution_count": null,
      "metadata": {
        "colab": {
          "base_uri": "https://localhost:8080/"
        },
        "id": "VVldRJQaTXXt",
        "outputId": "20ae2828-888e-47ff-8df5-3147873df004"
      },
      "outputs": [
        {
          "name": "stdout",
          "output_type": "stream",
          "text": [
            "Displayed item is  100\n"
          ]
        }
      ],
      "source": [
        "class A:\n",
        "  def __init__(self):\n",
        "    self.var1=100\n",
        "  def display2(self,var1):\n",
        "    print(\"Displayed item is \",self.var1)\n",
        "class B(A):\n",
        "  def display1(self,var1):\n",
        "    print(\"Displayed item is \",self.var1)\n",
        "a=B()\n",
        "a.display2(200)"
      ]
    },
    {
      "cell_type": "code",
      "execution_count": null,
      "metadata": {
        "colab": {
          "base_uri": "https://localhost:8080/"
        },
        "id": "VUrTkmlZZ0g1",
        "outputId": "9da1c108-2a6a-4af9-fdb2-91908acf70a7"
      },
      "outputs": [
        {
          "name": "stdout",
          "output_type": "stream",
          "text": [
            "Displayed item is  100\n"
          ]
        }
      ],
      "source": [
        "a.display1(300)"
      ]
    },
    {
      "cell_type": "code",
      "execution_count": null,
      "metadata": {
        "colab": {
          "base_uri": "https://localhost:8080/"
        },
        "id": "J--rtZLgbg26",
        "outputId": "0977cc5c-9381-4b17-e122-28f9978835ff"
      },
      "outputs": [
        {
          "name": "stdout",
          "output_type": "stream",
          "text": [
            "Inside phone class\n",
            "buy the smartphone \n"
          ]
        }
      ],
      "source": [
        "#method overriding\n",
        "class phone:\n",
        "  def __init__(self,price,brand,camera):\n",
        "    print(\"Inside phone class\")\n",
        "    self.__price=price\n",
        "    self.brand=brand\n",
        "    self.camera=camera\n",
        "  def buy(self):\n",
        "    print(\"buy the phone \")\n",
        "class smartphone(phone):\n",
        "  def buy(self):\n",
        "    print(\"buy the smartphone \")\n",
        "s=smartphone(20000,\"samsung\",\"4 Gb\")\n",
        "s.buy()\n",
        "#if 2 methods are there, 1 in the parent class and other in the child class then buy method in the child class gets overridden by the buy method in the parent class\n"
      ]
    },
    {
      "cell_type": "code",
      "execution_count": null,
      "metadata": {
        "colab": {
          "base_uri": "https://localhost:8080/"
        },
        "id": "SLcH8JEQGohZ",
        "outputId": "13cf4b9f-f067-41dc-c867-892ad9467f0a"
      },
      "outputs": [
        {
          "name": "stdout",
          "output_type": "stream",
          "text": [
            "Inside smartphone constructor\n",
            "Inside smartphone constructor\n",
            "Android\n",
            "samsung\n"
          ]
        }
      ],
      "source": [
        "#can super access parent data\n",
        "class phone:\n",
        "  def __init__(self,price,brand,camera):\n",
        "    self.__price=price\n",
        "    self.brand=brand\n",
        "    self.camera=camera\n",
        "class smartphone(phone):\n",
        "  def __init__(self,price,brand,camera,os,ram):\n",
        "    print(\"Inside smartphone constructor\")\n",
        "    super().__init__(price,brand,camera)\n",
        "    self.os=os\n",
        "    self.ram=ram\n",
        "    print(\"Inside smartphone constructor\")\n",
        "s1=smartphone(20000,\"samsung\",\"4 GB\",\"Android\",2)\n",
        "print(s1.os)\n",
        "print(s1.brand)\n",
        "#super() keyword can be used to inherit all attributes of the parent class using constructor of the child class, when we use super() keyword, the constructor of the parent class is not\n",
        "#overridden"
      ]
    },
    {
      "cell_type": "code",
      "execution_count": null,
      "metadata": {
        "colab": {
          "base_uri": "https://localhost:8080/"
        },
        "id": "x8PNG-e8dGO6",
        "outputId": "b1bc7a23-fcc5-416f-cdc0-03ffb2b6a11f"
      },
      "outputs": [
        {
          "name": "stdout",
          "output_type": "stream",
          "text": [
            "Inside smartphone \n",
            "Buying a phone \n"
          ]
        }
      ],
      "source": [
        "class phone:\n",
        "  def __init__(self,price,brand,camera):\n",
        "    self.__price=price\n",
        "    self.brand=brand\n",
        "    self.camera=camera\n",
        "  def buy(self):\n",
        "    print(\"Buying a phone \")\n",
        "class smartphone(phone):\n",
        "  def buy(self):\n",
        "    print(\"Inside smartphone \")\n",
        "    super().buy()\n",
        "s1=smartphone(2000,\"Apple\",13)\n",
        "s1.buy()\n",
        "#the super() keyword cannot be invoked outside the class and super keyword cannot be used to access attributes"
      ]
    },
    {
      "cell_type": "code",
      "execution_count": null,
      "metadata": {
        "id": "W6QjSiAepmOz"
      },
      "outputs": [],
      "source": [
        "#super can be used inside the class\n",
        "#super cannot be used outside the class\n",
        "#super keyword cannot be used to access attributes"
      ]
    },
    {
      "cell_type": "code",
      "execution_count": null,
      "metadata": {
        "id": "C5KafcKAqAxs"
      },
      "outputs": [],
      "source": [
        "#Inheritance\n",
        "#A class can inherit from parent class.\n",
        "#Inheritance improves code reusability\n",
        "#Constructor, Private attributes and private methods gets inherited to the child class\n",
        "#The parent has no access to the child class.\n",
        "#Private properties of parent are not accessible directly in child class(can be accessed by using getter method in parent class).\n",
        "#child class can override attributes or methods. This is called method overriding.\n",
        "#super() is an inbuilt function which is used to invoke the parent class methods and constructor"
      ]
    },
    {
      "cell_type": "code",
      "execution_count": null,
      "metadata": {
        "id": "EOaBcMzqajhL"
      },
      "outputs": [],
      "source": [
        "class Parent:\n",
        "  def __init__(self,num):\n",
        "    self.__num=num\n",
        "  def get_num(self):\n",
        "    return self.__num\n",
        "class child(Parent):\n",
        "  def __init__(self,num,val):\n",
        "    super().__init__(num)\n",
        "    self.__val=val\n",
        "  def get_val(self):\n",
        "    return self.__val\n",
        "\n",
        "\n"
      ]
    },
    {
      "cell_type": "code",
      "execution_count": null,
      "metadata": {
        "colab": {
          "base_uri": "https://localhost:8080/"
        },
        "id": "aqBYutR4mb8w",
        "outputId": "e891d975-588c-4e60-9991-cc61c6e01600"
      },
      "outputs": [
        {
          "data": {
            "text/plain": [
              "100"
            ]
          },
          "execution_count": 2,
          "metadata": {},
          "output_type": "execute_result"
        }
      ],
      "source": [
        "c11=child(100,200)\n",
        "c11.get_num()"
      ]
    },
    {
      "cell_type": "code",
      "execution_count": null,
      "metadata": {
        "colab": {
          "base_uri": "https://localhost:8080/"
        },
        "id": "8gqJdWKPmm60",
        "outputId": "21e4d16f-1824-4bb6-c381-d3bd77a2882c"
      },
      "outputs": [
        {
          "data": {
            "text/plain": [
              "200"
            ]
          },
          "execution_count": 3,
          "metadata": {},
          "output_type": "execute_result"
        }
      ],
      "source": [
        "c11.get_val()"
      ]
    },
    {
      "cell_type": "code",
      "execution_count": null,
      "metadata": {
        "colab": {
          "base_uri": "https://localhost:8080/"
        },
        "id": "D-DwPcS1ZS8t",
        "outputId": "a1abdee8-9af9-4f7e-997b-d2cad4fd6062"
      },
      "outputs": [
        {
          "name": "stdout",
          "output_type": "stream",
          "text": [
            "200\n",
            "100\n"
          ]
        }
      ],
      "source": [
        "class parent:\n",
        "  def __init__(self):\n",
        "    self.num=100\n",
        "class child(parent):\n",
        "  def __init__(self,val):\n",
        "    super().__init__()\n",
        "    self.val=val\n",
        "  def show(self):\n",
        "    print(self.val)\n",
        "    print(self.num)\n",
        "c12=child(200)\n",
        "c12.show()"
      ]
    },
    {
      "cell_type": "code",
      "execution_count": null,
      "metadata": {
        "colab": {
          "base_uri": "https://localhost:8080/"
        },
        "id": "HTETsvjKxxYb",
        "outputId": "2146e903-27f3-4013-9f19-0954eb5c7251"
      },
      "outputs": [
        {
          "name": "stdout",
          "output_type": "stream",
          "text": [
            "This is inside phone class\n",
            "Buy a phone\n"
          ]
        }
      ],
      "source": [
        "#single inheritance\n",
        "class phone:\n",
        "  def __init__(self,price,brand,camera):\n",
        "    print(\"This is inside phone class\")\n",
        "    self.__price=price\n",
        "    self.brand=brand\n",
        "    self.camera=camera\n",
        "  def buy(self):\n",
        "    print(\"Buy a phone\")\n",
        "class smartphone(phone):\n",
        "  pass\n",
        "phone(20000,\"samsung\",\"4 GB\").buy()"
      ]
    },
    {
      "cell_type": "code",
      "execution_count": null,
      "metadata": {
        "colab": {
          "base_uri": "https://localhost:8080/"
        },
        "id": "ma9xYoUhX1K-",
        "outputId": "bf340de7-6815-43f8-eb9b-b60718f89d6e"
      },
      "outputs": [
        {
          "name": "stdout",
          "output_type": "stream",
          "text": [
            "Buy this phone\n",
            "The product is good\n"
          ]
        }
      ],
      "source": [
        "#multilevel\n",
        "class product:\n",
        "  def review(self):\n",
        "    print(\"The product is good\")\n",
        "class phone(product):\n",
        "  def __init__(self,price,brand,camera):\n",
        "    self.price=price\n",
        "    self.brand=brand\n",
        "    self.camera=camera\n",
        "  def buy(self):\n",
        "    print(\"Buy this phone\")\n",
        "class dhamesh(phone):\n",
        "  pass\n",
        "s=dhamesh(20000,\"samsung\",\"4 GB\")\n",
        "s.buy()\n",
        "s.review()"
      ]
    },
    {
      "cell_type": "code",
      "execution_count": null,
      "metadata": {
        "colab": {
          "base_uri": "https://localhost:8080/"
        },
        "id": "6bOEc9kX_qgL",
        "outputId": "4d63ffde-1d65-471a-81e7-6c1572df5f11"
      },
      "outputs": [
        {
          "name": "stdout",
          "output_type": "stream",
          "text": [
            "Phone has been bought\n",
            "The product is good\n"
          ]
        }
      ],
      "source": [
        "#multilevel\n",
        "class product:\n",
        "  def review(self):\n",
        "    print(\"The product is good\")\n",
        "class phone(product):\n",
        "  def __init__(self,price,brand,camera):\n",
        "    self.price=price\n",
        "    self.brand=brand\n",
        "    self.camera=camera\n",
        "  def buy(self):\n",
        "    print(\"Phone has been bought\")\n",
        "class smartphone(phone):\n",
        "  pass\n",
        "s=smartphone(20000,\"samsung\",\"4 GB\")\n",
        "s.buy()\n",
        "s.review()"
      ]
    },
    {
      "cell_type": "code",
      "execution_count": null,
      "metadata": {
        "colab": {
          "base_uri": "https://localhost:8080/"
        },
        "id": "Vw2xf3wPHt3D",
        "outputId": "eccbc19c-4549-458c-ebdc-692e22c1c7aa"
      },
      "outputs": [
        {
          "name": "stdout",
          "output_type": "stream",
          "text": [
            "Inside the phone constructor\n",
            "Bought the phone\n",
            "Inside the phone constructor\n",
            "Bought the phone\n"
          ]
        }
      ],
      "source": [
        "#hierarchical\n",
        "class phone:\n",
        "  def __init__(self,price,brand,camera):\n",
        "    print(\"Inside the phone constructor\")\n",
        "    self.price=price\n",
        "    self.brand=brand\n",
        "    self.camera=camera\n",
        "  def buy(self):\n",
        "    print(\"Bought the phone\")\n",
        "class smartphone(phone):\n",
        "  pass\n",
        "class featurephone(phone):\n",
        "  pass\n",
        "s11=smartphone(20000,\"samsung\",\"10px\").buy()\n",
        "s12=featurephone(20,\"lakme\",\"20px\").buy()\n",
        "#hierarchical inheritance has 1 parent and multiple children"
      ]
    },
    {
      "cell_type": "code",
      "execution_count": null,
      "metadata": {
        "colab": {
          "base_uri": "https://localhost:8080/"
        },
        "id": "OpdRBpm6pP5w",
        "outputId": "6275abdb-09f3-4e03-9ae0-79496b3d7ca9"
      },
      "outputs": [
        {
          "name": "stdout",
          "output_type": "stream",
          "text": [
            "Bought the phone\n",
            "phone is good\n"
          ]
        }
      ],
      "source": [
        "#multiple inheritance\n",
        "class phone:\n",
        "  def __init__(self,price,brand,camera):\n",
        "    self.price=price\n",
        "    self.brand=brand\n",
        "    self.camera=camera\n",
        "  def buy(self):\n",
        "    print(\"Bought the phone\")\n",
        "class product:\n",
        "  def review(self):\n",
        "    print(\"phone is good\")\n",
        "class smartphone(phone,product):\n",
        "  pass\n",
        "s11=smartphone(20000,\"samsung\",\"18px\")\n",
        "s11.buy()\n",
        "s11.review()\n",
        "#as you can see there are 2 parents here phone and product and one child\n",
        "#multiple inheritance where there are multiple parents"
      ]
    },
    {
      "cell_type": "code",
      "execution_count": null,
      "metadata": {
        "colab": {
          "base_uri": "https://localhost:8080/"
        },
        "id": "wyBcAMO-tvRu",
        "outputId": "952c23ff-e9fa-4548-a2ec-2131dc561fc6"
      },
      "outputs": [
        {
          "name": "stdout",
          "output_type": "stream",
          "text": [
            "From B\n"
          ]
        }
      ],
      "source": [
        "#diamond problem\n",
        "class A:\n",
        "  def do_thing(self):\n",
        "    print(\"From A\")\n",
        "class B(A):\n",
        "  def do_thing(self):\n",
        "    print(\"From B\")\n",
        "class C(A):\n",
        "  def do_thing(self):\n",
        "    print(\"From C\")\n",
        "class D(B,C):\n",
        "  pass\n",
        "d1=D()\n",
        "d1.do_thing()"
      ]
    },
    {
      "cell_type": "code",
      "execution_count": null,
      "metadata": {
        "colab": {
          "base_uri": "https://localhost:8080/"
        },
        "id": "PFaeqrXlEm0q",
        "outputId": "354d4579-5156-43c0-e64b-cf8719cfc801"
      },
      "outputs": [
        {
          "name": "stdout",
          "output_type": "stream",
          "text": [
            "Buy function inside phone class\n"
          ]
        }
      ],
      "source": [
        "class phone:\n",
        "  def __init__(self,price,brand,camera):\n",
        "    self.price=price\n",
        "    self.brand=brand\n",
        "    self.camera=camera\n",
        "  def buy(self):\n",
        "    print(\"Buy function inside phone class\")\n",
        "class product:\n",
        "  def buy(self):\n",
        "    print(\"Buy function inside product class\")\n",
        "#Method resolution order\n",
        "class mss(phone,product):\n",
        "  pass\n",
        "d11=mss(20000,\"samsung\",\"10px\")\n",
        "d11.buy()\n",
        "#when two methods with the same name exists in 2 different classes and a third class inherits both those classes and if buy method(common in both the classes) is called then buy method of\n",
        "#phone class which has been inherited first will be executed"
      ]
    },
    {
      "cell_type": "code",
      "execution_count": null,
      "metadata": {
        "colab": {
          "base_uri": "https://localhost:8080/"
        },
        "id": "ra-KTk_mkQdU",
        "outputId": "66a51dfb-e03e-4cc3-af69-5cca8ae967ae"
      },
      "outputs": [
        {
          "name": "stdout",
          "output_type": "stream",
          "text": [
            "70\n"
          ]
        }
      ],
      "source": [
        "class A:\n",
        "  def m1(self):\n",
        "    return 20\n",
        "class B(A):\n",
        "  def m1(self):\n",
        "    return 30\n",
        "  def m2(self):\n",
        "    return 40\n",
        "class C(B):\n",
        "  def m2(self):\n",
        "    return 20\n",
        "obj1=A()\n",
        "obj2=B()\n",
        "obj3=C()\n",
        "print(obj1.m1()+obj3.m1()+obj3.m2())\n",
        "# when m1 method of obj3 object is called then m1 method of B class gets executed as obj3(an object of C) inherits B class."
      ]
    },
    {
      "cell_type": "code",
      "execution_count": null,
      "metadata": {
        "colab": {
          "base_uri": "https://localhost:8080/",
          "height": 390
        },
        "id": "XiYNLZBFECsc",
        "outputId": "b59bd26d-d969-42d0-cac1-d781c9d287be"
      },
      "outputs": [
        {
          "ename": "RecursionError",
          "evalue": "ignored",
          "output_type": "error",
          "traceback": [
            "\u001b[0;31m---------------------------------------------------------------------------\u001b[0m",
            "\u001b[0;31mRecursionError\u001b[0m                            Traceback (most recent call last)",
            "\u001b[0;32m<ipython-input-2-5e7b2aa3d69a>\u001b[0m in \u001b[0;36m<cell line: 13>\u001b[0;34m()\u001b[0m\n\u001b[1;32m     11\u001b[0m     \u001b[0;32mreturn\u001b[0m \u001b[0mval\u001b[0m\u001b[0;34m\u001b[0m\u001b[0;34m\u001b[0m\u001b[0m\n\u001b[1;32m     12\u001b[0m \u001b[0mr11\u001b[0m\u001b[0;34m=\u001b[0m\u001b[0mC\u001b[0m\u001b[0;34m(\u001b[0m\u001b[0;34m)\u001b[0m\u001b[0;34m\u001b[0m\u001b[0;34m\u001b[0m\u001b[0m\n\u001b[0;32m---> 13\u001b[0;31m \u001b[0mr11\u001b[0m\u001b[0;34m.\u001b[0m\u001b[0mm1\u001b[0m\u001b[0;34m(\u001b[0m\u001b[0;34m)\u001b[0m\u001b[0;34m\u001b[0m\u001b[0;34m\u001b[0m\u001b[0m\n\u001b[0m",
            "\u001b[0;32m<ipython-input-2-5e7b2aa3d69a>\u001b[0m in \u001b[0;36mm1\u001b[0;34m(self)\u001b[0m\n\u001b[1;32m      8\u001b[0m \u001b[0;32mclass\u001b[0m \u001b[0mC\u001b[0m\u001b[0;34m(\u001b[0m\u001b[0mB\u001b[0m\u001b[0;34m)\u001b[0m\u001b[0;34m:\u001b[0m\u001b[0;34m\u001b[0m\u001b[0;34m\u001b[0m\u001b[0m\n\u001b[1;32m      9\u001b[0m   \u001b[0;32mdef\u001b[0m \u001b[0mm1\u001b[0m\u001b[0;34m(\u001b[0m\u001b[0mself\u001b[0m\u001b[0;34m)\u001b[0m\u001b[0;34m:\u001b[0m\u001b[0;34m\u001b[0m\u001b[0;34m\u001b[0m\u001b[0m\n\u001b[0;32m---> 10\u001b[0;31m     \u001b[0mval\u001b[0m\u001b[0;34m=\u001b[0m\u001b[0mself\u001b[0m\u001b[0;34m.\u001b[0m\u001b[0mm1\u001b[0m\u001b[0;34m(\u001b[0m\u001b[0;34m)\u001b[0m\u001b[0;34m+\u001b[0m\u001b[0;36m20\u001b[0m\u001b[0;34m\u001b[0m\u001b[0;34m\u001b[0m\u001b[0m\n\u001b[0m\u001b[1;32m     11\u001b[0m     \u001b[0;32mreturn\u001b[0m \u001b[0mval\u001b[0m\u001b[0;34m\u001b[0m\u001b[0;34m\u001b[0m\u001b[0m\n\u001b[1;32m     12\u001b[0m \u001b[0mr11\u001b[0m\u001b[0;34m=\u001b[0m\u001b[0mC\u001b[0m\u001b[0;34m(\u001b[0m\u001b[0;34m)\u001b[0m\u001b[0;34m\u001b[0m\u001b[0;34m\u001b[0m\u001b[0m\n",
            "... last 1 frames repeated, from the frame below ...\n",
            "\u001b[0;32m<ipython-input-2-5e7b2aa3d69a>\u001b[0m in \u001b[0;36mm1\u001b[0;34m(self)\u001b[0m\n\u001b[1;32m      8\u001b[0m \u001b[0;32mclass\u001b[0m \u001b[0mC\u001b[0m\u001b[0;34m(\u001b[0m\u001b[0mB\u001b[0m\u001b[0;34m)\u001b[0m\u001b[0;34m:\u001b[0m\u001b[0;34m\u001b[0m\u001b[0;34m\u001b[0m\u001b[0m\n\u001b[1;32m      9\u001b[0m   \u001b[0;32mdef\u001b[0m \u001b[0mm1\u001b[0m\u001b[0;34m(\u001b[0m\u001b[0mself\u001b[0m\u001b[0;34m)\u001b[0m\u001b[0;34m:\u001b[0m\u001b[0;34m\u001b[0m\u001b[0;34m\u001b[0m\u001b[0m\n\u001b[0;32m---> 10\u001b[0;31m     \u001b[0mval\u001b[0m\u001b[0;34m=\u001b[0m\u001b[0mself\u001b[0m\u001b[0;34m.\u001b[0m\u001b[0mm1\u001b[0m\u001b[0;34m(\u001b[0m\u001b[0;34m)\u001b[0m\u001b[0;34m+\u001b[0m\u001b[0;36m20\u001b[0m\u001b[0;34m\u001b[0m\u001b[0;34m\u001b[0m\u001b[0m\n\u001b[0m\u001b[1;32m     11\u001b[0m     \u001b[0;32mreturn\u001b[0m \u001b[0mval\u001b[0m\u001b[0;34m\u001b[0m\u001b[0;34m\u001b[0m\u001b[0m\n\u001b[1;32m     12\u001b[0m \u001b[0mr11\u001b[0m\u001b[0;34m=\u001b[0m\u001b[0mC\u001b[0m\u001b[0;34m(\u001b[0m\u001b[0;34m)\u001b[0m\u001b[0;34m\u001b[0m\u001b[0;34m\u001b[0m\u001b[0m\n",
            "\u001b[0;31mRecursionError\u001b[0m: maximum recursion depth exceeded"
          ]
        }
      ],
      "source": [
        "class A:\n",
        "  def m1(self):\n",
        "    return 20\n",
        "class B(A):\n",
        "  def m1(self):\n",
        "    val=self.m1()+20\n",
        "    return val\n",
        "class C(B):\n",
        "  def m1(self):\n",
        "    val=self.m1()+20\n",
        "    return val\n",
        "r11=C()\n",
        "r11.m1()\n",
        "#this will enter in an unending recursive loop where method m1() keeps calling itself again and again\n",
        "#This is an infinite loop"
      ]
    },
    {
      "cell_type": "code",
      "execution_count": null,
      "metadata": {
        "id": "hoxNbXuOIHId"
      },
      "outputs": [],
      "source": [
        "#Polymorphism means having different phases meaning same thing working differently according to situations....\n",
        "#Method overloading is having multiple methods with the same name in a class , method overloading doesnot work in python, it works in java, similarly multiple inheritance works in python\n",
        "#but not in java, diamond problem is a problem from multiple inheritance , Method overloading improves readability"
      ]
    },
    {
      "cell_type": "code",
      "execution_count": null,
      "metadata": {
        "colab": {
          "base_uri": "https://localhost:8080/",
          "height": 210
        },
        "id": "mmD_XNPabYnW",
        "outputId": "49f1af33-3207-4519-c509-084c1d472cb5"
      },
      "outputs": [
        {
          "ename": "TypeError",
          "evalue": "ignored",
          "output_type": "error",
          "traceback": [
            "\u001b[0;31m---------------------------------------------------------------------------\u001b[0m",
            "\u001b[0;31mTypeError\u001b[0m                                 Traceback (most recent call last)",
            "\u001b[0;32m<ipython-input-1-e9f6f8a4a3bf>\u001b[0m in \u001b[0;36m<cell line: 7>\u001b[0;34m()\u001b[0m\n\u001b[1;32m      5\u001b[0m     \u001b[0;32mreturn\u001b[0m \u001b[0ma\u001b[0m\u001b[0;34m*\u001b[0m\u001b[0mb\u001b[0m\u001b[0;34m\u001b[0m\u001b[0;34m\u001b[0m\u001b[0m\n\u001b[1;32m      6\u001b[0m \u001b[0mc11\u001b[0m\u001b[0;34m=\u001b[0m\u001b[0mshape\u001b[0m\u001b[0;34m(\u001b[0m\u001b[0;34m)\u001b[0m\u001b[0;34m\u001b[0m\u001b[0;34m\u001b[0m\u001b[0m\n\u001b[0;32m----> 7\u001b[0;31m \u001b[0mc11\u001b[0m\u001b[0;34m.\u001b[0m\u001b[0marea\u001b[0m\u001b[0;34m(\u001b[0m\u001b[0;36m2\u001b[0m\u001b[0;34m)\u001b[0m\u001b[0;34m\u001b[0m\u001b[0;34m\u001b[0m\u001b[0m\n\u001b[0m",
            "\u001b[0;31mTypeError\u001b[0m: shape.area() missing 1 required positional argument: 'b'"
          ]
        }
      ],
      "source": [
        "class shape:\n",
        "  def area(self,a):\n",
        "    return 3.14*a*a\n",
        "  def area(self,a,b):\n",
        "    return a*b\n",
        "c11=shape()\n",
        "c11.area(2)"
      ]
    },
    {
      "cell_type": "code",
      "execution_count": null,
      "metadata": {
        "id": "IMK4LEtYjz4K"
      },
      "outputs": [],
      "source": []
    },
    {
      "cell_type": "code",
      "execution_count": null,
      "metadata": {
        "colab": {
          "base_uri": "https://localhost:8080/"
        },
        "id": "ztol_aZUiMiw",
        "outputId": "6459d863-8897-415f-c97f-0dddae89c47d"
      },
      "outputs": [
        {
          "data": {
            "text/plain": [
              "10"
            ]
          },
          "execution_count": 2,
          "metadata": {},
          "output_type": "execute_result"
        }
      ],
      "source": [
        "c11.area(2,5)\n",
        "#when 2 methods with the same name exist in the class then the last method is seen as final method and hence we get error when we pass one argument to the area method"
      ]
    },
    {
      "cell_type": "code",
      "execution_count": null,
      "metadata": {
        "colab": {
          "base_uri": "https://localhost:8080/"
        },
        "id": "mVl5xTmIkELa",
        "outputId": "1c9a057e-2ba0-4d92-94f9-942d484d8885"
      },
      "outputs": [
        {
          "data": {
            "text/plain": [
              "50.24"
            ]
          },
          "execution_count": 5,
          "metadata": {},
          "output_type": "execute_result"
        }
      ],
      "source": [
        "#One way we can solve the problem of Method overloading is by using this process:\n",
        "class shape1:\n",
        "  def area(self,a,b=0):\n",
        "    if b==0:\n",
        "      return 3.14*a*a\n",
        "    else:\n",
        "      return a*b\n",
        "c12=shape1()\n",
        "c12.area(4)"
      ]
    },
    {
      "cell_type": "code",
      "execution_count": null,
      "metadata": {
        "colab": {
          "base_uri": "https://localhost:8080/"
        },
        "id": "H7lWGJnYoJLa",
        "outputId": "294c0cac-685e-4fea-9d96-46fbf55b92d0"
      },
      "outputs": [
        {
          "data": {
            "text/plain": [
              "20"
            ]
          },
          "execution_count": 6,
          "metadata": {},
          "output_type": "execute_result"
        }
      ],
      "source": [
        "c14=shape1()\n",
        "c14.area(4,5)\n",
        "#This process uses default variables concept in python to allow Method overloading with any error in python"
      ]
    },
    {
      "cell_type": "code",
      "execution_count": null,
      "metadata": {
        "id": "ZQqPV6vEpdQt"
      },
      "outputs": [],
      "source": [
        "#Operator overloading is the same operator giving different outputs, performing different operations based on the input for instance"
      ]
    },
    {
      "cell_type": "code",
      "execution_count": null,
      "metadata": {
        "colab": {
          "base_uri": "https://localhost:8080/",
          "height": 36
        },
        "id": "IAbDYAiAxDbX",
        "outputId": "11c44161-a79b-440c-cdb2-aad7fbd94085"
      },
      "outputs": [
        {
          "data": {
            "application/vnd.google.colaboratory.intrinsic+json": {
              "type": "string"
            },
            "text/plain": [
              "'helloworld'"
            ]
          },
          "execution_count": 7,
          "metadata": {},
          "output_type": "execute_result"
        }
      ],
      "source": [
        "\"hello\"+\"world\"\n",
        "#here \"+\" operator is used for concatenation"
      ]
    },
    {
      "cell_type": "code",
      "execution_count": null,
      "metadata": {
        "colab": {
          "base_uri": "https://localhost:8080/"
        },
        "id": "4KJLIb86xOVx",
        "outputId": "7b91298e-084a-478c-dd85-9c6170964240"
      },
      "outputs": [
        {
          "data": {
            "text/plain": [
              "8"
            ]
          },
          "execution_count": 8,
          "metadata": {},
          "output_type": "execute_result"
        }
      ],
      "source": [
        "3+5\n",
        "#Here \"+\" operator is used for addition"
      ]
    },
    {
      "cell_type": "code",
      "execution_count": null,
      "metadata": {
        "colab": {
          "base_uri": "https://localhost:8080/"
        },
        "id": "V2URQGifxbXX",
        "outputId": "a7d48495-f896-42f8-f53b-c0aa1afbb337"
      },
      "outputs": [
        {
          "data": {
            "text/plain": [
              "[1, 2, 3, 4, 5]"
            ]
          },
          "execution_count": 9,
          "metadata": {},
          "output_type": "execute_result"
        }
      ],
      "source": [
        "[1,2,3]+[4,5]"
      ]
    },
    {
      "cell_type": "code",
      "execution_count": null,
      "metadata": {
        "colab": {
          "base_uri": "https://localhost:8080/"
        },
        "id": "FUhTgIFYycfU",
        "outputId": "1b5ebc69-1a60-416c-90a0-d54416c11248"
      },
      "outputs": [
        {
          "data": {
            "text/plain": [
              "[1, 2, 3, 4, 53, 6]"
            ]
          },
          "execution_count": 11,
          "metadata": {},
          "output_type": "execute_result"
        }
      ],
      "source": [
        "class adder2:\n",
        "  def __init__(self,a,b):\n",
        "    self.a=a\n",
        "    self.b=b\n",
        "  def add(self):\n",
        "    return self.a+self.b\n",
        "mj1=adder2([1,2,3],[4,53,6])\n",
        "mj1.add()\n"
      ]
    },
    {
      "cell_type": "code",
      "execution_count": null,
      "metadata": {
        "colab": {
          "base_uri": "https://localhost:8080/"
        },
        "id": "JLyyuFCi1hgh",
        "outputId": "fca2d1d8-78ad-4016-c931-f549b1e972b3"
      },
      "outputs": [
        {
          "data": {
            "text/plain": [
              "7"
            ]
          },
          "execution_count": 12,
          "metadata": {},
          "output_type": "execute_result"
        }
      ],
      "source": [
        "mj2=adder2(3,4)\n",
        "mj2.add()"
      ]
    },
    {
      "cell_type": "code",
      "execution_count": null,
      "metadata": {
        "colab": {
          "base_uri": "https://localhost:8080/",
          "height": 36
        },
        "id": "Llp6BrHr3Zkx",
        "outputId": "1c362362-0f9b-4e1b-b059-3bdebeb3a406"
      },
      "outputs": [
        {
          "data": {
            "application/vnd.google.colaboratory.intrinsic+json": {
              "type": "string"
            },
            "text/plain": [
              "'helloworld'"
            ]
          },
          "execution_count": 13,
          "metadata": {},
          "output_type": "execute_result"
        }
      ],
      "source": [
        "mj3=adder2(\"hello\",\"world\")\n",
        "mj3.add()\n",
        "#This is an example of operator overloading, as we can see, we get different outputs for different inputs"
      ]
    },
    {
      "cell_type": "code",
      "execution_count": null,
      "metadata": {
        "id": "ervYmZpG3liH"
      },
      "outputs": [],
      "source": [
        "#Polymorphism is\n",
        "#Method overriding-->When a method is present in both parent and child class then method in child class gets overridden by method in the parent class\n",
        "#Method overloading-->When multiple method with the same name is present in the same class then it is called method overloading(in python it is implemented using default parameter value concept as very often methods with the same name might contain different number of parameters)\n",
        "#Operator overloading-->When the same operator performs different functions according to the nature of input then it is called Operator overloading , Operator overloading can be implemented by using magic methods(like add we came across above)"
      ]
    },
    {
      "cell_type": "code",
      "execution_count": null,
      "metadata": {
        "id": "1l8KswTcHr-o"
      },
      "outputs": [],
      "source": [
        "from abc import ABC,abstractmethod\n",
        "class Bankapp(ABC):\n",
        "  def database(self):\n",
        "    print(\"Connection with database established\")\n",
        "  @abstractmethod\n",
        "  def security(self):\n",
        "    pass\n",
        "class Mobileapp(Bankapp):\n",
        "  def login(self):\n",
        "    print(\"logged in\")\n",
        "  def security(self):\n",
        "    print(\"Mobile security\")\n"
      ]
    },
    {
      "cell_type": "code",
      "execution_count": null,
      "metadata": {
        "colab": {
          "base_uri": "https://localhost:8080/"
        },
        "id": "f9Y4VFy-Jbiw",
        "outputId": "44f4bb73-2fce-4d00-8f22-c09c4d22f09b"
      },
      "outputs": [
        {
          "name": "stdout",
          "output_type": "stream",
          "text": [
            "Connection with database established\n"
          ]
        }
      ],
      "source": [
        "c11=Mobileapp()\n",
        "c11.database()"
      ]
    },
    {
      "cell_type": "code",
      "execution_count": null,
      "metadata": {
        "colab": {
          "base_uri": "https://localhost:8080/"
        },
        "id": "J-s9OntoKWME",
        "outputId": "22b95871-9c89-41c0-db1e-c9b80f0b2ffd"
      },
      "outputs": [
        {
          "name": "stdout",
          "output_type": "stream",
          "text": [
            "Mobile security\n"
          ]
        }
      ],
      "source": [
        "c11.security()"
      ]
    },
    {
      "cell_type": "code",
      "execution_count": null,
      "metadata": {
        "id": "xDbkYseAK3PE"
      },
      "outputs": [],
      "source": [
        "from abc import ABC,abstractmethod\n",
        "class Bankapp(ABC):\n",
        "  def databaseconn(self):\n",
        "    print(\"Connect with database established\")\n",
        "  @abstractmethod\n",
        "  def security(self):\n",
        "    pass\n",
        "  @abstractmethod\n",
        "  def display(self):\n",
        "    pass\n",
        "class Mobileapp(Bankapp):\n",
        "  def login(self):\n",
        "    print(\"Logged in\")\n",
        "  def security(self):\n",
        "    print(\"Mobile security\")\n",
        "  def display(self):\n",
        "    print(\"Let us display\")"
      ]
    },
    {
      "cell_type": "code",
      "execution_count": null,
      "metadata": {
        "colab": {
          "base_uri": "https://localhost:8080/"
        },
        "id": "O2waqyB7ONrj",
        "outputId": "468f75b0-d3bf-4fa2-d3ba-5ff2967aa015"
      },
      "outputs": [
        {
          "name": "stdout",
          "output_type": "stream",
          "text": [
            "Connect with database established\n"
          ]
        }
      ],
      "source": [
        "c12=Mobileapp()\n",
        "c12.databaseconn()"
      ]
    },
    {
      "cell_type": "code",
      "execution_count": null,
      "metadata": {
        "colab": {
          "background_save": true
        },
        "id": "suoN7UAiOXB6",
        "outputId": "8eb98146-1f85-487e-b363-d608c5ddf78f"
      },
      "outputs": [
        {
          "ename": "NameError",
          "evalue": "ignored",
          "output_type": "error",
          "traceback": [
            "\u001b[0;31m---------------------------------------------------------------------------\u001b[0m",
            "\u001b[0;31mNameError\u001b[0m                                 Traceback (most recent call last)",
            "\u001b[0;32m<ipython-input-1-b7415fe998e2>\u001b[0m in \u001b[0;36m<cell line: 1>\u001b[0;34m()\u001b[0m\n\u001b[0;32m----> 1\u001b[0;31m \u001b[0mc12\u001b[0m\u001b[0;34m.\u001b[0m\u001b[0mlogin\u001b[0m\u001b[0;34m(\u001b[0m\u001b[0;34m)\u001b[0m\u001b[0;34m\u001b[0m\u001b[0;34m\u001b[0m\u001b[0m\n\u001b[0m",
            "\u001b[0;31mNameError\u001b[0m: name 'c12' is not defined"
          ]
        }
      ],
      "source": [
        "c12.login()"
      ]
    },
    {
      "cell_type": "code",
      "execution_count": null,
      "metadata": {
        "id": "Yiezw_Oy_Ndd"
      },
      "outputs": [],
      "source": [
        "#Abstract class inherits ABC class and has atleast one abstract method , abstract method has no content, it is just a instruction to it's child class that it will have to write the respective\n",
        "#abstract method if the object is created from the child class"
      ]
    },
    {
      "cell_type": "code",
      "execution_count": null,
      "metadata": {
        "colab": {
          "base_uri": "https://localhost:8080/"
        },
        "id": "5pz0uD2QRptz",
        "outputId": "2795bfae-53af-4a14-cdc3-bc13be2099bf"
      },
      "outputs": [
        {
          "data": {
            "text/plain": [
              "5500.0"
            ]
          },
          "execution_count": 2,
          "metadata": {},
          "output_type": "execute_result"
        }
      ],
      "source": [
        "class vehicle:\n",
        "  def fare(a,b):\n",
        "    return a*b\n",
        "class Bus(vehicle):\n",
        "  def fare(self,a,b):\n",
        "    return 0.1*a*b+a*b\n",
        "a11=Bus()\n",
        "a11.fare(50,100)"
      ]
    },
    {
      "cell_type": "code",
      "execution_count": null,
      "metadata": {
        "colab": {
          "base_uri": "https://localhost:8080/"
        },
        "id": "7MSflfiF-Yb4",
        "outputId": "e90d5496-f3a1-4d28-e313-4b3cd107c456"
      },
      "outputs": [
        {
          "data": {
            "text/plain": [
              "2"
            ]
          },
          "execution_count": 3,
          "metadata": {},
          "output_type": "execute_result"
        }
      ],
      "source": [
        "class point:\n",
        "  def __init__(self,x,y):\n",
        "    self.x=x\n",
        "    self.y=y\n",
        "class location:\n",
        "  def reflection(self,location,destination):\n",
        "    return destination.x\n",
        "c=point(1,1)\n",
        "d=point(2,3)\n",
        "k=location()\n",
        "k.reflection(c,d)"
      ]
    },
    {
      "cell_type": "code",
      "execution_count": null,
      "metadata": {
        "colab": {
          "base_uri": "https://localhost:8080/"
        },
        "id": "0ljAgr7qKon5",
        "outputId": "66b7b59e-c325-44db-fcc7-ed20b0c894d0"
      },
      "outputs": [
        {
          "name": "stdout",
          "output_type": "stream",
          "text": [
            "Bill has been paid\n"
          ]
        }
      ],
      "source": [
        "class Bill:\n",
        "  def __init__(self):\n",
        "    print(\"Bill has been paid\")\n",
        "class cash(Bill):\n",
        "  pass\n",
        "class cheque(Bill):\n",
        "  pass\n",
        "c11=cash()"
      ]
    },
    {
      "cell_type": "code",
      "execution_count": null,
      "metadata": {
        "colab": {
          "base_uri": "https://localhost:8080/"
        },
        "id": "UzEKqbRrOOLF",
        "outputId": "629f4dbf-2cc2-4020-8e30-c8c7658e85c0"
      },
      "outputs": [
        {
          "name": "stdout",
          "output_type": "stream",
          "text": [
            "Bill has been paid\n"
          ]
        }
      ],
      "source": [
        "c12=cheque()"
      ]
    },
    {
      "cell_type": "code",
      "execution_count": null,
      "metadata": {
        "colab": {
          "base_uri": "https://localhost:8080/"
        },
        "id": "zfv_JQrMOSjB",
        "outputId": "2a598d54-ee5f-4646-cd99-136e776cf833"
      },
      "outputs": [
        {
          "name": "stdout",
          "output_type": "stream",
          "text": [
            "dict_keys(['pat1', 'pat2', 'pat3', 'pat4', 'pat5'])\n",
            "dict_values(['hemba', 'rocky', 'rambo', 'rohan', 'khanna'])\n",
            "pat1\n",
            "pat2\n",
            "pat3\n",
            "pat4\n",
            "pat5\n"
          ]
        },
        {
          "data": {
            "text/plain": [
              "['hemba', 'rocky', 'rambo', 'rohan', 'khanna']"
            ]
          },
          "execution_count": 2,
          "metadata": {},
          "output_type": "execute_result"
        }
      ],
      "source": [
        "d1={'pat1':'hemba','pat2':'rocky','pat3':'rambo','pat4':'rohan','pat5':'khanna'}\n",
        "print(d1.keys())\n",
        "print(d1.values())\n",
        "for z in d1.keys():\n",
        "  print(z)\n",
        "[m for m in d1.keys()]\n",
        "[z1 for z1 in d1.values()]"
      ]
    },
    {
      "cell_type": "code",
      "execution_count": null,
      "metadata": {
        "colab": {
          "base_uri": "https://localhost:8080/"
        },
        "id": "bHB15sAb1fYA",
        "outputId": "1e9f8a38-96bf-489e-cd45-2220a2a9f2ee"
      },
      "outputs": [
        {
          "data": {
            "text/plain": [
              "['pat1', 'pat2', 'pat3', 'pat4', 'pat5']"
            ]
          },
          "execution_count": 3,
          "metadata": {},
          "output_type": "execute_result"
        }
      ],
      "source": [
        "[key for (key,value) in d1.items()]"
      ]
    },
    {
      "cell_type": "code",
      "execution_count": null,
      "metadata": {
        "colab": {
          "base_uri": "https://localhost:8080/"
        },
        "id": "De9unCz11nxR",
        "outputId": "e57d4cf8-d0a1-41da-c1de-c87064004a13"
      },
      "outputs": [
        {
          "data": {
            "text/plain": [
              "['hemba', 'rocky', 'rambo', 'rohan', 'khanna']"
            ]
          },
          "execution_count": 4,
          "metadata": {},
          "output_type": "execute_result"
        }
      ],
      "source": [
        "[value for (key,value) in d1.items()]"
      ]
    },
    {
      "cell_type": "code",
      "execution_count": null,
      "metadata": {
        "id": "7IgMt8ic1vNf"
      },
      "outputs": [],
      "source": [
        "class FlexibleDict:\n",
        "  def __init__(self):\n",
        "    self.data={}\n",
        "  def __setitem__(self,key,value):\n",
        "    self.data[key]=value\n",
        "    self.data[str(key)]=value\n",
        "  def __getitem__(self,key):\n",
        "    return self.data[key]\n"
      ]
    },
    {
      "cell_type": "code",
      "execution_count": null,
      "metadata": {
        "colab": {
          "base_uri": "https://localhost:8080/"
        },
        "id": "OgvCMcf75zjK",
        "outputId": "ac78b1b1-f662-47ca-b589-d2ef735b25b9"
      },
      "outputs": [
        {
          "name": "stdout",
          "output_type": "stream",
          "text": [
            "100\n"
          ]
        }
      ],
      "source": [
        "fd = FlexibleDict()\n",
        "fd['a'] = 100\n",
        "print(fd['a']) # Like regular dict"
      ]
    },
    {
      "cell_type": "code",
      "execution_count": null,
      "metadata": {
        "colab": {
          "base_uri": "https://localhost:8080/"
        },
        "id": "aCteEsFu56Re",
        "outputId": "1a206986-1087-480f-f741-18e87295573a"
      },
      "outputs": [
        {
          "name": "stdout",
          "output_type": "stream",
          "text": [
            "500\n"
          ]
        }
      ],
      "source": [
        "fd[5] = 500\n",
        "print(fd[5]) # Like regular dict"
      ]
    },
    {
      "cell_type": "code",
      "execution_count": null,
      "metadata": {
        "colab": {
          "base_uri": "https://localhost:8080/"
        },
        "id": "zRtYxN8P5_fF",
        "outputId": "658f011d-e738-49a5-bd05-de9471de685c"
      },
      "outputs": [
        {
          "name": "stdout",
          "output_type": "stream",
          "text": [
            "100\n"
          ]
        }
      ],
      "source": [
        "fd[1] = 100\n",
        "print(fd['1']) # actual Key is int but still trying to access through str key."
      ]
    },
    {
      "cell_type": "code",
      "execution_count": null,
      "metadata": {
        "colab": {
          "base_uri": "https://localhost:8080/"
        },
        "id": "uKacW5bB6Fa7",
        "outputId": "11f39067-749d-436d-862f-d289daf963f0"
      },
      "outputs": [
        {
          "name": "stdout",
          "output_type": "stream",
          "text": [
            "100\n"
          ]
        }
      ],
      "source": [
        "fd['1'] = 100\n",
        "print(fd[1])"
      ]
    },
    {
      "cell_type": "code",
      "execution_count": null,
      "metadata": {
        "colab": {
          "base_uri": "https://localhost:8080/"
        },
        "id": "TTcEhLJV9oFU",
        "outputId": "6784f9c4-b3d8-40e8-cc9f-ee7ae2f6a9ac"
      },
      "outputs": [
        {
          "data": {
            "text/plain": [
              "5500.0"
            ]
          },
          "execution_count": 10,
          "metadata": {},
          "output_type": "execute_result"
        }
      ],
      "source": [
        "class Vehicle:\n",
        "  def __init__(self,type,capacity):\n",
        "    self.type=type\n",
        "    self.capacity=capacity\n",
        "  def fare(self):\n",
        "    return 100*self.capacity\n",
        "class Bus(Vehicle):\n",
        "  def fare(self):\n",
        "    km=super().fare()\n",
        "    km=km+0.1*km\n",
        "    return km\n",
        "c11=Bus(\"School bus\",50)\n",
        "c11.fare()"
      ]
    },
    {
      "cell_type": "code",
      "execution_count": null,
      "metadata": {
        "id": "fnabSmpFGcR0"
      },
      "outputs": [],
      "source": [
        "class point:\n",
        "  def __init__(self,x,y):\n",
        "    self.x=x\n",
        "    self.y=y\n",
        "  def show(self):\n",
        "    return \"({},{})\".format(self.x,self.y)\n",
        "class location:\n",
        "  def __init__(self,x1,y1,x2,y2):\n",
        "    self.source=point(x1,y1)\n",
        "    self.destination=point(x2,y2)\n",
        "  def show_sm(self):\n",
        "    print(\"source \",self.source.show())\n",
        "    print(\"Destination\",self.destination.show())\n",
        "  def reflection(self):\n",
        "    self.destination.y=-self.destination.y\n",
        "    print(\"Reflection \",self.destination.show())"
      ]
    },
    {
      "cell_type": "code",
      "execution_count": null,
      "metadata": {
        "colab": {
          "base_uri": "https://localhost:8080/"
        },
        "id": "wzMogLs0gcUX",
        "outputId": "c472978e-7825-477e-d59d-ab247f90bfc2"
      },
      "outputs": [
        {
          "name": "stdout",
          "output_type": "stream",
          "text": [
            "source  (0,0)\n",
            "Destination (1,1)\n"
          ]
        }
      ],
      "source": [
        "l=location(0,0,1,1)\n",
        "l.show_sm()"
      ]
    },
    {
      "cell_type": "code",
      "execution_count": null,
      "metadata": {
        "colab": {
          "base_uri": "https://localhost:8080/"
        },
        "id": "IJ_-yrzHg-N8",
        "outputId": "546117ee-e71d-4c7b-f366-e39578985c45"
      },
      "outputs": [
        {
          "name": "stdout",
          "output_type": "stream",
          "text": [
            "Reflection  (1,-1)\n"
          ]
        }
      ],
      "source": [
        "l.reflection()"
      ]
    },
    {
      "cell_type": "code",
      "execution_count": null,
      "metadata": {
        "id": "7T7pU6VAhS-5"
      },
      "outputs": [],
      "source": [
        "class point:\n",
        "  def __init__(self,x,y):\n",
        "    self.x=x\n",
        "    self.y=y\n",
        "  def show(self):\n",
        "    return \"({},{})\".format(self.x,self.y)\n",
        "class location:\n",
        "  def __init__(self,x1,y1,x2,y2):\n",
        "    self.source=point(x1,y1)\n",
        "    self.destination=point(x2,y2)\n",
        "  def show_sm(self):\n",
        "    print(\"Source \",self.source.show())\n",
        "    print(\"Destination \",self.destination.show())\n",
        "  def reflection(self):\n",
        "    self.destination.y=-self.destination.y\n",
        "    print(\"Reflection \",self.destination.show())\n"
      ]
    },
    {
      "cell_type": "code",
      "execution_count": null,
      "metadata": {
        "colab": {
          "base_uri": "https://localhost:8080/"
        },
        "id": "EfEMrStu0l6b",
        "outputId": "a7c61c9c-88cb-45b9-dce3-60fe86cf7f1b"
      },
      "outputs": [
        {
          "name": "stdout",
          "output_type": "stream",
          "text": [
            "Source  (0,0)\n",
            "Destination  (1,1)\n"
          ]
        }
      ],
      "source": [
        "l=location(0,0,1,1)\n",
        "l.show_sm()"
      ]
    },
    {
      "cell_type": "code",
      "execution_count": null,
      "metadata": {
        "colab": {
          "base_uri": "https://localhost:8080/"
        },
        "id": "lDyzXeVR005t",
        "outputId": "a1d08549-7d95-48f9-d846-cee8ad785e10"
      },
      "outputs": [
        {
          "name": "stdout",
          "output_type": "stream",
          "text": [
            "Reflection  (1,-1)\n"
          ]
        }
      ],
      "source": [
        "l.reflection()"
      ]
    },
    {
      "cell_type": "code",
      "execution_count": null,
      "metadata": {
        "id": "bc9GtXct2KnJ"
      },
      "outputs": [],
      "source": [
        "from abc import ABC,abstractmethod\n",
        "class polygon(ABC):\n",
        "  @abstractmethod\n",
        "  def get_data():\n",
        "    pass\n",
        "  def area():\n",
        "    pass\n",
        "class rectangle(polygon):\n",
        "  def get_data(self,a,b):\n",
        "    self.length=a\n",
        "    self.breadth=b\n",
        "  def area(self):\n",
        "    return self.length*self.breadth\n",
        "class triangle(polygon):\n",
        "  def get_data(self,a,b):\n",
        "    self.base=a\n",
        "    self.height=b\n",
        "  def area(self):\n",
        "    return 0.5*self.base*self.height\n",
        "\n"
      ]
    },
    {
      "cell_type": "code",
      "execution_count": null,
      "metadata": {
        "colab": {
          "base_uri": "https://localhost:8080/"
        },
        "id": "V11ptC3wixHr",
        "outputId": "be70bffb-9698-4cc3-a1bb-b4a7bd36faa2"
      },
      "outputs": [
        {
          "data": {
            "text/plain": [
              "20"
            ]
          },
          "execution_count": 7,
          "metadata": {},
          "output_type": "execute_result"
        }
      ],
      "source": [
        "rect=rectangle()\n",
        "rect.get_data(4,5)\n",
        "rect.area()"
      ]
    },
    {
      "cell_type": "code",
      "execution_count": null,
      "metadata": {
        "colab": {
          "base_uri": "https://localhost:8080/"
        },
        "id": "91JXIS7ii7YY",
        "outputId": "dc6ec39d-c80e-46bf-daf0-f0608ef648ac"
      },
      "outputs": [
        {
          "data": {
            "text/plain": [
              "10.0"
            ]
          },
          "execution_count": 8,
          "metadata": {},
          "output_type": "execute_result"
        }
      ],
      "source": [
        "tri=triangle()\n",
        "tri.get_data(4,5)\n",
        "tri.area()"
      ]
    },
    {
      "cell_type": "code",
      "execution_count": null,
      "metadata": {
        "colab": {
          "background_save": true
        },
        "id": "GmBeMdEXtl5M"
      },
      "outputs": [],
      "source": [
        "class bill:\n",
        "  def __init__(self,items,price):\n",
        "    self.total=0\n",
        "    self.items=items\n",
        "    self.price=price\n",
        "    for i in self.price:\n",
        "      self.total+=i\n",
        "  def display(self):\n",
        "    print('Items \\t\\t\\t Price')\n",
        "    for i in range(len(self.items)):\n",
        "      print(self.items[i],'\\t',self.price[i])\n",
        "    print('*'*10)\n",
        "    print(\"Total   \",self.total)\n",
        "class cashpayment(bill):\n",
        "  def __init__(self,item,price,denm,value):\n",
        "    super().__init__(item,price)\n",
        "    self.denm=denm\n",
        "    self.value=value\n",
        "  def display(self):\n",
        "    super().display()\n",
        "    for i in range(len(self.denm)):\n",
        "      print(self.denm[i],'*',self.value[i],' = ',self.denm[i]*self.value[i])\n",
        "class chequepayment(bill):\n",
        "  def __init__(self,item,price,cno,bankname):\n",
        "    super().__init__(item,price)\n",
        "    self.cno=cno\n",
        "    self.bankname=bankname\n",
        "  def\n",
        "\n",
        "\n"
      ]
    },
    {
      "cell_type": "code",
      "execution_count": null,
      "metadata": {
        "colab": {
          "base_uri": "https://localhost:8080/"
        },
        "id": "lz58piJ5IRUX",
        "outputId": "1e5308df-50c5-420c-bae2-3b0b39ff19e1"
      },
      "outputs": [
        {
          "name": "stdout",
          "output_type": "stream",
          "text": [
            "Enter the input\n",
            "    1.Register if not a member\n",
            "    2.Login if already a member\n",
            "    3.Exit1\n",
            "Enter the name hembu\n",
            "Enter the password 12345\n",
            "Enter the email hembu123@gmail.com\n",
            "Registration is sucessfull, now login\n",
            "Enter the input\n",
            "    1.Register if not a member\n",
            "    2.Login if already a member\n",
            "    3.Exit2\n",
            "Enter the email hembu123@gmail.com\n",
            "Enter the password 12345\n",
            "\n",
            "    Hi how are you!\n",
            "    1.NER\n",
            "    2.Language Detection\n",
            "    3.Sentiment Analysis\n",
            "    4.Logout3\n",
            "Enter the sentence: hemu is bad\n",
            "Sentence is negative\n"
          ]
        }
      ],
      "source": [
        "import spacy\n",
        "from langdetect import detect\n",
        "from textblob import TextBlob\n",
        "class NLPapp:\n",
        "  def __init__(self):\n",
        "    self.__database={}\n",
        "    self.__first_menu()\n",
        "  def __first_menu(self):\n",
        "    first_input=input(\"\"\"Enter the input\n",
        "    1.Register if not a member\n",
        "    2.Login if already a member\n",
        "    3.Exit\"\"\")\n",
        "    if first_input=='1':\n",
        "      self.__register()\n",
        "    elif first_input=='2':\n",
        "      self.__login()\n",
        "    else:\n",
        "      exit()\n",
        "  def __register(self):\n",
        "    name=input(\"Enter the name \")\n",
        "    password=input(\"Enter the password \")\n",
        "    email=input(\"Enter the email \")\n",
        "    if email in self.__database:\n",
        "      print(\"Account already exists \")\n",
        "    else:\n",
        "      self.__database[email]=[name,password]\n",
        "      print(\"Registration is sucessfull, now login\")\n",
        "      self.__first_menu()\n",
        "  def __login(self):\n",
        "    email=input(\"Enter the email \")\n",
        "    password=input(\"Enter the password \")\n",
        "    if email in self.__database:\n",
        "      if password==self.__database[email][1]:\n",
        "        self.__second_menu()\n",
        "      else:\n",
        "        print(\"wrong password \")\n",
        "        self.__login()\n",
        "    else:\n",
        "      print(\"Please register first\")\n",
        "      self.__first_menu()\n",
        "  def __second_menu(self):\n",
        "    second_input=input(\"\"\"\n",
        "    Hi how are you!\n",
        "    1.NER\n",
        "    2.Language Detection\n",
        "    3.Sentiment Analysis\n",
        "    4.Logout\"\"\")\n",
        "    if second_input=='1':\n",
        "      self.__ner()\n",
        "    elif second_input=='2':\n",
        "      self.__langdet()\n",
        "    elif second_input=='3':\n",
        "      self.__sentana()\n",
        "    else:\n",
        "      exit()\n",
        "  def __ner(self):\n",
        "    text=input(\"Enter the sentence \")\n",
        "    nlp=spacy.load(\"en_core_web_sm\")\n",
        "    k1=[]\n",
        "    k2=[]\n",
        "    doc=nlp(text)\n",
        "    for ent in doc.ents:\n",
        "      print(ent.text,ent.label_)\n",
        "  def __langdet(self):\n",
        "    text=input(\"Enter the sentence: \")\n",
        "    mn=detect(text)\n",
        "    print(mn)\n",
        "  def __sentana(self):\n",
        "    text=input(\"Enter the sentence: \")\n",
        "    doc=TextBlob(text)\n",
        "    d11=doc.sentiment\n",
        "    if d11.polarity>0:\n",
        "      print(\"Sentence is positive \")\n",
        "    else:\n",
        "      print(\"Sentence is negative\")\n",
        "\n",
        "\n",
        "d11=NLPapp()\n",
        "\n",
        "\n",
        "\n"
      ]
    },
    {
      "cell_type": "code",
      "execution_count": null,
      "metadata": {
        "colab": {
          "base_uri": "https://localhost:8080/"
        },
        "id": "C_JBrHTsbm00",
        "outputId": "8cd8b0c6-dd52-445e-c88b-dec4d62ef8b0"
      },
      "outputs": [
        {
          "name": "stdout",
          "output_type": "stream",
          "text": [
            "Apple Inc. ORG\n",
            "UK GPE\n"
          ]
        }
      ],
      "source": [
        "import spacy\n",
        "\n",
        "nlp = spacy.load(\"en_core_web_sm\")\n",
        "text = \"Apple Inc. is looking to buy a startup in the UK.\"\n",
        "doc = nlp(text)\n",
        "for ent in doc.ents:\n",
        "    print(ent.text, ent.label_)\n"
      ]
    },
    {
      "cell_type": "code",
      "execution_count": null,
      "metadata": {
        "colab": {
          "base_uri": "https://localhost:8080/"
        },
        "id": "2fSXjwkacJ_F",
        "outputId": "f49a63a2-bc7e-4aa1-fd2f-c0c6d5e07534"
      },
      "outputs": [
        {
          "name": "stdout",
          "output_type": "stream",
          "text": [
            "Requirement already satisfied: spacy in /usr/local/lib/python3.10/dist-packages (3.6.1)\n",
            "Requirement already satisfied: spacy-legacy<3.1.0,>=3.0.11 in /usr/local/lib/python3.10/dist-packages (from spacy) (3.0.12)\n",
            "Requirement already satisfied: spacy-loggers<2.0.0,>=1.0.0 in /usr/local/lib/python3.10/dist-packages (from spacy) (1.0.4)\n",
            "Requirement already satisfied: murmurhash<1.1.0,>=0.28.0 in /usr/local/lib/python3.10/dist-packages (from spacy) (1.0.9)\n",
            "Requirement already satisfied: cymem<2.1.0,>=2.0.2 in /usr/local/lib/python3.10/dist-packages (from spacy) (2.0.7)\n",
            "Requirement already satisfied: preshed<3.1.0,>=3.0.2 in /usr/local/lib/python3.10/dist-packages (from spacy) (3.0.8)\n",
            "Requirement already satisfied: thinc<8.2.0,>=8.1.8 in /usr/local/lib/python3.10/dist-packages (from spacy) (8.1.12)\n",
            "Requirement already satisfied: wasabi<1.2.0,>=0.9.1 in /usr/local/lib/python3.10/dist-packages (from spacy) (1.1.2)\n",
            "Requirement already satisfied: srsly<3.0.0,>=2.4.3 in /usr/local/lib/python3.10/dist-packages (from spacy) (2.4.7)\n",
            "Requirement already satisfied: catalogue<2.1.0,>=2.0.6 in /usr/local/lib/python3.10/dist-packages (from spacy) (2.0.9)\n",
            "Requirement already satisfied: typer<0.10.0,>=0.3.0 in /usr/local/lib/python3.10/dist-packages (from spacy) (0.9.0)\n",
            "Requirement already satisfied: pathy>=0.10.0 in /usr/local/lib/python3.10/dist-packages (from spacy) (0.10.2)\n",
            "Requirement already satisfied: smart-open<7.0.0,>=5.2.1 in /usr/local/lib/python3.10/dist-packages (from spacy) (6.4.0)\n",
            "Requirement already satisfied: tqdm<5.0.0,>=4.38.0 in /usr/local/lib/python3.10/dist-packages (from spacy) (4.66.1)\n",
            "Requirement already satisfied: numpy>=1.15.0 in /usr/local/lib/python3.10/dist-packages (from spacy) (1.23.5)\n",
            "Requirement already satisfied: requests<3.0.0,>=2.13.0 in /usr/local/lib/python3.10/dist-packages (from spacy) (2.31.0)\n",
            "Requirement already satisfied: pydantic!=1.8,!=1.8.1,<3.0.0,>=1.7.4 in /usr/local/lib/python3.10/dist-packages (from spacy) (1.10.12)\n",
            "Requirement already satisfied: jinja2 in /usr/local/lib/python3.10/dist-packages (from spacy) (3.1.2)\n",
            "Requirement already satisfied: setuptools in /usr/local/lib/python3.10/dist-packages (from spacy) (67.7.2)\n",
            "Requirement already satisfied: packaging>=20.0 in /usr/local/lib/python3.10/dist-packages (from spacy) (23.1)\n",
            "Requirement already satisfied: langcodes<4.0.0,>=3.2.0 in /usr/local/lib/python3.10/dist-packages (from spacy) (3.3.0)\n",
            "Requirement already satisfied: typing-extensions>=4.2.0 in /usr/local/lib/python3.10/dist-packages (from pydantic!=1.8,!=1.8.1,<3.0.0,>=1.7.4->spacy) (4.5.0)\n",
            "Requirement already satisfied: charset-normalizer<4,>=2 in /usr/local/lib/python3.10/dist-packages (from requests<3.0.0,>=2.13.0->spacy) (3.2.0)\n",
            "Requirement already satisfied: idna<4,>=2.5 in /usr/local/lib/python3.10/dist-packages (from requests<3.0.0,>=2.13.0->spacy) (3.4)\n",
            "Requirement already satisfied: urllib3<3,>=1.21.1 in /usr/local/lib/python3.10/dist-packages (from requests<3.0.0,>=2.13.0->spacy) (2.0.4)\n",
            "Requirement already satisfied: certifi>=2017.4.17 in /usr/local/lib/python3.10/dist-packages (from requests<3.0.0,>=2.13.0->spacy) (2023.7.22)\n",
            "Requirement already satisfied: blis<0.8.0,>=0.7.8 in /usr/local/lib/python3.10/dist-packages (from thinc<8.2.0,>=8.1.8->spacy) (0.7.10)\n",
            "Requirement already satisfied: confection<1.0.0,>=0.0.1 in /usr/local/lib/python3.10/dist-packages (from thinc<8.2.0,>=8.1.8->spacy) (0.1.2)\n",
            "Requirement already satisfied: click<9.0.0,>=7.1.1 in /usr/local/lib/python3.10/dist-packages (from typer<0.10.0,>=0.3.0->spacy) (8.1.7)\n",
            "Requirement already satisfied: MarkupSafe>=2.0 in /usr/local/lib/python3.10/dist-packages (from jinja2->spacy) (2.1.3)\n"
          ]
        }
      ],
      "source": [
        "!pip install spacy"
      ]
    },
    {
      "cell_type": "code",
      "execution_count": null,
      "metadata": {
        "colab": {
          "base_uri": "https://localhost:8080/"
        },
        "id": "Nh1jToXncg7k",
        "outputId": "c3801176-62db-43fc-b57d-3e77f58a5e63"
      },
      "outputs": [
        {
          "name": "stdout",
          "output_type": "stream",
          "text": [
            "Hemalata GPE\n",
            "india GPE\n"
          ]
        }
      ],
      "source": [
        "import spacy\n",
        "nlp=spacy.load('en_core_web_sm')\n",
        "text=\"Hemalata is a great warrior of india\"\n",
        "doc=nlp(text)\n",
        "for ent in doc.ents:\n",
        "  print(ent.text, ent.label_)"
      ]
    },
    {
      "cell_type": "code",
      "execution_count": null,
      "metadata": {
        "colab": {
          "base_uri": "https://localhost:8080/"
        },
        "id": "gNQOhjrGe6ef",
        "outputId": "a6555a1d-027e-4b4a-aa02-0cf60bc80652"
      },
      "outputs": [
        {
          "name": "stdout",
          "output_type": "stream",
          "text": [
            "pa\n"
          ]
        }
      ],
      "source": [
        "from langdetect import detect\n",
        "text=\"ਹੈਲੋ ਜੌਨ ਤੁਸੀਂ ਕਿਵੇਂ ਹੋ, ਤੁਸੀਂ ਇੱਕ ਗੂੰਗੇ ਹੋ\"\n",
        "language=detect(text)\n",
        "print(language)\n"
      ]
    },
    {
      "cell_type": "code",
      "execution_count": null,
      "metadata": {
        "colab": {
          "base_uri": "https://localhost:8080/"
        },
        "id": "0QcgCryfAO4_",
        "outputId": "376fbca5-e038-4884-8dcc-b17b6d3677fe"
      },
      "outputs": [
        {
          "name": "stdout",
          "output_type": "stream",
          "text": [
            "Collecting langdetect\n",
            "  Downloading langdetect-1.0.9.tar.gz (981 kB)\n",
            "\u001b[2K     \u001b[90m━━━━━━━━━━━━━━━━━━━━━━━━━━━━━━━━━━━━━━━\u001b[0m \u001b[32m981.5/981.5 kB\u001b[0m \u001b[31m8.0 MB/s\u001b[0m eta \u001b[36m0:00:00\u001b[0m\n",
            "\u001b[?25h  Preparing metadata (setup.py) ... \u001b[?25l\u001b[?25hdone\n",
            "Requirement already satisfied: six in /usr/local/lib/python3.10/dist-packages (from langdetect) (1.16.0)\n",
            "Building wheels for collected packages: langdetect\n",
            "  Building wheel for langdetect (setup.py) ... \u001b[?25l\u001b[?25hdone\n",
            "  Created wheel for langdetect: filename=langdetect-1.0.9-py3-none-any.whl size=993224 sha256=852b14d63f8a548a417922521f9e57523a50b4a650b2d7fb93fe797bf2fafbca\n",
            "  Stored in directory: /root/.cache/pip/wheels/95/03/7d/59ea870c70ce4e5a370638b5462a7711ab78fba2f655d05106\n",
            "Successfully built langdetect\n",
            "Installing collected packages: langdetect\n",
            "Successfully installed langdetect-1.0.9\n"
          ]
        }
      ],
      "source": [
        "!pip install langdetect"
      ]
    },
    {
      "cell_type": "code",
      "execution_count": null,
      "metadata": {
        "colab": {
          "base_uri": "https://localhost:8080/"
        },
        "id": "4glRhV6UEkbc",
        "outputId": "debe9cf6-31a8-41e7-e7a2-eb1f4ba4f196"
      },
      "outputs": [
        {
          "name": "stdout",
          "output_type": "stream",
          "text": [
            "Requirement already satisfied: textblob in /usr/local/lib/python3.10/dist-packages (0.17.1)\n",
            "Requirement already satisfied: nltk>=3.1 in /usr/local/lib/python3.10/dist-packages (from textblob) (3.8.1)\n",
            "Requirement already satisfied: click in /usr/local/lib/python3.10/dist-packages (from nltk>=3.1->textblob) (8.1.7)\n",
            "Requirement already satisfied: joblib in /usr/local/lib/python3.10/dist-packages (from nltk>=3.1->textblob) (1.3.2)\n",
            "Requirement already satisfied: regex>=2021.8.3 in /usr/local/lib/python3.10/dist-packages (from nltk>=3.1->textblob) (2023.6.3)\n",
            "Requirement already satisfied: tqdm in /usr/local/lib/python3.10/dist-packages (from nltk>=3.1->textblob) (4.66.1)\n"
          ]
        }
      ],
      "source": [
        "!pip install textblob"
      ]
    },
    {
      "cell_type": "code",
      "execution_count": null,
      "metadata": {
        "colab": {
          "base_uri": "https://localhost:8080/"
        },
        "id": "0QhGyNsxExSr",
        "outputId": "f70f8a6f-df20-4b57-e4f2-d6090eb14abb"
      },
      "outputs": [
        {
          "name": "stdout",
          "output_type": "stream",
          "text": [
            "0.6000000000000001\n"
          ]
        }
      ],
      "source": [
        "from textblob import TextBlob\n",
        "text=\"This product is amazing\"\n",
        "doc=TextBlob(text)\n",
        "sent=doc.sentiment\n",
        "print(sent.polarity)"
      ]
    },
    {
      "cell_type": "code",
      "execution_count": null,
      "metadata": {
        "colab": {
          "base_uri": "https://localhost:8080/"
        },
        "id": "fve-RUu4HcBg",
        "outputId": "3b6a1be4-4866-41a8-ac69-7f50a65f070c"
      },
      "outputs": [
        {
          "name": "stdout",
          "output_type": "stream",
          "text": [
            "-0.9099999999999998\n"
          ]
        }
      ],
      "source": [
        "from textblob import TextBlob\n",
        "text=\"Ben is very bad\"\n",
        "doc=TextBlob(text)\n",
        "d1=doc.sentiment\n",
        "print(d1.polarity)"
      ]
    },
    {
      "cell_type": "code",
      "execution_count": null,
      "metadata": {
        "colab": {
          "base_uri": "https://localhost:8080/"
        },
        "id": "u7Grx91vO9Dy",
        "outputId": "249f4e65-76b9-468f-bc8d-9afc868e0f71"
      },
      "outputs": [
        {
          "name": "stdout",
          "output_type": "stream",
          "text": [
            "0.9099999999999999\n"
          ]
        }
      ],
      "source": [
        "from textblob import TextBlob\n",
        "text=\"Ben is very good\"\n",
        "doc=TextBlob(text)\n",
        "d=doc.sentiment\n",
        "print(d.polarity)"
      ]
    },
    {
      "cell_type": "code",
      "execution_count": null,
      "metadata": {
        "id": "DgP3V7rteEKM"
      },
      "outputs": [],
      "source": [
        "import spacy\n",
        "from langdetect import detect\n",
        "from textblob import TextBlob\n",
        "class NLPapp:\n",
        "  def __init__(self):\n",
        "    self.database={}\n",
        "    self.first_menu()\n",
        "  def __first_menu(self):\n",
        "    first_menu=input(\"\"\"Enter the option:\n",
        "    1.Register if not a member?\n",
        "    2.Login if already a member?\n",
        "    3.Exit\"\"\")\n",
        "    if first_menu==\"1\":\n",
        "      self.__register()\n",
        "    elif first_menu==\"2\":\n",
        "      self.__login()\n",
        "    else:\n",
        "      exit()\n",
        "  def __register(self):\n",
        "    name=input(\"Enter name: \")\n",
        "    email=input(\"Enter email: \")\n",
        "    password=input(\"Enter password: \")\n",
        "    if email in self.database:\n",
        "      print(\"User already exists\")\n",
        "    else:\n",
        "      self.database[email]=[name,password]\n",
        "      print(\"Registration successfull \")\n",
        "      self.__first_menu()\n",
        "  def __login(self):\n",
        "    email=input(\"Enter email: \")\n",
        "    password=input(\"Enter password: \")\n",
        "    if email in self.database:\n",
        "      if password==self.database[email][1]:\n",
        "        self.second_menu()\n",
        "      else:\n",
        "        print(\"Wrong password!Try again\")\n",
        "        self.__login()\n",
        "    else:\n",
        "      print(\"You are an idiot!Register first\")\n",
        "      self.__first_menu()\n",
        "  def __second_menu(self):\n",
        "    second_input=input(\"\"\"Enter inputs:\n",
        "    1.NER\n",
        "    2.Language detection\n",
        "    3.Sentiment analysis\n",
        "    4.Logout\"\"\")\n",
        "    if second_input==\"1\":\n",
        "      self.__ner()\n",
        "    elif second_input==\"2\":\n",
        "      self.__langdet()\n",
        "    elif second_input==\"3\":\n",
        "      self.__sent()\n",
        "    else:\n",
        "      exit()\n",
        "  def __ner(self):\n",
        "    text=input(\"Enter sentence: \")\n"
      ]
    },
    {
      "cell_type": "code",
      "execution_count": null,
      "metadata": {
        "colab": {
          "base_uri": "https://localhost:8080/"
        },
        "id": "bD92Ln673ZkP",
        "outputId": "c605e6d5-2931-45c5-d399-803ff3b06d21"
      },
      "outputs": [
        {
          "data": {
            "text/plain": [
              "[{'label': 'sadness', 'score': 0.98093181848526},\n",
              " {'label': 'joy', 'score': 0.001407247269526124},\n",
              " {'label': 'love', 'score': 0.0004157320945523679},\n",
              " {'label': 'anger', 'score': 0.01649504341185093},\n",
              " {'label': 'fear', 'score': 0.00039679379551671445},\n",
              " {'label': 'surprise', 'score': 0.00035347335506230593}]"
            ]
          },
          "execution_count": 1,
          "metadata": {},
          "output_type": "execute_result"
        }
      ],
      "source": [
        "d = {'scored_labels': [{'label': 'sadness', 'score': 0.98093181848526}, {'label': 'joy', 'score': 0.001407247269526124}, {'label': 'love', 'score': 0.0004157320945523679}, {'label': 'anger', 'score': 0.01649504341185093}, {'label': 'fear', 'score': 0.00039679379551671445}, {'label': 'surprise', 'score': 0.00035347335506230593}]}\n",
        "d['scored_labels']"
      ]
    },
    {
      "cell_type": "code",
      "execution_count": null,
      "metadata": {
        "colab": {
          "base_uri": "https://localhost:8080/"
        },
        "id": "NHpFLfnE4ChC",
        "outputId": "637cc75d-a59d-4be6-a354-f4e81670e948"
      },
      "outputs": [
        {
          "data": {
            "text/plain": [
              "[(0, {'label': 'sadness', 'score': 0.98093181848526}),\n",
              " (1, {'label': 'joy', 'score': 0.001407247269526124}),\n",
              " (2, {'label': 'love', 'score': 0.0004157320945523679}),\n",
              " (3, {'label': 'anger', 'score': 0.01649504341185093}),\n",
              " (4, {'label': 'fear', 'score': 0.00039679379551671445}),\n",
              " (5, {'label': 'surprise', 'score': 0.00035347335506230593})]"
            ]
          },
          "execution_count": 9,
          "metadata": {},
          "output_type": "execute_result"
        }
      ],
      "source": []
    },
    {
      "cell_type": "code",
      "execution_count": null,
      "metadata": {
        "colab": {
          "base_uri": "https://localhost:8080/",
          "height": 70
        },
        "id": "ObPRNqQo7Jio",
        "outputId": "72f18298-ce4a-4afa-c2d9-9d51ba58ac83"
      },
      "outputs": [
        {
          "name": "stdout",
          "output_type": "stream",
          "text": [
            "[0.98093181848526, 0.001407247269526124, 0.0004157320945523679, 0.01649504341185093, 0.00039679379551671445, 0.00035347335506230593]\n",
            "0\n"
          ]
        },
        {
          "data": {
            "application/vnd.google.colaboratory.intrinsic+json": {
              "type": "string"
            },
            "text/plain": [
              "'sadness'"
            ]
          },
          "execution_count": 16,
          "metadata": {},
          "output_type": "execute_result"
        }
      ],
      "source": [
        "k=[]\n",
        "for i in d['scored_labels']:\n",
        "  k.append(i['score'])\n",
        "print(k)\n",
        "k1=sorted(list(enumerate(k)),key=lambda x:x[1],reverse=True)[0][0]\n",
        "print(k1)\n",
        "d['scored_labels'][k1]['label']\n"
      ]
    },
    {
      "cell_type": "code",
      "execution_count": null,
      "metadata": {
        "colab": {
          "base_uri": "https://localhost:8080/"
        },
        "id": "7EBfHu0A6MuG",
        "outputId": "4e154c70-1520-4eb9-fd2f-9f3ff29f38cb"
      },
      "outputs": [
        {
          "data": {
            "text/plain": [
              "[(0, 0.98093181848526),\n",
              " (1, 0.001407247269526124),\n",
              " (2, 0.0004157320945523679),\n",
              " (3, 0.01649504341185093),\n",
              " (4, 0.00039679379551671445),\n",
              " (5, 0.00035347335506230593)]"
            ]
          },
          "execution_count": 17,
          "metadata": {},
          "output_type": "execute_result"
        }
      ],
      "source": [
        "#how to sort k\n",
        "list(enumerate(k))"
      ]
    },
    {
      "cell_type": "code",
      "execution_count": null,
      "metadata": {
        "colab": {
          "base_uri": "https://localhost:8080/"
        },
        "id": "uG2aeQ6MFA7K",
        "outputId": "34a9ec45-98ed-4ae9-d737-5734bcca62c5"
      },
      "outputs": [
        {
          "data": {
            "text/plain": [
              "[(0, 0.98093181848526),\n",
              " (1, 0.001407247269526124),\n",
              " (2, 0.0004157320945523679),\n",
              " (3, 0.01649504341185093),\n",
              " (4, 0.00039679379551671445),\n",
              " (5, 0.00035347335506230593)]"
            ]
          },
          "execution_count": 18,
          "metadata": {},
          "output_type": "execute_result"
        }
      ],
      "source": [
        "sorted(list(enumerate(k)))"
      ]
    },
    {
      "cell_type": "code",
      "execution_count": null,
      "metadata": {
        "colab": {
          "base_uri": "https://localhost:8080/"
        },
        "id": "86KYHa_PFKY8",
        "outputId": "798aef37-32ed-4b4c-906b-75d3be5881f0"
      },
      "outputs": [
        {
          "data": {
            "text/plain": [
              "[(5, 0.00035347335506230593),\n",
              " (4, 0.00039679379551671445),\n",
              " (2, 0.0004157320945523679),\n",
              " (1, 0.001407247269526124),\n",
              " (3, 0.01649504341185093),\n",
              " (0, 0.98093181848526)]"
            ]
          },
          "execution_count": 19,
          "metadata": {},
          "output_type": "execute_result"
        }
      ],
      "source": [
        "sorted(list(enumerate(k)),key=lambda x:x[1])"
      ]
    },
    {
      "cell_type": "code",
      "execution_count": null,
      "metadata": {
        "colab": {
          "base_uri": "https://localhost:8080/"
        },
        "id": "v_RCexnxHD8v",
        "outputId": "ccfc3642-0c6c-4331-ccb7-ebd520f2bf4e"
      },
      "outputs": [
        {
          "data": {
            "text/plain": [
              "[(0, 0.98093181848526),\n",
              " (3, 0.01649504341185093),\n",
              " (1, 0.001407247269526124),\n",
              " (2, 0.0004157320945523679),\n",
              " (4, 0.00039679379551671445),\n",
              " (5, 0.00035347335506230593)]"
            ]
          },
          "execution_count": 20,
          "metadata": {},
          "output_type": "execute_result"
        }
      ],
      "source": [
        "sorted(list(enumerate(k)),key=lambda x:x[1],reverse=True)"
      ]
    },
    {
      "cell_type": "code",
      "execution_count": null,
      "metadata": {
        "colab": {
          "base_uri": "https://localhost:8080/"
        },
        "id": "zX7w8_MrHOZh",
        "outputId": "c40ab59f-8a94-4900-c8aa-de0f6591d2ba"
      },
      "outputs": [
        {
          "data": {
            "text/plain": [
              "(0, 0.98093181848526)"
            ]
          },
          "execution_count": 21,
          "metadata": {},
          "output_type": "execute_result"
        }
      ],
      "source": [
        "sorted(list(enumerate(k)),key=lambda x:x[1],reverse=True)[0]"
      ]
    },
    {
      "cell_type": "code",
      "execution_count": null,
      "metadata": {
        "colab": {
          "base_uri": "https://localhost:8080/"
        },
        "id": "RPlpC73k_732",
        "outputId": "48a3f613-806d-4f3a-ffb1-0c46e348a657"
      },
      "outputs": [
        {
          "name": "stdout",
          "output_type": "stream",
          "text": [
            "Python is 😀\n"
          ]
        }
      ],
      "source": [
        "import emoji\n",
        "print(emoji.emojize('Python is :grinning_face:'))"
      ]
    },
    {
      "cell_type": "code",
      "execution_count": null,
      "metadata": {
        "colab": {
          "base_uri": "https://localhost:8080/"
        },
        "id": "sJs3oNGSBJEq",
        "outputId": "27f5173a-35f5-43c1-cdf5-3f47fa2483b6"
      },
      "outputs": [
        {
          "name": "stdout",
          "output_type": "stream",
          "text": [
            "Python is 😀\n"
          ]
        }
      ],
      "source": [
        "import emoji\n",
        "print(emoji.emojize('Python is :grinning_face:'))"
      ]
    },
    {
      "cell_type": "code",
      "execution_count": null,
      "metadata": {
        "colab": {
          "base_uri": "https://localhost:8080/"
        },
        "id": "JWIZHmuxAznU",
        "outputId": "f687ca3a-2805-49a8-d324-074ed3c72632"
      },
      "outputs": [
        {
          "name": "stdout",
          "output_type": "stream",
          "text": [
            "Collecting emoji\n",
            "  Downloading emoji-2.8.0-py2.py3-none-any.whl (358 kB)\n",
            "\u001b[?25l     \u001b[90m━━━━━━━━━━━━━━━━━━━━━━━━━━━━━━━━━━━━━━━━\u001b[0m \u001b[32m0.0/358.9 kB\u001b[0m \u001b[31m?\u001b[0m eta \u001b[36m-:--:--\u001b[0m\r\u001b[2K     \u001b[91m━━━━━━━━━━━━\u001b[0m\u001b[90m╺\u001b[0m\u001b[90m━━━━━━━━━━━━━━━━━━━━━━━━━━\u001b[0m \u001b[32m112.6/358.9 kB\u001b[0m \u001b[31m3.1 MB/s\u001b[0m eta \u001b[36m0:00:01\u001b[0m\r\u001b[2K     \u001b[91m━━━━━━━━━━━━━━━━━━━━━━━━━━━━━━━━━━━━━━\u001b[0m\u001b[91m╸\u001b[0m \u001b[32m358.4/358.9 kB\u001b[0m \u001b[31m5.9 MB/s\u001b[0m eta \u001b[36m0:00:01\u001b[0m\r\u001b[2K     \u001b[90m━━━━━━━━━━━━━━━━━━━━━━━━━━━━━━━━━━━━━━━\u001b[0m \u001b[32m358.9/358.9 kB\u001b[0m \u001b[31m4.9 MB/s\u001b[0m eta \u001b[36m0:00:00\u001b[0m\n",
            "\u001b[?25hInstalling collected packages: emoji\n",
            "Successfully installed emoji-2.8.0\n"
          ]
        }
      ],
      "source": [
        "!pip install emoji"
      ]
    },
    {
      "cell_type": "code",
      "execution_count": null,
      "metadata": {
        "colab": {
          "base_uri": "https://localhost:8080/"
        },
        "id": "sH-WOps9BVrN",
        "outputId": "7e60dba6-28f3-4b4c-d67d-0b6153107966"
      },
      "outputs": [
        {
          "name": "stdout",
          "output_type": "stream",
          "text": [
            "Python is 😀\n"
          ]
        }
      ],
      "source": [
        "import emoji\n",
        "print(emoji.emojize('Python is :grinning_face:'))"
      ]
    },
    {
      "cell_type": "code",
      "execution_count": null,
      "metadata": {
        "colab": {
          "base_uri": "https://localhost:8080/"
        },
        "id": "chSZRonFBkk4",
        "outputId": "589b9cdf-8c00-4724-a55e-ddaab9e9dadb"
      },
      "outputs": [
        {
          "name": "stdout",
          "output_type": "stream",
          "text": [
            "Python is 😃\n"
          ]
        }
      ],
      "source": [
        "import emoji\n",
        "print(emoji.emojize('Python is :grinning_face_with_big_eyes:'))"
      ]
    },
    {
      "cell_type": "code",
      "execution_count": null,
      "metadata": {
        "id": "6eaWCNLL8E0C"
      },
      "outputs": [],
      "source": [
        "#Hashing creates a deterministic mapping between keys and thier storage location, given the hash same key, hash function will always produce the same hash code.\n",
        "#The hash code determines where the element should be stored. If there are collissions(i.e multiple keys have the same has code) then that is resolved using linked list or open addressing.\n",
        "#Advantages of hashing\n",
        "#Efficient data retrieval: When you need to access the value related to a key, the hascode of the key is computed and the code directly points to the memory location where the value associated\n",
        "#with the key is stored, In case of sets , when you want to check if an element is in the set, the hashing function calculates the hash code for that item which determine its location in the memory. This\n",
        "#process is typically constant time even for large datasets\n",
        "#Efficient Insertion and Deletion: When you add an element to set or remove it, the hash function creates a hash code which determines its storage location quickly. This allows for constant time average performance.\n",
        "#Space Efficiency: Only the elements that are present in the set need to be stored in the memory and the ones that are absent need not be alloted memory\n",
        "#sets are unordered, set cannot take duplicates and sets only takes immutable datatypes as items also python dictionary can only take immutable datatypes as keys. This is because\n",
        "#different keys would produce different hash codes(which would mean different indexes), so if a key is changed it would point at different indexes where some other key-value pair would\n",
        "#already be existing hence even for one change in key, the entire dictionary would need to be corrected which is a very cumbersome task"
      ]
    },
    {
      "cell_type": "code",
      "execution_count": null,
      "metadata": {
        "id": "-cl7qyizeR-L"
      },
      "outputs": [],
      "source": [
        "#a=10\n",
        "#In python when you create a variable a and assign it value 10 , Python creates an integer object to represent the value 10. This integer object belongs to the int class which is python's\n",
        "#class for integers. Python uses dynamic typing which means that you don't need to explicity declare the datatype of a variable. Instead the type of variable is determined at runtime based on the value it\n",
        "#references."
      ]
    },
    {
      "cell_type": "code",
      "execution_count": null,
      "metadata": {
        "colab": {
          "base_uri": "https://localhost:8080/"
        },
        "id": "AlAoWYo2CgzL",
        "outputId": "04fa9bd4-8b83-4733-fd06-05b36f84e79d"
      },
      "outputs": [
        {
          "name": "stdout",
          "output_type": "stream",
          "text": [
            "True\n"
          ]
        }
      ],
      "source": [
        "a=[1,2,3]\n",
        "b=a\n",
        "b.append(4)\n",
        "print(a is b)"
      ]
    },
    {
      "cell_type": "code",
      "execution_count": null,
      "metadata": {
        "colab": {
          "base_uri": "https://localhost:8080/"
        },
        "id": "3E14HNf1CyrH",
        "outputId": "9a017b60-3350-47a2-a08e-94eb9600704e"
      },
      "outputs": [
        {
          "name": "stdout",
          "output_type": "stream",
          "text": [
            "True\n"
          ]
        }
      ],
      "source": [
        "a=-5\n",
        "b=-5\n",
        "print(a is b)\n",
        "#In Python, small integers(typically ranging between -5 and 256) are cached and reused. This means that when you create integer variables with the same value within the given range, they will often\n",
        "#refer to the same object in memory. This is done for performance optimization to reduce memory usage that is why a is b returns true for range between -5 and 6, for anything beyond this\n",
        "#a is b would return False."
      ]
    },
    {
      "cell_type": "code",
      "execution_count": null,
      "metadata": {
        "colab": {
          "base_uri": "https://localhost:8080/"
        },
        "id": "CZ4FQH0kOfIp",
        "outputId": "8290fdd2-1e2b-4bea-aea0-738f935eceec"
      },
      "outputs": [
        {
          "name": "stdout",
          "output_type": "stream",
          "text": [
            "False\n"
          ]
        }
      ],
      "source": [
        "c=[10]\n",
        "d=[10]\n",
        "print(c is d)\n",
        "#variables actually stores references to objects in the memory location. In python if you create a list or any mutable using literals, new objects are created for each list even if they\n",
        "#have the same content. Hence both these variables references to 2 different objects in the memory location, that is why c is d would evaluate to False"
      ]
    },
    {
      "cell_type": "code",
      "execution_count": null,
      "metadata": {
        "id": "RqguBPmVZpkM"
      },
      "outputs": [],
      "source": [
        "#In python, creating an object using literals means defining the object directly in your code without explicitly invoking constructor or a function. When you create a list(or any other objects) using\n",
        "#literals, you directly specify the value or contents of the object directly within your code. l1=[1,2,3,4,5], in this case [1,2,3,4,5] is the literal representation of a list. You are specifying the contents of the list\n",
        "#directly in your code. similarly u can create other types of objects using literals like integers,strings, tuples and dictionary."
      ]
    },
    {
      "cell_type": "code",
      "execution_count": null,
      "metadata": {
        "id": "zyxo4ziEqK1R"
      },
      "outputs": [],
      "source": [
        "#In Python, objects are created using constructors, which are special methods defined within a class. Constructors are typically used to initialize the attributes(properties) of the objects when it is created.\n",
        "#class is the blueprint for creating objects. It defines the attributes(properties) and methods(functions) that the objects of the class will have\n",
        "class Person:\n",
        "  def __init__(self,name,age):\n",
        "    self.name=name\n",
        "    self.age=age\n",
        "#In this example, we have defined a Person class with an __init__ constructor that initializes name and age attributes of a Person object.\n",
        "person1=Person(\"Alice\",30)\n",
        "#In this code, we create Person object named person1 and pass \"Alice\" and 30 as arguments to the constructor. These values are used to initialize name and age attributes of person1 object\n"
      ]
    },
    {
      "cell_type": "code",
      "execution_count": null,
      "metadata": {
        "colab": {
          "base_uri": "https://localhost:8080/"
        },
        "id": "xnP6paInEVH1",
        "outputId": "5fa4c1b0-b1c9-4ea7-98b0-b29eb839da82"
      },
      "outputs": [
        {
          "name": "stdout",
          "output_type": "stream",
          "text": [
            "False\n"
          ]
        }
      ],
      "source": [
        "c1=1000\n",
        "c2=1000\n",
        "print(c1 is c2)"
      ]
    },
    {
      "cell_type": "code",
      "execution_count": null,
      "metadata": {
        "id": "GUNKPgjPeh1t"
      },
      "outputs": [],
      "source": [
        "#keys in dictionary are always immutable as a mutable item can be changed and the changed key will generate a new hash code when the item is put in a hash function and this hash code\n",
        "#will point to a new address in the memory location at which some other key might be stored hence any change in any of the key items will necessitate the complete overhaul of the entire\n",
        "#dictionary"
      ]
    },
    {
      "cell_type": "code",
      "execution_count": null,
      "metadata": {
        "colab": {
          "base_uri": "https://localhost:8080/"
        },
        "id": "iymNe2_ml2eA",
        "outputId": "d8f88a85-1d24-4e88-aa12-d4d5e8ca405f"
      },
      "outputs": [
        {
          "output_type": "execute_result",
          "data": {
            "text/plain": [
              "[('nitish', 45), ('ankita', 40), ('ankit', 31)]"
            ]
          },
          "metadata": {},
          "execution_count": 1
        }
      ],
      "source": [
        "#The enumerate method adds a counter to an iterable and returns it(the iterable object)\n",
        "L = [('nitish',45),('ankit',31),('ankita',40)]\n",
        "sorted(L,key=lambda x:x[1],reverse=True)"
      ]
    },
    {
      "cell_type": "code",
      "source": [
        "l1=[15,21,13,45]\n",
        "sorted(list(enumerate(l1)),key=lambda x:x[1],reverse=True)"
      ],
      "metadata": {
        "colab": {
          "base_uri": "https://localhost:8080/"
        },
        "id": "guMU2H7cFECG",
        "outputId": "f3c0f688-cbff-4b58-c95e-6a2b6a75e585"
      },
      "execution_count": null,
      "outputs": [
        {
          "output_type": "execute_result",
          "data": {
            "text/plain": [
              "[(3, 45), (1, 21), (0, 15), (2, 13)]"
            ]
          },
          "metadata": {},
          "execution_count": 2
        }
      ]
    },
    {
      "cell_type": "code",
      "source": [
        "l=[1,2,3,4,5,6,7,11,12,13,14,15,16,17,18]\n",
        "l[2:10:2]"
      ],
      "metadata": {
        "colab": {
          "base_uri": "https://localhost:8080/"
        },
        "id": "kFjQX_vRJWXK",
        "outputId": "0a4319e3-0b9c-4f90-9c8e-bccbdd4338a9"
      },
      "execution_count": null,
      "outputs": [
        {
          "output_type": "execute_result",
          "data": {
            "text/plain": [
              "[3, 5, 7, 12]"
            ]
          },
          "metadata": {},
          "execution_count": 6
        }
      ]
    },
    {
      "cell_type": "code",
      "source": [
        "list(enumerate(l,start=10))\n",
        "#we can also change the start value of the counter for enumerate"
      ],
      "metadata": {
        "colab": {
          "base_uri": "https://localhost:8080/"
        },
        "id": "cl5kePnkKKmG",
        "outputId": "a366a2e6-f539-4ec8-a0a3-0c2a71284516"
      },
      "execution_count": null,
      "outputs": [
        {
          "output_type": "execute_result",
          "data": {
            "text/plain": [
              "[(10, 1),\n",
              " (11, 2),\n",
              " (12, 3),\n",
              " (13, 4),\n",
              " (14, 5),\n",
              " (15, 6),\n",
              " (16, 7),\n",
              " (17, 11),\n",
              " (18, 12),\n",
              " (19, 13),\n",
              " (20, 14),\n",
              " (21, 15),\n",
              " (22, 16),\n",
              " (23, 17),\n",
              " (24, 18)]"
            ]
          },
          "metadata": {},
          "execution_count": 7
        }
      ]
    },
    {
      "cell_type": "code",
      "source": [
        "#constructor contains configuration code, such as connection code , connection with database code\n",
        "#constructor is executed when object is created, destructor is executed when object is destroyed\n",
        "#Magic methods have double underscore at the beginning and at the end. These methods have specific meaning and determine how objects would behave under various situations.\n",
        "#__init__ method is automatically called when an object is created from a class. It initializes the object's attributes\n",
        "class person:\n",
        "  def __init__(self,name,age):\n",
        "    self.name=name\n",
        "    self.age=age\n",
        "p1=person(\"Alice\",30)"
      ],
      "metadata": {
        "id": "7m7wk3yuQDPw"
      },
      "execution_count": null,
      "outputs": []
    },
    {
      "cell_type": "code",
      "source": [
        "#__str__(self)-->This method defines the string representation of an object when str() or print() is called on the object\n",
        "class person:\n",
        "  def __init__(self,name,age):\n",
        "    self.name=name\n",
        "    self.age=age\n",
        "  def __str__(self):\n",
        "    return f\"His name is {self.name} and age is {self.age}\"\n",
        "p1=person(\"Alice\",30)\n",
        "print(p1)\n",
        "#__str__ here is a magic function which determines how an object will behave when print() or str() function is called on it."
      ],
      "metadata": {
        "colab": {
          "base_uri": "https://localhost:8080/"
        },
        "id": "RZBAqToXzU5F",
        "outputId": "6d054301-5405-4da3-ca3b-f875a78bc419"
      },
      "execution_count": null,
      "outputs": [
        {
          "output_type": "stream",
          "name": "stdout",
          "text": [
            "His name is Alice and age is 30\n"
          ]
        }
      ]
    },
    {
      "cell_type": "code",
      "source": [
        "#__len__(self)--> This method determines the behaviour of the len() function when called on the object of the class. It should return the length of the object. For example\n",
        "class my_list:\n",
        "  def __init__(self,data):\n",
        "    self.data=data\n",
        "  def __len__(self):\n",
        "    return len(self.data)\n",
        "ln=my_list([1,2,3,4,5])\n",
        "len(ln)"
      ],
      "metadata": {
        "colab": {
          "base_uri": "https://localhost:8080/"
        },
        "id": "ZoWn0XcAfKDa",
        "outputId": "1bdb1a44-63a9-4b3f-a786-66c9f4b82181"
      },
      "execution_count": null,
      "outputs": [
        {
          "output_type": "execute_result",
          "data": {
            "text/plain": [
              "5"
            ]
          },
          "metadata": {},
          "execution_count": 3
        }
      ]
    },
    {
      "cell_type": "code",
      "source": [
        "#__add__(self)--> This method defines the behaviour of '+' operator when used with objects of the class. It should return a new object that represents the result of addition.\n",
        "class Point:\n",
        "  def __init__(self,x,y):\n",
        "    self.x=x\n",
        "    self.y=y\n",
        "  def __add__(self,other):\n",
        "    return Point(self.x+other.x,self.y+other.y)\n",
        "  def __str__(self):\n",
        "    return f\"({self.x},{self.y})\"\n",
        "p1=Point(2,3)\n",
        "p2=Point(5,7)\n",
        "result=p1+p2\n",
        "print(result)\n"
      ],
      "metadata": {
        "colab": {
          "base_uri": "https://localhost:8080/"
        },
        "id": "nGSHZReBjWFp",
        "outputId": "c57a6074-a763-4e2a-af5e-fb4bb639092a"
      },
      "execution_count": null,
      "outputs": [
        {
          "output_type": "stream",
          "name": "stdout",
          "text": [
            "(7,10)\n"
          ]
        }
      ]
    },
    {
      "cell_type": "code",
      "source": [
        "class a:\n",
        "  def __init__(self,x):\n",
        "    self.x=x\n",
        "  def __add__(self,other):\n",
        "    return self.x+other.x\n",
        "  def __str__(self):\n",
        "    return f\"{self.x}\"\n",
        "p1=a(5)\n",
        "p2=a(7)\n",
        "result=p1+p2\n",
        "print(result)\n",
        "#here we are making the objects feel like they are integers\n",
        "\n"
      ],
      "metadata": {
        "colab": {
          "base_uri": "https://localhost:8080/"
        },
        "id": "COmx2-HVsCV-",
        "outputId": "837aaaa4-249d-431f-c054-db9b18700e18"
      },
      "execution_count": null,
      "outputs": [
        {
          "output_type": "stream",
          "name": "stdout",
          "text": [
            "12\n"
          ]
        }
      ]
    },
    {
      "cell_type": "code",
      "source": [
        "#Magic method allows you to customize the behaviour of classes under certain condition for instance __getitem__, __setitem__ is used to customize the behaviour of objects of class and treat them as list\n",
        "#by accessing or setting some values using index numbers\n",
        "class mylist:\n",
        "  def __init__(self,data):\n",
        "    self.data=data\n",
        "  def __getitem__(self,index):\n",
        "    return self.data[index]\n",
        "  def __setitem__(self,index,value):\n",
        "    self.data[index]=value\n",
        "  def __str__(self):\n",
        "    return f\"{self.data}\"\n",
        "a=mylist([11,21,31,41,51,61,71,81])\n",
        "a[1]=112\n",
        "print(a)\n",
        "a[2]\n",
        "#magic methods are used to customize the behavior of objects(under various circumstances). In some cases they are made to behave more like python datatypes."
      ],
      "metadata": {
        "id": "M_BUf15yvtaa",
        "colab": {
          "base_uri": "https://localhost:8080/"
        },
        "outputId": "c8532dd4-dcfa-49b8-e03c-5de10c6e64c7"
      },
      "execution_count": null,
      "outputs": [
        {
          "output_type": "stream",
          "name": "stdout",
          "text": [
            "[11, 112, 31, 41, 51, 61, 71, 81]\n"
          ]
        },
        {
          "output_type": "execute_result",
          "data": {
            "text/plain": [
              "31"
            ]
          },
          "metadata": {},
          "execution_count": 2
        }
      ]
    },
    {
      "cell_type": "code",
      "source": [
        "#constructor is called immediately the moment object is called, It has used to initialize attributes\n",
        "#Although the primary usage of constructor is to initialize attributes of an object, it can also be used for writing configuration codes. When you create an instance of a class, the constructor\n",
        "#is automatically called, we can use this opportunity to perform any necessary configuration, such as establishing connection to database or internet.\n",
        "#Suppose you have a class that interacts with database then in order to ensure that each instance of the class has connection to the database, we can write database configuration code\n",
        "#within the constructor class.\n",
        "import requests\n",
        "\n",
        "class WebServiceClient:\n",
        "    def __init__(self, base_url, api_key=None):\n",
        "        self.base_url = base_url\n",
        "        self.api_key = api_key\n",
        "        self.headers = {'Authorization': f'Bearer {api_key}'} if api_key else {}\n",
        "\n",
        "    def get_resource(self, resource):\n",
        "        response = requests.get(f'{self.base_url}/{resource}', headers=self.headers)\n",
        "        return response.json()\n",
        "\n",
        "    # Other methods for interacting with the web service\n",
        "\n",
        "# Create an instance of WebServiceClient with a base URL and API key\n",
        "client = WebServiceClient('https://api.example.com', 'your_api_key')\n",
        "#If your class interacts with web services or APIs, you can configure internet related settings such as setting of authentication and HTTP client settings"
      ],
      "metadata": {
        "id": "UgklEHPblMdZ"
      },
      "execution_count": null,
      "outputs": []
    },
    {
      "cell_type": "code",
      "source": [
        "#An API Key, is a code passed in by a computer programm calling the api to identify the programme or the user to the website. API keys are used to track and control how APIs are being used\n",
        "#ensuring security, usage limits and monitoring of usage.\n",
        "#identification-API keys are used for the identification of the source of API requests. When you access an API, you need to include the API key in the request. This allows the API provider\n",
        "#to know which application or user is making the request.\n",
        "#AUTHENTICATION-->API keys can also be used for authentication. By requiring an API key, the API provider ensures that only authorized applications and users can their API, without a valid\n",
        "#API key, the API may reject the request.\n",
        "#RATE LIMIT: API providers often impose rate limits on API usage to prevent abuse and ensure fair usage of their services. API key helps in enforcing this limits by allowing only limited\n",
        "#number of API requests per hour, per day, per month based on key's usage plans.\n",
        "#BILLING AND TRACKING--> For APIs that are not free, API keys are often tied to billing. They allow the API providers to track usage and bill users accordingly.\n",
        "#SECURITY--> API keys can also be revoked in case they have been compromised. This ensures security.\n",
        "#SO API KEYS have 4 uses identification(the user,programme sending API requests),Authentication, Rate limiting(number of request in a given time from a particular user),Billing(according to the usage),security"
      ],
      "metadata": {
        "id": "B_xBExCZJ1e2"
      },
      "execution_count": null,
      "outputs": []
    },
    {
      "cell_type": "code",
      "source": [
        "#Like constructor we also have destructor which is used to delete a object from the memory location and it is used to close configuration codes, such as if we had written a configuration code\n",
        "#to connect with database then we would close that in destructor, if we had written a configuration code to open a file in constructor then we would close that file in the destructor, if we had written\n",
        "#configuration code to connect with the internet in the constructor then we would close that connection in the destructor"
      ],
      "metadata": {
        "id": "T7QNK7_r7Qx6"
      },
      "execution_count": null,
      "outputs": []
    },
    {
      "cell_type": "code",
      "source": [
        "#also destructor method is not called until all references to that object is not deleted\n",
        "class example:\n",
        "  def __init__(self):\n",
        "    print(\"Constructor created\")\n",
        "  def __del__(self):\n",
        "    print(\"Delete it\")\n",
        "c1=example()\n",
        "d=c1\n"
      ],
      "metadata": {
        "colab": {
          "base_uri": "https://localhost:8080/"
        },
        "id": "ovVH3hueBLLE",
        "outputId": "197813bb-7aad-432a-d36f-2c9b6d321e45"
      },
      "execution_count": null,
      "outputs": [
        {
          "output_type": "stream",
          "name": "stdout",
          "text": [
            "Constructor created\n"
          ]
        }
      ]
    },
    {
      "cell_type": "code",
      "source": [
        "class example1:\n",
        "  def __init__(self):\n",
        "    print(\"Constructor created\")\n",
        "  def __del__(self):\n",
        "    print(\"Delete it\")\n",
        "c2=example1()\n",
        "d=c2\n",
        "del c2\n",
        "#c2 is pointing to an example1 object, d is also pointing to an example1 object, c2 and d act as references to an example1 object"
      ],
      "metadata": {
        "colab": {
          "base_uri": "https://localhost:8080/"
        },
        "id": "VlhZOi0PMbNB",
        "outputId": "196c4ca5-889e-415c-938a-5bc2a592818e"
      },
      "execution_count": null,
      "outputs": [
        {
          "output_type": "stream",
          "name": "stdout",
          "text": [
            "Constructor created\n"
          ]
        }
      ]
    },
    {
      "cell_type": "code",
      "source": [
        "class example2:\n",
        "  def __init__(self):\n",
        "    print(\"Constructor created\")\n",
        "  def __del__(self):\n",
        "    print(\"destructor created\")\n",
        "c3=example2()\n",
        "d=c3\n",
        "del c3\n",
        "del d\n",
        "#as we can see here, destructor method is called only when all references to the given object has been deleted"
      ],
      "metadata": {
        "id": "E08qhWuBS0UQ",
        "colab": {
          "base_uri": "https://localhost:8080/"
        },
        "outputId": "c395b1f4-5606-4465-c25a-f6edcf952674"
      },
      "execution_count": null,
      "outputs": [
        {
          "output_type": "stream",
          "name": "stdout",
          "text": [
            "Constructor created\n",
            "destructor created\n"
          ]
        }
      ]
    },
    {
      "cell_type": "code",
      "source": [
        "#dir\n",
        "class sam1:\n",
        "  def __init__(self,foo,bar,baz):\n",
        "    self.foo=foo\n",
        "    self._bar=bar\n",
        "    self.__baz=baz\n",
        "  def greet(self):\n",
        "    print(\"He has been greeted\")\n",
        "c111=sam1(11,12,16)\n",
        "dir(c111)\n",
        "#dir(c111) gives us the list of all private,public methods,magic methods, private attributes,public attributes .... associated with the object of a given class\n",
        "#"
      ],
      "metadata": {
        "colab": {
          "base_uri": "https://localhost:8080/"
        },
        "id": "Ml26w2rVf96Z",
        "outputId": "cc6e6be5-b074-4eaa-8b95-4b6a9dcbf258"
      },
      "execution_count": null,
      "outputs": [
        {
          "output_type": "execute_result",
          "data": {
            "text/plain": [
              "['__class__',\n",
              " '__delattr__',\n",
              " '__dict__',\n",
              " '__dir__',\n",
              " '__doc__',\n",
              " '__eq__',\n",
              " '__format__',\n",
              " '__ge__',\n",
              " '__getattribute__',\n",
              " '__gt__',\n",
              " '__hash__',\n",
              " '__init__',\n",
              " '__init_subclass__',\n",
              " '__le__',\n",
              " '__lt__',\n",
              " '__module__',\n",
              " '__ne__',\n",
              " '__new__',\n",
              " '__reduce__',\n",
              " '__reduce_ex__',\n",
              " '__repr__',\n",
              " '__setattr__',\n",
              " '__sizeof__',\n",
              " '__str__',\n",
              " '__subclasshook__',\n",
              " '__weakref__',\n",
              " '_bar',\n",
              " '_sam1__baz',\n",
              " 'foo',\n",
              " 'greet']"
            ]
          },
          "metadata": {},
          "execution_count": 11
        }
      ]
    },
    {
      "cell_type": "code",
      "source": [
        "#Name mangling is a mechanism used to make names of attributes more unique to avoid conflict between attributes of a class and its subclasses. It involves adding a prefix of 2 underscores\n",
        "#to attribute names to make it harder to accidently override them in subclasses. If python encounters an attribute name starting with double underscore, it automatically renames the attribute by adding\n",
        "#_classname at the beginning where classname is the name of the current class.\n",
        "class myclass:\n",
        "  def __init__(self):\n",
        "    self.__privatevar=100\n",
        "  def get_var(self):\n",
        "    return self.__privatevar\n",
        "class myclass2(myclass):\n",
        "  def __init__(self):\n",
        "    self.__privatevar=42\n",
        "    super().__init__()\n",
        "  def gets_var(self):\n",
        "    return self.__privatevar\n",
        "m=myclass2()\n",
        "m.gets_var()\n",
        "#As we can see here even though the constructor of the super class has been called, the __privatevar variable within myclass2 class is still pointing at 42 even though there is also\n",
        "#a __privatevar variable in the superclass(myclass) but still the __privatevar variable has not been overridden primarily because as a result of name mangling python ensures that the moment\n",
        "#any attribute name starting with double underscore(__) is encountered , python automatically renames the attribute name with _classname__attributename ...."
      ],
      "metadata": {
        "id": "Otc1mEc_q0hH",
        "colab": {
          "base_uri": "https://localhost:8080/"
        },
        "outputId": "03ff328f-2251-46f2-e927-16d2cf4db4ad"
      },
      "execution_count": null,
      "outputs": [
        {
          "output_type": "execute_result",
          "data": {
            "text/plain": [
              "42"
            ]
          },
          "metadata": {},
          "execution_count": 5
        }
      ]
    },
    {
      "cell_type": "code",
      "source": [
        "#magic methods would exist and get executed by default even if you don't explicity define it in your object's class"
      ],
      "metadata": {
        "id": "-6_9P17z-BN6"
      },
      "execution_count": null,
      "outputs": []
    },
    {
      "cell_type": "code",
      "source": [
        "class nambo:\n",
        "  def __init__(self):\n",
        "    pass\n",
        "class dumb(nambo):\n",
        "  pass\n",
        "c14=dumb()\n",
        "issubclass(dumb,nambo)\n",
        "#checks whether dumb is a subcalss of nambo or not, returns True if dumb indeed is a subclass of nambo else returns False"
      ],
      "metadata": {
        "colab": {
          "base_uri": "https://localhost:8080/"
        },
        "id": "tq7Y3UNoGFdw",
        "outputId": "bc911e64-82f0-430a-dd17-af45a93b868e"
      },
      "execution_count": null,
      "outputs": [
        {
          "output_type": "execute_result",
          "data": {
            "text/plain": [
              "True"
            ]
          },
          "metadata": {},
          "execution_count": 11
        }
      ]
    },
    {
      "cell_type": "code",
      "source": [
        "isinstance(c14,dumb)\n",
        "#isinstance() functs checks whether c14 is an instance of dumb class or not whereas issubclass previously checked whether dumb was a subclass of nambo class or not"
      ],
      "metadata": {
        "colab": {
          "base_uri": "https://localhost:8080/"
        },
        "id": "jCBJoqViG5_3",
        "outputId": "a327b5f6-180b-42ff-9b07-910075078725"
      },
      "execution_count": null,
      "outputs": [
        {
          "output_type": "execute_result",
          "data": {
            "text/plain": [
              "True"
            ]
          },
          "metadata": {},
          "execution_count": 13
        }
      ]
    },
    {
      "cell_type": "code",
      "source": [
        "class Dog():\n",
        "    def speak(self):\n",
        "        return \"Woof!\"\n",
        "\n",
        "class Cat():\n",
        "    def speak(self):\n",
        "        return \"Meow!\"\n",
        "\n",
        "def animal_sound(animal):\n",
        "    return animal.speak()\n",
        "\n",
        "dog = Dog()\n",
        "cat = Cat()\n",
        "\n",
        "print(animal_sound(dog))  # Output: Woof!\n",
        "print(animal_sound(cat))  # Output: Meow!\n"
      ],
      "metadata": {
        "colab": {
          "base_uri": "https://localhost:8080/"
        },
        "id": "-NafO1dmHYme",
        "outputId": "38560250-9030-4892-deb8-635f11a1aebe"
      },
      "execution_count": null,
      "outputs": [
        {
          "output_type": "stream",
          "name": "stdout",
          "text": [
            "Woof!\n",
            "Meow!\n"
          ]
        }
      ]
    },
    {
      "cell_type": "code",
      "source": [
        "d=(1,2,3)\n",
        "print(id(d))\n",
        "d=d+(4,)\n",
        "print(d)\n",
        "print(id(d))\n"
      ],
      "metadata": {
        "colab": {
          "base_uri": "https://localhost:8080/"
        },
        "id": "o1IHXuLOrRNP",
        "outputId": "bcc36979-93ba-47ca-b3b2-03f459b83d94"
      },
      "execution_count": null,
      "outputs": [
        {
          "output_type": "stream",
          "name": "stdout",
          "text": [
            "132539626597440\n",
            "(1, 2, 3, 4)\n",
            "132540035641600\n"
          ]
        }
      ]
    },
    {
      "cell_type": "code",
      "source": [
        "from os import set_inheritable\n",
        "#Polymorphism is a term derived from greek words \"Poly\" and \"morph, so it literally means many forms. In the context of OOP, polymorphism refers to the ability of many classes to be treated\n",
        "#as instance of the same class through a superclass.\n",
        "#In OOP system, you can create different classes to model different type of objects. For example you might have classes like circle,rectangle and triangle to represent different shapes.\n",
        "#To achieve polymorphism, you define a common class or superclass which defines a set of methods or behaviour that all the other classes should have but they can be implemented differently.\n",
        "#For instance, you might define an interface called shape with a method calculate_area(). All the shape classes(circle, triangle, rectangle) should have this method, but they will calulate\n",
        "#the areas differently.\n",
        "# Lastly because all these classes share a common interface, you can treat all these classes as instances of a class. This means that you can use a generic way to interact with objects regardless of\n",
        "# their type.\n",
        "from abc import ABC,abstractmethod\n",
        "class shape(ABC):\n",
        "  @abstractmethod\n",
        "  def calculate_area(self):\n",
        "    pass\n",
        "class circle(shape):\n",
        "  def __init__(self,rad):\n",
        "    self.radius=rad\n",
        "  def calculate_area(self):\n",
        "    return 3.14*self.radius*self.radius\n",
        "class rectangle(shape):\n",
        "  def __init__(self,length,breadth):\n",
        "    self.length=length\n",
        "    self.breadth=breadth\n",
        "  def calculate_area(self):\n",
        "    return self.length*self.breadth\n",
        "c=circle(5)\n",
        "d=rectangle(3,4)\n",
        "d1=[c,d]\n",
        "for shape in d1:\n",
        "  print(f\"Area: {shape.calculate_area()}\")\n",
        "#In this example, d1 list contains objects of different classes but since they share a common interface(shape), you can treat them uniformly by calling calculate_area()\n",
        "#As you can see over here, the superclass(interface) has defined a set of behaviour/methods which the subclasses should inherit although it can be implemented differently"
      ],
      "metadata": {
        "colab": {
          "base_uri": "https://localhost:8080/"
        },
        "id": "CktwOQDPLbpg",
        "outputId": "c3f771e3-5abd-4b4b-ad60-b90145363c86"
      },
      "execution_count": null,
      "outputs": [
        {
          "output_type": "stream",
          "name": "stdout",
          "text": [
            "Area: 78.5\n",
            "Area: 12\n"
          ]
        }
      ]
    },
    {
      "cell_type": "code",
      "source": [
        "#Advantages of polymorphism includes\n",
        "#Code Reusability-->You can create a common interface or superclass which would define methods that are in demand by multiple classes in the super class and then those methods can be inherited\n",
        "#as it is or modified in some cases by some classes. This increases Code Reusability.If 4/5 classes are using few methods then we don't need to to write the same method in all those classes, we can just write those\n",
        "#methods in 1 class and inherit the class as superclass in all the other classes that need those methods.\n",
        "#ENCAPSULATION--> By using polymorphism we can make can clear distinction between the implementation(of a few methods) within the child classes and the interface(super class), we don't need to make changes\n",
        "#to the super class(in some of the methods) for or job, we might just inherit the super class, and make changes to the respective method using method overriding."
      ],
      "metadata": {
        "id": "wJsn9POr21Xp"
      },
      "execution_count": null,
      "outputs": []
    },
    {
      "cell_type": "code",
      "source": [
        "#If a class D has multiple parent classes(B and C) and if both B and C has a method m1 then method resolution order(MRO) will determine whose method m1 will be overriding whom. For\n",
        "# example if D(B,C) is passed then m1 method of B will over-ride the m1 method of C, similarly if D(C,B) is passed then m1 method of C will over-ride the m1 method of B."
      ],
      "metadata": {
        "id": "NCdl-5noC8Ae"
      },
      "execution_count": null,
      "outputs": []
    },
    {
      "cell_type": "code",
      "source": [
        "class class1:\n",
        "  def m1(self):\n",
        "    print(\"Class1 called\")\n",
        "class class2(class1):\n",
        "  def m1(self):\n",
        "    print(\"Class2 called\")\n",
        "class class3(class1):\n",
        "  def m1(self):\n",
        "    print(\"Class3 called\")\n",
        "class class4(class2,class3):\n",
        "  pass\n",
        "k=class4()\n",
        "k.m1()"
      ],
      "metadata": {
        "colab": {
          "base_uri": "https://localhost:8080/"
        },
        "id": "BLOwHy_9xgWH",
        "outputId": "c65666d5-1f62-48af-85be-d42098e147a2"
      },
      "execution_count": null,
      "outputs": [
        {
          "output_type": "stream",
          "name": "stdout",
          "text": [
            "Class2 called\n"
          ]
        }
      ]
    },
    {
      "cell_type": "code",
      "source": [
        "class class1:\n",
        "  def m1(self):\n",
        "    print(\"Class1 called\")\n",
        "class class2(class1):\n",
        "  def m1(self):\n",
        "    print(\"Class2 called\")\n",
        "class class3(class1):\n",
        "  def m1(self):\n",
        "    print(\"Class3 called\")\n",
        "class class4(class3,class2):\n",
        "  pass\n",
        "k=class4()\n",
        "k.m1()\n",
        "#so whose method will be called depends upon method resolution order class3 was called in first case over here"
      ],
      "metadata": {
        "colab": {
          "base_uri": "https://localhost:8080/"
        },
        "id": "nO4caAmy1quD",
        "outputId": "a07cfd6e-c095-4789-810d-d6e735d799aa"
      },
      "execution_count": null,
      "outputs": [
        {
          "output_type": "stream",
          "name": "stdout",
          "text": [
            "Class3 called\n"
          ]
        }
      ]
    },
    {
      "cell_type": "code",
      "source": [
        "#Single underscore before a attribute(variable) name _var is a naming convention in python urging the programmers to not use this variable outside the class, but python won't give\n",
        "#error even if you end up invoking those variables outside the class as shown below\n",
        "class ghumo:\n",
        "  def __init__(self):\n",
        "    self._var=99999\n",
        "c=ghumo()\n",
        "c._var"
      ],
      "metadata": {
        "colab": {
          "base_uri": "https://localhost:8080/"
        },
        "id": "TREI8rj6-NIY",
        "outputId": "d8411fe5-b09f-4f90-c7e8-e5a41741807a"
      },
      "execution_count": null,
      "outputs": [
        {
          "output_type": "execute_result",
          "data": {
            "text/plain": [
              "99999"
            ]
          },
          "metadata": {},
          "execution_count": 6
        }
      ]
    },
    {
      "cell_type": "code",
      "source": [
        "#sometimes the most fitting names for a variable are already taken by keywords, keyword names cannot be used as variable names, so to avoid this naming conflict we append single underscore\n",
        "#to a variable name and it won't give any error\n",
        "def kambho(class_):\n",
        "  pass\n"
      ],
      "metadata": {
        "id": "dB5k-rfLDlmG"
      },
      "execution_count": null,
      "outputs": []
    },
    {
      "cell_type": "code",
      "source": [
        "#Double leading underscore causes the python interpreter to rename the variable name so that collisions or overriding with variable names in the subclasses is prevented.\n",
        "#The overriding is prevented because python interprester automatically changes the name of the variable to _classname__variablename.... which would make variable name in the subclasses\n",
        "#distinct from the variable name in the parent classes . This process of changing name is called name mangling."
      ],
      "metadata": {
        "id": "o2RYpiNZIqQT"
      },
      "execution_count": null,
      "outputs": []
    },
    {
      "cell_type": "code",
      "source": [
        "class mylist:\n",
        "  def __init__(self,data):\n",
        "    self.data=data\n",
        "  def __getitem__(self,index):\n",
        "    return self.data[index]\n",
        "  def __setitem__(self,index,value):\n",
        "    self.data[index]=value\n",
        "  def __str__(self):\n",
        "    return f\"{self.data}\"\n",
        "c=mylist([11,21,31,41,42,43,44,45,21,213,22])\n",
        "c[2]\n",
        "c[2]=99\n",
        "print(c)\n",
        "#return type of __str__ magic method should always be string , double underscores before and after are used by dunder methods or magic methods which are used to customize objects and use\n",
        "#them like any other python datatypes."
      ],
      "metadata": {
        "colab": {
          "base_uri": "https://localhost:8080/"
        },
        "id": "GhNLC54HQ3Sd",
        "outputId": "f6e97d45-dce1-439b-bbc4-6cc360af0de2"
      },
      "execution_count": null,
      "outputs": [
        {
          "output_type": "stream",
          "name": "stdout",
          "text": [
            "[11, 21, 99, 41, 42, 43, 44, 45, 21, 213, 22]\n"
          ]
        }
      ]
    },
    {
      "cell_type": "code",
      "source": [
        "#Single underscore-->These are sometimes used as a name for temporary insignificant variables(also known as \"don't care\" variables in python). for instance\n",
        "for _ in range(2):\n",
        "  print(\"dhoni\")\n",
        "#here \"_\" is as much insignificant as i and my clan is to this country(unless we are ready to defend and die for our honor(as william erskine had once stated in his book about timurids))"
      ],
      "metadata": {
        "colab": {
          "base_uri": "https://localhost:8080/"
        },
        "id": "EBOSOX5xUsd7",
        "outputId": "d689095d-def9-4f93-a0a9-b2a1d8f8bb71"
      },
      "execution_count": null,
      "outputs": [
        {
          "output_type": "stream",
          "name": "stdout",
          "text": [
            "dhoni\n",
            "dhoni\n"
          ]
        }
      ]
    },
    {
      "cell_type": "code",
      "source": [
        "#map() applies a function to each item of a iterable and returns a map object containing the resultant item\n",
        "a=[1,2,3,4,5]\n",
        "d=map(lambda x:x**2,a)\n",
        "print(d)\n",
        "print(list(d))"
      ],
      "metadata": {
        "colab": {
          "base_uri": "https://localhost:8080/"
        },
        "id": "G9yCV5QKV8xB",
        "outputId": "a63a9b33-88ef-4c50-8478-2eb290cd2db2"
      },
      "execution_count": null,
      "outputs": [
        {
          "output_type": "stream",
          "name": "stdout",
          "text": [
            "<map object at 0x7b8b38907310>\n",
            "[1, 4, 9, 16, 25]\n"
          ]
        }
      ]
    },
    {
      "cell_type": "code",
      "source": [
        "#filter function filters elements in the iterable based on the condition set up by function and returns the remainder\n",
        "a=[1,2,3,4,5,6,7,8,9,10,11,12,22,23,24,25,26,30,32,33,34,35,36]\n",
        "d=filter(lambda x:x%2==0,a)\n",
        "print(list(d))"
      ],
      "metadata": {
        "colab": {
          "base_uri": "https://localhost:8080/"
        },
        "id": "zX0x1lq8DUNg",
        "outputId": "61db095e-da5b-47bd-8591-b4768e75413c"
      },
      "execution_count": null,
      "outputs": [
        {
          "output_type": "stream",
          "name": "stdout",
          "text": [
            "[2, 4, 6, 8, 10, 12, 22, 24, 26, 30, 32, 34, 36]\n"
          ]
        }
      ]
    },
    {
      "cell_type": "code",
      "source": [
        "#python supports functional programming where long codes can be written compactly"
      ],
      "metadata": {
        "id": "bMceKP5ydzkT"
      },
      "execution_count": null,
      "outputs": []
    },
    {
      "cell_type": "code",
      "source": [
        "import datetime\n",
        "c=datetime.datetime.now()\n",
        "d=str(c)\n",
        "print(c)\n",
        "print(d)"
      ],
      "metadata": {
        "colab": {
          "base_uri": "https://localhost:8080/"
        },
        "id": "o5jCyODKeJLA",
        "outputId": "1ad17770-935c-4404-ac4b-a4768662ed44"
      },
      "execution_count": null,
      "outputs": [
        {
          "output_type": "stream",
          "name": "stdout",
          "text": [
            "2023-09-23 10:45:11.158454\n",
            "2023-09-23 10:45:11.158454\n"
          ]
        }
      ]
    },
    {
      "cell_type": "code",
      "source": [
        "import datetime\n",
        "c=datetime.datetime.now()\n",
        "d=repr(c)\n",
        "print(c)"
      ],
      "metadata": {
        "colab": {
          "base_uri": "https://localhost:8080/"
        },
        "id": "D3GIBPympMTn",
        "outputId": "c534076f-41f1-4bbc-ffbb-b51cf8fe2d63"
      },
      "execution_count": null,
      "outputs": [
        {
          "output_type": "stream",
          "name": "stdout",
          "text": [
            "2023-09-23 10:52:48.488941\n"
          ]
        }
      ]
    },
    {
      "cell_type": "code",
      "source": [
        "print(d)"
      ],
      "metadata": {
        "colab": {
          "base_uri": "https://localhost:8080/"
        },
        "id": "tb5u3euPpep1",
        "outputId": "2b8a6a0c-bbd1-43cd-af7a-e606f527f55a"
      },
      "execution_count": null,
      "outputs": [
        {
          "output_type": "stream",
          "name": "stdout",
          "text": [
            "datetime.datetime(2023, 9, 23, 10, 52, 48, 488941)\n"
          ]
        }
      ]
    },
    {
      "cell_type": "code",
      "source": [
        "a=\"hello\"\n",
        "print(str(a))\n",
        "print(repr(a))\n",
        "#str function is for readability, repr on the other hand is used by developers for debugging as it can demonstrate the datatype referenced by a variable as well"
      ],
      "metadata": {
        "colab": {
          "base_uri": "https://localhost:8080/"
        },
        "id": "6uGgBQDIvGAm",
        "outputId": "1d28a8d7-a39c-4f50-cdb6-d1065562ccc9"
      },
      "execution_count": null,
      "outputs": [
        {
          "output_type": "stream",
          "name": "stdout",
          "text": [
            "hello\n",
            "'hello'\n"
          ]
        }
      ]
    },
    {
      "cell_type": "code",
      "source": [
        "import datetime\n",
        "a=datetime.datetime.now()\n",
        "b=str(a)\n",
        "print(a)\n",
        "print(str(a))\n",
        "print(str(b))"
      ],
      "metadata": {
        "colab": {
          "base_uri": "https://localhost:8080/"
        },
        "id": "VklTvHIlxSKj",
        "outputId": "515c5e65-2d23-47b9-e034-b489965a38e2"
      },
      "execution_count": null,
      "outputs": [
        {
          "output_type": "stream",
          "name": "stdout",
          "text": [
            "2023-09-23 11:46:53.370139\n",
            "2023-09-23 11:46:53.370139\n",
            "2023-09-23 11:46:53.370139\n"
          ]
        }
      ]
    },
    {
      "cell_type": "code",
      "source": [
        "import datetime\n",
        "a=datetime.datetime.now()\n",
        "b=str(a)\n",
        "print(repr(a))\n",
        "print(repr(b))\n",
        "#repr as you can see can differentiate between datetime object and string but str function cannot"
      ],
      "metadata": {
        "colab": {
          "base_uri": "https://localhost:8080/"
        },
        "id": "5Y-eZNXbzu-6",
        "outputId": "3d451be8-7634-496f-a689-1c1c64761c5c"
      },
      "execution_count": null,
      "outputs": [
        {
          "output_type": "stream",
          "name": "stdout",
          "text": [
            "datetime.datetime(2023, 9, 23, 11, 55, 23, 748730)\n",
            "'2023-09-23 11:55:23.748730'\n"
          ]
        }
      ]
    },
    {
      "cell_type": "code",
      "source": [
        "a=1\n",
        "print(str(a))\n",
        "print(repr(a))"
      ],
      "metadata": {
        "colab": {
          "base_uri": "https://localhost:8080/"
        },
        "id": "H-ksbqEf3a7a",
        "outputId": "9138b7fc-3326-4e39-8d80-4fd654bd113c"
      },
      "execution_count": null,
      "outputs": [
        {
          "output_type": "stream",
          "name": "stdout",
          "text": [
            "1\n",
            "1\n"
          ]
        }
      ]
    },
    {
      "cell_type": "code",
      "source": [
        "a=1.5\n",
        "print(repr(a))\n",
        "#using str we cannot clearly tell if the object at which a variable is referencing is a string object or datetime object, using repr we can clearly tell if the object at which a variable is\n",
        "#referencing is a string object or datetime object , str is for readability and repr is for ambiguity"
      ],
      "metadata": {
        "colab": {
          "base_uri": "https://localhost:8080/"
        },
        "id": "950Jpr7Y3ju-",
        "outputId": "95812c44-e3ea-4e47-e123-d4f2cbc32470"
      },
      "execution_count": null,
      "outputs": [
        {
          "output_type": "stream",
          "name": "stdout",
          "text": [
            "1.5\n"
          ]
        }
      ]
    },
    {
      "cell_type": "code",
      "source": [
        "class MyClass:\n",
        "    def __init__(self, value):\n",
        "        self.value = value\n",
        "\n",
        "# This will raise a TypeError because MyClass instances are unhashable by default\n",
        "obj = MyClass(42)\n",
        "hash(obj)\n"
      ],
      "metadata": {
        "colab": {
          "base_uri": "https://localhost:8080/"
        },
        "id": "0RpL21qZ3okO",
        "outputId": "4e90a6d5-0590-4c3f-d531-415e5227a3ef"
      },
      "execution_count": null,
      "outputs": [
        {
          "output_type": "execute_result",
          "data": {
            "text/plain": [
              "8366886478632"
            ]
          },
          "metadata": {},
          "execution_count": 30
        }
      ]
    },
    {
      "cell_type": "code",
      "source": [
        "obj1=MyClass(42)\n",
        "hash(obj1)"
      ],
      "metadata": {
        "colab": {
          "base_uri": "https://localhost:8080/"
        },
        "id": "CHCXhALRktkB",
        "outputId": "fc327f35-6a20-452b-a112-6da27db6b361"
      },
      "execution_count": null,
      "outputs": [
        {
          "output_type": "execute_result",
          "data": {
            "text/plain": [
              "8366886478104"
            ]
          },
          "metadata": {},
          "execution_count": 31
        }
      ]
    },
    {
      "cell_type": "code",
      "source": [
        "# This will raise a TypeError because sets are unhashable\n",
        "hash({1, 2, 3})\n"
      ],
      "metadata": {
        "colab": {
          "base_uri": "https://localhost:8080/",
          "height": 192
        },
        "id": "tmgbzzrCgJVW",
        "outputId": "d8516ea2-d64d-4d81-f6d5-ff5ebbc18d23"
      },
      "execution_count": null,
      "outputs": [
        {
          "output_type": "error",
          "ename": "TypeError",
          "evalue": "ignored",
          "traceback": [
            "\u001b[0;31m---------------------------------------------------------------------------\u001b[0m",
            "\u001b[0;31mTypeError\u001b[0m                                 Traceback (most recent call last)",
            "\u001b[0;32m<ipython-input-24-04a0a92f87a1>\u001b[0m in \u001b[0;36m<cell line: 2>\u001b[0;34m()\u001b[0m\n\u001b[1;32m      1\u001b[0m \u001b[0;31m# This will raise a TypeError because sets are unhashable\u001b[0m\u001b[0;34m\u001b[0m\u001b[0;34m\u001b[0m\u001b[0m\n\u001b[0;32m----> 2\u001b[0;31m \u001b[0mhash\u001b[0m\u001b[0;34m(\u001b[0m\u001b[0;34m{\u001b[0m\u001b[0;36m1\u001b[0m\u001b[0;34m,\u001b[0m \u001b[0;36m2\u001b[0m\u001b[0;34m,\u001b[0m \u001b[0;36m3\u001b[0m\u001b[0;34m}\u001b[0m\u001b[0;34m)\u001b[0m\u001b[0;34m\u001b[0m\u001b[0;34m\u001b[0m\u001b[0m\n\u001b[0m",
            "\u001b[0;31mTypeError\u001b[0m: unhashable type: 'set'"
          ]
        }
      ]
    },
    {
      "cell_type": "code",
      "source": [
        "# This will raise a TypeError because lists are unhashable\n",
        "hash([1, 2, 3])\n"
      ],
      "metadata": {
        "colab": {
          "base_uri": "https://localhost:8080/",
          "height": 192
        },
        "id": "gnqi8l-MgbK1",
        "outputId": "8688c43a-5f3f-41cc-9913-74ff79cf3aa0"
      },
      "execution_count": null,
      "outputs": [
        {
          "output_type": "error",
          "ename": "TypeError",
          "evalue": "ignored",
          "traceback": [
            "\u001b[0;31m---------------------------------------------------------------------------\u001b[0m",
            "\u001b[0;31mTypeError\u001b[0m                                 Traceback (most recent call last)",
            "\u001b[0;32m<ipython-input-25-b8d13a4e76a0>\u001b[0m in \u001b[0;36m<cell line: 2>\u001b[0;34m()\u001b[0m\n\u001b[1;32m      1\u001b[0m \u001b[0;31m# This will raise a TypeError because lists are unhashable\u001b[0m\u001b[0;34m\u001b[0m\u001b[0;34m\u001b[0m\u001b[0m\n\u001b[0;32m----> 2\u001b[0;31m \u001b[0mhash\u001b[0m\u001b[0;34m(\u001b[0m\u001b[0;34m[\u001b[0m\u001b[0;36m1\u001b[0m\u001b[0;34m,\u001b[0m \u001b[0;36m2\u001b[0m\u001b[0;34m,\u001b[0m \u001b[0;36m3\u001b[0m\u001b[0;34m]\u001b[0m\u001b[0;34m)\u001b[0m\u001b[0;34m\u001b[0m\u001b[0;34m\u001b[0m\u001b[0m\n\u001b[0m",
            "\u001b[0;31mTypeError\u001b[0m: unhashable type: 'list'"
          ]
        }
      ]
    },
    {
      "cell_type": "code",
      "source": [
        "# This will raise a TypeError because dictionaries are unhashable\n",
        "hash({\"a\": 1, \"b\": 2})"
      ],
      "metadata": {
        "colab": {
          "base_uri": "https://localhost:8080/",
          "height": 192
        },
        "id": "6oYH21Tvgc2A",
        "outputId": "50cdf0d0-f1be-4258-fb2f-d20ba03c3e9c"
      },
      "execution_count": null,
      "outputs": [
        {
          "output_type": "error",
          "ename": "TypeError",
          "evalue": "ignored",
          "traceback": [
            "\u001b[0;31m---------------------------------------------------------------------------\u001b[0m",
            "\u001b[0;31mTypeError\u001b[0m                                 Traceback (most recent call last)",
            "\u001b[0;32m<ipython-input-26-fb647a2577dd>\u001b[0m in \u001b[0;36m<cell line: 2>\u001b[0;34m()\u001b[0m\n\u001b[1;32m      1\u001b[0m \u001b[0;31m# This will raise a TypeError because dictionaries are unhashable\u001b[0m\u001b[0;34m\u001b[0m\u001b[0;34m\u001b[0m\u001b[0m\n\u001b[0;32m----> 2\u001b[0;31m \u001b[0mhash\u001b[0m\u001b[0;34m(\u001b[0m\u001b[0;34m{\u001b[0m\u001b[0;34m\"a\"\u001b[0m\u001b[0;34m:\u001b[0m \u001b[0;36m1\u001b[0m\u001b[0;34m,\u001b[0m \u001b[0;34m\"b\"\u001b[0m\u001b[0;34m:\u001b[0m \u001b[0;36m2\u001b[0m\u001b[0;34m}\u001b[0m\u001b[0;34m)\u001b[0m\u001b[0;34m\u001b[0m\u001b[0;34m\u001b[0m\u001b[0m\n\u001b[0m",
            "\u001b[0;31mTypeError\u001b[0m: unhashable type: 'dict'"
          ]
        }
      ]
    },
    {
      "cell_type": "code",
      "source": [
        "class myclass:\n",
        "  def __init__(self,value):\n",
        "    self.value=value\n",
        "  def changer(self,v1):\n",
        "    self.value=v1\n",
        "c=myclass(41)\n",
        "hash(c)"
      ],
      "metadata": {
        "colab": {
          "base_uri": "https://localhost:8080/"
        },
        "id": "4tulH74y5Iuq",
        "outputId": "f350adf9-2041-4a30-a918-b65c0065adcd"
      },
      "execution_count": null,
      "outputs": [
        {
          "output_type": "execute_result",
          "data": {
            "text/plain": [
              "8440230652874"
            ]
          },
          "metadata": {},
          "execution_count": 1
        }
      ]
    },
    {
      "cell_type": "code",
      "source": [
        "class myclass:\n",
        "  def __init__(self,value):\n",
        "    self.value=value\n",
        "  def changer1(self,v1):\n",
        "    self.value=v1\n",
        "c=myclass(32)\n",
        "s={c}\n",
        "print(s)\n",
        "dir(c)\n",
        "#of the many magic methods, methods, attributes present in the object one of them is the __hash__ magic method\n",
        "#sets in python actually don't check for mutability they check for hashability and if the hash functions return an integer value then that object can be an item of set or a key of\n",
        "#dictionary"
      ],
      "metadata": {
        "colab": {
          "base_uri": "https://localhost:8080/"
        },
        "id": "mfefylXcNy-G",
        "outputId": "81f5f399-81e4-46c6-ab29-9c050a31aea4"
      },
      "execution_count": null,
      "outputs": [
        {
          "output_type": "stream",
          "name": "stdout",
          "text": [
            "{<__main__.myclass object at 0x7cc8b6e80af0>}\n"
          ]
        },
        {
          "output_type": "execute_result",
          "data": {
            "text/plain": [
              "['__class__',\n",
              " '__delattr__',\n",
              " '__dict__',\n",
              " '__dir__',\n",
              " '__doc__',\n",
              " '__eq__',\n",
              " '__format__',\n",
              " '__ge__',\n",
              " '__getattribute__',\n",
              " '__gt__',\n",
              " '__hash__',\n",
              " '__init__',\n",
              " '__init_subclass__',\n",
              " '__le__',\n",
              " '__lt__',\n",
              " '__module__',\n",
              " '__ne__',\n",
              " '__new__',\n",
              " '__reduce__',\n",
              " '__reduce_ex__',\n",
              " '__repr__',\n",
              " '__setattr__',\n",
              " '__sizeof__',\n",
              " '__str__',\n",
              " '__subclasshook__',\n",
              " '__weakref__',\n",
              " 'changer1',\n",
              " 'value']"
            ]
          },
          "metadata": {},
          "execution_count": 5
        }
      ]
    },
    {
      "cell_type": "code",
      "source": [
        "class myclass1:\n",
        "  def __init__(self,value):\n",
        "    self.value=value\n",
        "  def __hash__(self):\n",
        "    pass\n",
        "  def change(self,v1):\n",
        "    self.value=v1\n",
        "c=myclass1(45)\n",
        "d={c}\n",
        "print(d)\n",
        "dir(c)\n",
        "#the hash function should always return an integer value, else any attempt to make the object an item of set would return error"
      ],
      "metadata": {
        "colab": {
          "base_uri": "https://localhost:8080/",
          "height": 245
        },
        "id": "fNvE-UNIOfzm",
        "outputId": "7114bf62-7e22-4eaf-b756-3e7843635005"
      },
      "execution_count": null,
      "outputs": [
        {
          "output_type": "error",
          "ename": "TypeError",
          "evalue": "ignored",
          "traceback": [
            "\u001b[0;31m---------------------------------------------------------------------------\u001b[0m",
            "\u001b[0;31mTypeError\u001b[0m                                 Traceback (most recent call last)",
            "\u001b[0;32m<ipython-input-7-7777b96666bf>\u001b[0m in \u001b[0;36m<cell line: 9>\u001b[0;34m()\u001b[0m\n\u001b[1;32m      7\u001b[0m     \u001b[0mself\u001b[0m\u001b[0;34m.\u001b[0m\u001b[0mvalue\u001b[0m\u001b[0;34m=\u001b[0m\u001b[0mv1\u001b[0m\u001b[0;34m\u001b[0m\u001b[0;34m\u001b[0m\u001b[0m\n\u001b[1;32m      8\u001b[0m \u001b[0mc\u001b[0m\u001b[0;34m=\u001b[0m\u001b[0mmyclass1\u001b[0m\u001b[0;34m(\u001b[0m\u001b[0;36m45\u001b[0m\u001b[0;34m)\u001b[0m\u001b[0;34m\u001b[0m\u001b[0;34m\u001b[0m\u001b[0m\n\u001b[0;32m----> 9\u001b[0;31m \u001b[0md\u001b[0m\u001b[0;34m=\u001b[0m\u001b[0;34m{\u001b[0m\u001b[0mc\u001b[0m\u001b[0;34m}\u001b[0m\u001b[0;34m\u001b[0m\u001b[0;34m\u001b[0m\u001b[0m\n\u001b[0m\u001b[1;32m     10\u001b[0m \u001b[0mprint\u001b[0m\u001b[0;34m(\u001b[0m\u001b[0md\u001b[0m\u001b[0;34m)\u001b[0m\u001b[0;34m\u001b[0m\u001b[0;34m\u001b[0m\u001b[0m\n\u001b[1;32m     11\u001b[0m \u001b[0mdir\u001b[0m\u001b[0;34m(\u001b[0m\u001b[0mc\u001b[0m\u001b[0;34m)\u001b[0m\u001b[0;34m\u001b[0m\u001b[0;34m\u001b[0m\u001b[0m\n",
            "\u001b[0;31mTypeError\u001b[0m: __hash__ method should return an integer"
          ]
        }
      ]
    },
    {
      "cell_type": "code",
      "source": [
        "l=[1,2,3]\n",
        "dir(l)"
      ],
      "metadata": {
        "colab": {
          "base_uri": "https://localhost:8080/"
        },
        "id": "_lvBIvZpblSe",
        "outputId": "8b89115e-70a7-4177-dc10-da1ed43af19d"
      },
      "execution_count": null,
      "outputs": [
        {
          "output_type": "execute_result",
          "data": {
            "text/plain": [
              "['__add__',\n",
              " '__class__',\n",
              " '__class_getitem__',\n",
              " '__contains__',\n",
              " '__delattr__',\n",
              " '__delitem__',\n",
              " '__dir__',\n",
              " '__doc__',\n",
              " '__eq__',\n",
              " '__format__',\n",
              " '__ge__',\n",
              " '__getattribute__',\n",
              " '__getitem__',\n",
              " '__gt__',\n",
              " '__hash__',\n",
              " '__iadd__',\n",
              " '__imul__',\n",
              " '__init__',\n",
              " '__init_subclass__',\n",
              " '__iter__',\n",
              " '__le__',\n",
              " '__len__',\n",
              " '__lt__',\n",
              " '__mul__',\n",
              " '__ne__',\n",
              " '__new__',\n",
              " '__reduce__',\n",
              " '__reduce_ex__',\n",
              " '__repr__',\n",
              " '__reversed__',\n",
              " '__rmul__',\n",
              " '__setattr__',\n",
              " '__setitem__',\n",
              " '__sizeof__',\n",
              " '__str__',\n",
              " '__subclasshook__',\n",
              " 'append',\n",
              " 'clear',\n",
              " 'copy',\n",
              " 'count',\n",
              " 'extend',\n",
              " 'index',\n",
              " 'insert',\n",
              " 'pop',\n",
              " 'remove',\n",
              " 'reverse',\n",
              " 'sort']"
            ]
          },
          "metadata": {},
          "execution_count": 8
        }
      ]
    },
    {
      "cell_type": "code",
      "source": [
        "l.__hash__()\n",
        "#lists are not hashable as the hastype of a list is None and so they cannot be part of set"
      ],
      "metadata": {
        "colab": {
          "base_uri": "https://localhost:8080/",
          "height": 175
        },
        "id": "DJdylBWyejT8",
        "outputId": "1766164e-59e1-4195-9dc1-44e39cf8c112"
      },
      "execution_count": null,
      "outputs": [
        {
          "output_type": "error",
          "ename": "TypeError",
          "evalue": "ignored",
          "traceback": [
            "\u001b[0;31m---------------------------------------------------------------------------\u001b[0m",
            "\u001b[0;31mTypeError\u001b[0m                                 Traceback (most recent call last)",
            "\u001b[0;32m<ipython-input-9-43badc6ed4b1>\u001b[0m in \u001b[0;36m<cell line: 1>\u001b[0;34m()\u001b[0m\n\u001b[0;32m----> 1\u001b[0;31m \u001b[0ml\u001b[0m\u001b[0;34m.\u001b[0m\u001b[0m__hash__\u001b[0m\u001b[0;34m(\u001b[0m\u001b[0;34m)\u001b[0m\u001b[0;34m\u001b[0m\u001b[0;34m\u001b[0m\u001b[0m\n\u001b[0m",
            "\u001b[0;31mTypeError\u001b[0m: 'NoneType' object is not callable"
          ]
        }
      ]
    },
    {
      "cell_type": "code",
      "source": [
        "class myclass2:\n",
        "  def __init__(self,value1):\n",
        "    self.value=value1\n",
        "  def __hash__(self):\n",
        "    return 1\n",
        "  def changer(self,v1):\n",
        "    self.value=v1\n",
        "c=myclass2(46)\n",
        "d={c}\n",
        "print(d)\n",
        "dir(c)\n",
        "#as you can see , set is able to accomodate an object as its item as the hash function is now able to return a valid integer value which was not the case earlier"
      ],
      "metadata": {
        "colab": {
          "base_uri": "https://localhost:8080/"
        },
        "id": "zTXLeZN8fRTW",
        "outputId": "2637e904-4f53-4493-ed37-ba8b22fea173"
      },
      "execution_count": null,
      "outputs": [
        {
          "output_type": "stream",
          "name": "stdout",
          "text": [
            "{<__main__.myclass2 object at 0x7cc8849fed40>}\n"
          ]
        },
        {
          "output_type": "execute_result",
          "data": {
            "text/plain": [
              "['__class__',\n",
              " '__delattr__',\n",
              " '__dict__',\n",
              " '__dir__',\n",
              " '__doc__',\n",
              " '__eq__',\n",
              " '__format__',\n",
              " '__ge__',\n",
              " '__getattribute__',\n",
              " '__gt__',\n",
              " '__hash__',\n",
              " '__init__',\n",
              " '__init_subclass__',\n",
              " '__le__',\n",
              " '__lt__',\n",
              " '__module__',\n",
              " '__ne__',\n",
              " '__new__',\n",
              " '__reduce__',\n",
              " '__reduce_ex__',\n",
              " '__repr__',\n",
              " '__setattr__',\n",
              " '__sizeof__',\n",
              " '__str__',\n",
              " '__subclasshook__',\n",
              " '__weakref__',\n",
              " 'changer',\n",
              " 'value']"
            ]
          },
          "metadata": {},
          "execution_count": 11
        }
      ]
    },
    {
      "cell_type": "code",
      "source": [
        "a=\"hello\"\n",
        "hash(a)\n",
        "#all the immutable datatypes in python returns a valid hash value, objects made of user defined classes will also return a valid integer hash value, unless the return Type of hash function\n",
        "#has not been changed to None within the user defined class"
      ],
      "metadata": {
        "colab": {
          "base_uri": "https://localhost:8080/"
        },
        "id": "shO77M8hhtbc",
        "outputId": "48273410-a518-4a1e-93e1-90654e3e944f"
      },
      "execution_count": null,
      "outputs": [
        {
          "output_type": "execute_result",
          "data": {
            "text/plain": [
              "-2724565360600700764"
            ]
          },
          "metadata": {},
          "execution_count": 2
        }
      ]
    },
    {
      "cell_type": "code",
      "source": [
        "a=1\n",
        "hash(a)"
      ],
      "metadata": {
        "colab": {
          "base_uri": "https://localhost:8080/"
        },
        "id": "LFMFS0r-7Hl8",
        "outputId": "3ed0e35c-176f-407c-c89f-35024159043d"
      },
      "execution_count": null,
      "outputs": [
        {
          "output_type": "execute_result",
          "data": {
            "text/plain": [
              "1"
            ]
          },
          "metadata": {},
          "execution_count": 3
        }
      ]
    },
    {
      "cell_type": "code",
      "source": [
        "a=1.5\n",
        "hash(a)"
      ],
      "metadata": {
        "colab": {
          "base_uri": "https://localhost:8080/"
        },
        "id": "XbcnJ6_j7Lcn",
        "outputId": "359a66e6-b952-498b-8188-8d186e896e13"
      },
      "execution_count": null,
      "outputs": [
        {
          "output_type": "execute_result",
          "data": {
            "text/plain": [
              "1152921504606846977"
            ]
          },
          "metadata": {},
          "execution_count": 4
        }
      ]
    },
    {
      "cell_type": "code",
      "source": [
        "a={1,2,3}\n",
        "hash(a)"
      ],
      "metadata": {
        "colab": {
          "base_uri": "https://localhost:8080/",
          "height": 192
        },
        "id": "K1jtqzt77PK4",
        "outputId": "b5f0066a-78a4-49cc-9cf7-1a10e4fd1a97"
      },
      "execution_count": null,
      "outputs": [
        {
          "output_type": "error",
          "ename": "TypeError",
          "evalue": "ignored",
          "traceback": [
            "\u001b[0;31m---------------------------------------------------------------------------\u001b[0m",
            "\u001b[0;31mTypeError\u001b[0m                                 Traceback (most recent call last)",
            "\u001b[0;32m<ipython-input-5-e0d4548a5452>\u001b[0m in \u001b[0;36m<cell line: 2>\u001b[0;34m()\u001b[0m\n\u001b[1;32m      1\u001b[0m \u001b[0ma\u001b[0m\u001b[0;34m=\u001b[0m\u001b[0;34m{\u001b[0m\u001b[0;36m1\u001b[0m\u001b[0;34m,\u001b[0m\u001b[0;36m2\u001b[0m\u001b[0;34m,\u001b[0m\u001b[0;36m3\u001b[0m\u001b[0;34m}\u001b[0m\u001b[0;34m\u001b[0m\u001b[0;34m\u001b[0m\u001b[0m\n\u001b[0;32m----> 2\u001b[0;31m \u001b[0mhash\u001b[0m\u001b[0;34m(\u001b[0m\u001b[0ma\u001b[0m\u001b[0;34m)\u001b[0m\u001b[0;34m\u001b[0m\u001b[0;34m\u001b[0m\u001b[0m\n\u001b[0m",
            "\u001b[0;31mTypeError\u001b[0m: unhashable type: 'set'"
          ]
        }
      ]
    },
    {
      "cell_type": "code",
      "source": [
        "a={'a':1,'b':2,'c':3,'d':4,'e':5}\n",
        "hash(a)"
      ],
      "metadata": {
        "colab": {
          "base_uri": "https://localhost:8080/",
          "height": 192
        },
        "id": "0iLPPbsX7T3h",
        "outputId": "ba6f9940-00c7-43d4-959c-539e02054f9d"
      },
      "execution_count": null,
      "outputs": [
        {
          "output_type": "error",
          "ename": "TypeError",
          "evalue": "ignored",
          "traceback": [
            "\u001b[0;31m---------------------------------------------------------------------------\u001b[0m",
            "\u001b[0;31mTypeError\u001b[0m                                 Traceback (most recent call last)",
            "\u001b[0;32m<ipython-input-6-a8b2b63461c8>\u001b[0m in \u001b[0;36m<cell line: 2>\u001b[0;34m()\u001b[0m\n\u001b[1;32m      1\u001b[0m \u001b[0ma\u001b[0m\u001b[0;34m=\u001b[0m\u001b[0;34m{\u001b[0m\u001b[0;34m'a'\u001b[0m\u001b[0;34m:\u001b[0m\u001b[0;36m1\u001b[0m\u001b[0;34m,\u001b[0m\u001b[0;34m'b'\u001b[0m\u001b[0;34m:\u001b[0m\u001b[0;36m2\u001b[0m\u001b[0;34m,\u001b[0m\u001b[0;34m'c'\u001b[0m\u001b[0;34m:\u001b[0m\u001b[0;36m3\u001b[0m\u001b[0;34m,\u001b[0m\u001b[0;34m'd'\u001b[0m\u001b[0;34m:\u001b[0m\u001b[0;36m4\u001b[0m\u001b[0;34m,\u001b[0m\u001b[0;34m'e'\u001b[0m\u001b[0;34m:\u001b[0m\u001b[0;36m5\u001b[0m\u001b[0;34m}\u001b[0m\u001b[0;34m\u001b[0m\u001b[0;34m\u001b[0m\u001b[0m\n\u001b[0;32m----> 2\u001b[0;31m \u001b[0mhash\u001b[0m\u001b[0;34m(\u001b[0m\u001b[0ma\u001b[0m\u001b[0;34m)\u001b[0m\u001b[0;34m\u001b[0m\u001b[0;34m\u001b[0m\u001b[0m\n\u001b[0m",
            "\u001b[0;31mTypeError\u001b[0m: unhashable type: 'dict'"
          ]
        }
      ]
    },
    {
      "cell_type": "code",
      "source": [
        "#decorator\n",
        "def divide(self,first,second):\n",
        "  return f\"The result is {first/second}\"\n",
        "def swipe_decorator(func):\n",
        "  def swipe(first,second):\n",
        "    if first<second:\n",
        "      first,second=second,first\n",
        "    return func(first,second)\n",
        "  return swipe"
      ],
      "metadata": {
        "id": "dIXeWO0l9pea"
      },
      "execution_count": null,
      "outputs": []
    },
    {
      "cell_type": "code",
      "source": [
        "def function():\n",
        "  print(\"subscribe now\")\n",
        "func=function\n",
        "del function\n",
        "func()\n",
        "#when you create a function and assign it to a variable like func=function, you are essentially creating a reference to the function object, deleting the original name will not delete\n",
        "#the function object in the memory, as long as there are still references to it."
      ],
      "metadata": {
        "colab": {
          "base_uri": "https://localhost:8080/"
        },
        "id": "ogJPNhxW1lMx",
        "outputId": "494122a4-beef-4282-c4e1-d04e8c3a7b5c"
      },
      "execution_count": null,
      "outputs": [
        {
          "output_type": "stream",
          "name": "stdout",
          "text": [
            "subscribe now\n"
          ]
        }
      ]
    },
    {
      "cell_type": "code",
      "source": [
        "#when you create a function and assign it to a variable like func=function, you are essentially creating a reference to the function object, deleting the original name will not delete\n",
        "#the function object in the memory, as long some references to the function object still exists."
      ],
      "metadata": {
        "id": "iYX36iUq_Aq5"
      },
      "execution_count": null,
      "outputs": []
    },
    {
      "cell_type": "code",
      "source": [
        "class MyClass:\n",
        "    class_variable = 0\n",
        "\n",
        "    def __init__(self, instance_variable):\n",
        "        self.instance_variable = instance_variable\n",
        "\n",
        "    def increment_instance_variable(self):\n",
        "        self.instance_variable += 1\n",
        "\n",
        "    @classmethod\n",
        "    def increment_class_variable(cls):\n",
        "        cls.class_variable += 1\n",
        "\n",
        "# Create instances of MyClass\n",
        "obj1 = MyClass(10)\n",
        "obj2 = MyClass(20)\n",
        "\n",
        "# Access and modify instance variables\n",
        "print(\"Initial instance variables:\")\n",
        "print(f\"obj1: {obj1.instance_variable}\")\n",
        "print(f\"obj2: {obj2.instance_variable}\")\n",
        "\n",
        "obj1.increment_instance_variable()  # Increment instance variable of obj1\n",
        "print(\"\\nAfter incrementing obj1's instance variable:\")\n",
        "print(f\"obj1: {obj1.instance_variable}\")\n",
        "print(f\"obj2: {obj2.instance_variable}\")\n",
        "\n",
        "# Access and modify class variable\n",
        "print(\"\\nInitial class variable:\")\n",
        "print(f\"MyClass: {MyClass.class_variable}\")\n",
        "\n",
        "obj1.increment_class_variable()  # Increment class variable using obj1\n",
        "print(\"\\nAfter incrementing class variable using obj1:\")\n",
        "print(f\"MyClass: {MyClass.class_variable}\")\n",
        "\n",
        "obj2.increment_class_variable()  # Increment class variable using obj2\n",
        "print(\"\\nAfter incrementing class variable using obj2:\")\n",
        "print(f\"MyClass: {MyClass.class_variable}\")\n"
      ],
      "metadata": {
        "colab": {
          "base_uri": "https://localhost:8080/"
        },
        "id": "5rTf_kPI_gtZ",
        "outputId": "51416746-4d82-4807-d0e9-14d39d8c6796"
      },
      "execution_count": null,
      "outputs": [
        {
          "output_type": "stream",
          "name": "stdout",
          "text": [
            "Initial instance variables:\n",
            "obj1: 10\n",
            "obj2: 20\n",
            "\n",
            "After incrementing obj1's instance variable:\n",
            "obj1: 11\n",
            "obj2: 20\n",
            "\n",
            "Initial class variable:\n",
            "MyClass: 0\n",
            "\n",
            "After incrementing class variable using obj1:\n",
            "MyClass: 1\n",
            "\n",
            "After incrementing class variable using obj2:\n",
            "MyClass: 2\n"
          ]
        }
      ]
    },
    {
      "cell_type": "code",
      "source": [
        "class myclass:\n",
        "  class_variable=0\n",
        "  def __init__(self,value):\n",
        "    self.value=value\n",
        "  def increment_value(self):\n",
        "    self.value+=1\n",
        "  def increment_class_var(self):\n",
        "    self.__class__.class_variable+=1\n",
        "obj1=myclass(10)\n",
        "obj2=myclass(20)\n",
        "obj1.increment_value()\n",
        "print(obj1.class_variable)\n",
        "obj1.increment_class_var()\n",
        "print(obj1.class_variable)\n",
        "#as you can see, we can access a class variable using class instance and also increment the class variable using instance method by using a object with self.__class__.variablename syntax"
      ],
      "metadata": {
        "colab": {
          "base_uri": "https://localhost:8080/"
        },
        "id": "PtAC25-ZF67h",
        "outputId": "ac209f2b-e71e-4b56-ca1e-4beb54bf74c6"
      },
      "execution_count": null,
      "outputs": [
        {
          "output_type": "stream",
          "name": "stdout",
          "text": [
            "0\n",
            "1\n"
          ]
        }
      ]
    },
    {
      "cell_type": "code",
      "source": [
        "class myclass:\n",
        "  class_variable=0\n",
        "  def __init__(self,value):\n",
        "    self.value=value\n",
        "  @classmethod\n",
        "  def classy(cls):\n",
        "    cls.class_variable+=1\n",
        "obj1=myclass(42)\n",
        "obj2=myclass(44)\n",
        "print(\"Before incrementing\")\n",
        "print(obj1.class_variable)\n",
        "print(obj2.class_variable)\n",
        "print(\"After incrementing\")\n",
        "myclass.classy()\n",
        "print(obj1.class_variable)\n",
        "print(obj2.class_variable)\n",
        "#when you increment the class variable using classname.classvariable , it affects the state of a class for all instances of class, both obj1 and obj2\n",
        "#so instance method takes self as parameter which refers to each instance of class and class method uses @classmethod as decorator and takes in class as parameter\n",
        "#as class methods don't have self as parameter so they cannot change instance variables which are unique to every instance of a class , class method cannot modify object state"
      ],
      "metadata": {
        "colab": {
          "base_uri": "https://localhost:8080/"
        },
        "id": "QTjQipx6cUHY",
        "outputId": "609c11ce-0c85-4f84-cf43-18c0f8479310"
      },
      "execution_count": null,
      "outputs": [
        {
          "output_type": "stream",
          "name": "stdout",
          "text": [
            "Before incrementing\n",
            "0\n",
            "0\n",
            "After incrementing\n",
            "1\n",
            "1\n"
          ]
        }
      ]
    },
    {
      "cell_type": "code",
      "source": [
        "#staticmethod is decorated by @staticmethod , it doesnot take class instances or class as its parameter, it cannot modify class variables or instance variables , it cannot access instance\n",
        "#variables at all, it can acces classvariables because because they lie within their scope....\n",
        "class mantu:\n",
        "  pi=3.14\n",
        "  @staticmethod\n",
        "  def area_circle(rad):\n",
        "    return mantu.pi*rad*rad\n",
        "  @staticmethod\n",
        "  def area_rec(l,b):\n",
        "    return l*b\n",
        "  @staticmethod\n",
        "  def add(x,y):\n",
        "    return x+y\n",
        "  @staticmethod\n",
        "  def subt(x,y):\n",
        "    return x-y\n",
        "print(mantu.area_circle(4))"
      ],
      "metadata": {
        "colab": {
          "base_uri": "https://localhost:8080/"
        },
        "id": "X7aszqA99xaF",
        "outputId": "3dfb6a08-c6bb-46c0-b5f9-8bb6ec6f3ffa"
      },
      "execution_count": null,
      "outputs": [
        {
          "output_type": "stream",
          "name": "stdout",
          "text": [
            "50.24\n"
          ]
        }
      ]
    },
    {
      "cell_type": "code",
      "source": [
        "print(mantu.area_rec(5,6))"
      ],
      "metadata": {
        "colab": {
          "base_uri": "https://localhost:8080/"
        },
        "id": "-QF-HqiZU4GO",
        "outputId": "f6aa639b-3a17-4810-ae7e-31cb3304a19c"
      },
      "execution_count": null,
      "outputs": [
        {
          "output_type": "stream",
          "name": "stdout",
          "text": [
            "30\n"
          ]
        }
      ]
    },
    {
      "cell_type": "code",
      "source": [
        "#In python class is itself an object just like any other objects such as strings,list,int etc, which means that u can assign it to a variable....\n",
        "class nanku:\n",
        "  pass\n",
        "dhanku=nanku\n",
        "#when you are assigning a class to a variable, you are pass the reference of this class object to the variable dhanku"
      ],
      "metadata": {
        "id": "Vdrm91zcwA49"
      },
      "execution_count": null,
      "outputs": []
    },
    {
      "cell_type": "code",
      "source": [
        "class myclass3:\n",
        "  def method(self):\n",
        "    print(\"Instance method \",self)\n",
        "  @classmethod\n",
        "  def classer(cls):\n",
        "    print(\"Class method \",cls)\n",
        "  @staticmethod\n",
        "  def statss():\n",
        "    print(\"Static method\")\n",
        "d=myclass3()\n",
        "d.method()"
      ],
      "metadata": {
        "id": "aeETLQGk1dGC",
        "colab": {
          "base_uri": "https://localhost:8080/"
        },
        "outputId": "71099034-151c-4a80-ea7c-4a022a948d90"
      },
      "execution_count": 1,
      "outputs": [
        {
          "output_type": "stream",
          "name": "stdout",
          "text": [
            "Instance method  <__main__.myclass3 object at 0x7b87e224e560>\n"
          ]
        }
      ]
    },
    {
      "cell_type": "code",
      "source": [
        "d.classer() #as you can see __main__.myclass3 is a reference to the class and not to the class instance, the parameter that class refers to(cls) is the class itself\n",
        "#when classmethod classer is called using d.classer(), python implicitly passes class of the instance, so this is equivalent to myclass3.classer()"
      ],
      "metadata": {
        "colab": {
          "base_uri": "https://localhost:8080/"
        },
        "id": "XMsxHsuRUKqd",
        "outputId": "5d81a97c-140d-4b15-fdcc-4a3bb35903fa"
      },
      "execution_count": 6,
      "outputs": [
        {
          "output_type": "stream",
          "name": "stdout",
          "text": [
            "Class method  <class '__main__.myclass3'>\n"
          ]
        }
      ]
    },
    {
      "cell_type": "code",
      "source": [
        "type(d)"
      ],
      "metadata": {
        "colab": {
          "base_uri": "https://localhost:8080/"
        },
        "id": "5pp81e5jUOI1",
        "outputId": "ed136828-e2a9-4feb-d2e2-10336c1cfb17"
      },
      "execution_count": 3,
      "outputs": [
        {
          "output_type": "execute_result",
          "data": {
            "text/plain": [
              "__main__.myclass3"
            ]
          },
          "metadata": {},
          "execution_count": 3
        }
      ]
    },
    {
      "cell_type": "code",
      "source": [
        "d.statss() #as we can see we can also access the static method using the class instance, the only restriction is that static methods cannot use the class or object instance,\n",
        "#as parameters, they can access the class attribute,but cannot change it, they cannot even access the instance attribute , class attribute can be accessed because those attributes lie\n",
        "#within the scope of static function, on the other hand instance attributes are defined within the constructors"
      ],
      "metadata": {
        "colab": {
          "base_uri": "https://localhost:8080/"
        },
        "id": "S1XJ6HZXUWBj",
        "outputId": "b4a9bd36-e649-4b71-8f1d-8868aa85b671"
      },
      "execution_count": 12,
      "outputs": [
        {
          "output_type": "stream",
          "name": "stdout",
          "text": [
            "Static method\n"
          ]
        }
      ]
    },
    {
      "cell_type": "code",
      "source": [
        "myclass3.classer()"
      ],
      "metadata": {
        "colab": {
          "base_uri": "https://localhost:8080/"
        },
        "id": "OFx8347ea22U",
        "outputId": "62f5456a-c5b5-46e4-86a5-a6f3827d08b1"
      },
      "execution_count": 7,
      "outputs": [
        {
          "output_type": "stream",
          "name": "stdout",
          "text": [
            "Class method  <class '__main__.myclass3'>\n"
          ]
        }
      ]
    },
    {
      "cell_type": "code",
      "source": [
        "myclass3.method(d)"
      ],
      "metadata": {
        "colab": {
          "base_uri": "https://localhost:8080/"
        },
        "id": "YVrQy0u-bAoP",
        "outputId": "b9f60d77-e1db-4fc9-8a0a-4466deb194c6"
      },
      "execution_count": 8,
      "outputs": [
        {
          "output_type": "stream",
          "name": "stdout",
          "text": [
            "Instance method  <__main__.myclass3 object at 0x7b87e224e560>\n"
          ]
        }
      ]
    },
    {
      "cell_type": "code",
      "source": [
        "myclass3.classer()\n",
        "myclass3.statss()\n",
        "myclass3.method()\n",
        "#As you can see both class method and static method can be called using a class but when instance method is called using a class, it returns error"
      ],
      "metadata": {
        "colab": {
          "base_uri": "https://localhost:8080/",
          "height": 262
        },
        "id": "uzsTHUgTbFwb",
        "outputId": "65f0323c-c891-4fb3-af6a-1d2283a02e07"
      },
      "execution_count": 15,
      "outputs": [
        {
          "output_type": "stream",
          "name": "stdout",
          "text": [
            "Class method  <class '__main__.myclass3'>\n",
            "Static method\n"
          ]
        },
        {
          "output_type": "error",
          "ename": "TypeError",
          "evalue": "ignored",
          "traceback": [
            "\u001b[0;31m---------------------------------------------------------------------------\u001b[0m",
            "\u001b[0;31mTypeError\u001b[0m                                 Traceback (most recent call last)",
            "\u001b[0;32m<ipython-input-15-0afd9daa196a>\u001b[0m in \u001b[0;36m<cell line: 3>\u001b[0;34m()\u001b[0m\n\u001b[1;32m      1\u001b[0m \u001b[0mmyclass3\u001b[0m\u001b[0;34m.\u001b[0m\u001b[0mclasser\u001b[0m\u001b[0;34m(\u001b[0m\u001b[0;34m)\u001b[0m\u001b[0;34m\u001b[0m\u001b[0;34m\u001b[0m\u001b[0m\n\u001b[1;32m      2\u001b[0m \u001b[0mmyclass3\u001b[0m\u001b[0;34m.\u001b[0m\u001b[0mstatss\u001b[0m\u001b[0;34m(\u001b[0m\u001b[0;34m)\u001b[0m\u001b[0;34m\u001b[0m\u001b[0;34m\u001b[0m\u001b[0m\n\u001b[0;32m----> 3\u001b[0;31m \u001b[0mmyclass3\u001b[0m\u001b[0;34m.\u001b[0m\u001b[0mmethod\u001b[0m\u001b[0;34m(\u001b[0m\u001b[0;34m)\u001b[0m\u001b[0;34m\u001b[0m\u001b[0;34m\u001b[0m\u001b[0m\n\u001b[0m\u001b[1;32m      4\u001b[0m \u001b[0;31m#As you can see both class method and static method can be called using a class but when instance method is called using a class, it returns error\u001b[0m\u001b[0;34m\u001b[0m\u001b[0;34m\u001b[0m\u001b[0m\n",
            "\u001b[0;31mTypeError\u001b[0m: myclass3.method() missing 1 required positional argument: 'self'"
          ]
        }
      ]
    },
    {
      "cell_type": "code",
      "source": [
        "#Thus static methods can have neither class instance nor class as their parameters, they can access only class variables(as they lie within their scope) but cannot manipulate it, theycan be called using both class and class instance, they cannot be access instance variables(as they are outside their scope and defined within the constructor)\n",
        "#instance methods can be accessed only by the class instance but they can access class variables and manioulate them as well, they can access instance variables and manipulate them as well\n",
        "#class methods can only access class variables and any change in class variables will be reflected on all instances of classes\n"
      ],
      "metadata": {
        "id": "9ChLs0bFm3Ml"
      },
      "execution_count": 18,
      "outputs": []
    },
    {
      "cell_type": "code",
      "source": [
        "class mine:\n",
        "  class_var=0\n",
        "  def __init__(self,v):\n",
        "    self.value=v\n",
        "  def incrr(self):\n",
        "    mine.class_var+=1\n",
        "obj1=mine(42)\n",
        "obj2=mine(44)\n",
        "print(obj1.class_var)\n",
        "obj1.incrr()\n",
        "print(obj1.class_var)\n",
        "print(obj2.class_var)\n"
      ],
      "metadata": {
        "colab": {
          "base_uri": "https://localhost:8080/"
        },
        "id": "PnDwBlSNnvkI",
        "outputId": "0ec08197-d572-4a86-cd38-dad300ae528b"
      },
      "execution_count": 17,
      "outputs": [
        {
          "output_type": "stream",
          "name": "stdout",
          "text": [
            "0\n",
            "1\n",
            "1\n"
          ]
        }
      ]
    }
  ],
  "metadata": {
    "colab": {
      "provenance": []
    },
    "kernelspec": {
      "display_name": "Python 3",
      "name": "python3"
    },
    "language_info": {
      "name": "python"
    }
  },
  "nbformat": 4,
  "nbformat_minor": 0
}